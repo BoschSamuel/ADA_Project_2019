{
 "cells": [
  {
   "cell_type": "markdown",
   "metadata": {
    "colab_type": "text",
    "id": "K8AOhhpUrv2H"
   },
   "source": [
    "# How to Ride the Shopping Cart\n",
    "\n",
    "## Abstract\n",
    "\n",
    "Let’s face it: grocery shopping is not a skill most of us intentionally invested effort in pursuing. However, people more than often find themselves in situations where they return home with two bags of groceries and realize that they are missing the only item they initially were out for. Sometimes, not having a clear idea about our inventory state, we end up being tempted into the all sorts of treats that are over and above our necessities. Or we buy products to showcase our cooking abilities for the family dinner but somehow, we end up with the fridge full of everything, hoping to roll up our sleeves tomorrow. We are often surprised by the number of items we throw away because the expiration date passed two months ago! However, that could change...\n",
    "\n",
    "## Main Research Question\n",
    "\n",
    "In this notebook we try to address the following research question:\n",
    "\n",
    "- Interplay between income and expenses?\n",
    "\n",
    "### Sub-Questions\n",
    "\n",
    "In particular, we are interested in the following sub-questions:\n",
    "\n",
    "- How do households choose to organize their limited annual income according to their shopping expenses?\n",
    "\n",
    "- Can we infer different household types based on the relation between their income and transaction statistics?\n",
    "\n",
    "- Are some demographic properties of the household's indicators of this relation as well? That is, can we infer common family values indirectly from this data? "
   ]
  },
  {
   "cell_type": "code",
   "execution_count": 1,
   "metadata": {
    "ExecuteTime": {
     "end_time": "2019-12-18T20:46:46.505462Z",
     "start_time": "2019-12-18T20:46:44.815058Z"
    },
    "colab": {},
    "colab_type": "code",
    "id": "s5pz1mIZrv2K"
   },
   "outputs": [],
   "source": [
    "import numpy as np\n",
    "import pandas as pd\n",
    "import seaborn as sns\n",
    "from matplotlib import pyplot as plt\n",
    "from scipy import stats\n",
    "from ipysankeywidget import SankeyWidget\n",
    "from ipywidgets import Layout, Dropdown\n",
    "from IPython.display import display\n",
    "import plotly.express as px\n",
    "import plotly.figure_factory as ff\n",
    "from plotly.subplots import make_subplots\n",
    "import plotly.graph_objects as go\n",
    "from plotly.colors import DEFAULT_PLOTLY_COLORS as colors\n",
    "\n",
    "sns.set(style='whitegrid')\n",
    "\n",
    "np.set_printoptions(suppress=True)"
   ]
  },
  {
   "cell_type": "code",
   "execution_count": 2,
   "metadata": {
    "ExecuteTime": {
     "end_time": "2019-12-18T20:46:46.509437Z",
     "start_time": "2019-12-18T20:46:46.506410Z"
    },
    "colab": {},
    "colab_type": "code",
    "id": "u6EWQ8YXrv2T"
   },
   "outputs": [],
   "source": [
    "DATA_DIR = 'data/'\n",
    "\n",
    "CAMPAIGN_DESC = 'campaign_desc.csv'\n",
    "CAMPAIGN_TABLE = 'campaign_table.csv'\n",
    "CAUSAL_DATA = 'causal_data.csv'\n",
    "COUPON = 'coupon.csv'\n",
    "COUPON_REDEMPT = 'coupon_redempt.csv'\n",
    "HH_DEMOGRAPHIC = 'hh_demographic.csv'\n",
    "PRODUCT = 'product.csv'\n",
    "TRANSACTION_DATA = 'transaction_data.csv'"
   ]
  },
  {
   "cell_type": "markdown",
   "metadata": {
    "colab_type": "text",
    "id": "xWb3NjDTrv2b",
    "toc-hr-collapsed": true,
    "toc-nb-collapsed": true
   },
   "source": [
    "## Part 1: Introduction"
   ]
  },
  {
   "cell_type": "markdown",
   "metadata": {
    "colab_type": "text",
    "id": "eyyh-bMprv2d"
   },
   "source": [
    "There are several factors that contribute to how people spend their annual income:\n",
    "\n",
    "1. Income category\n",
    "    - In our dataset we have several categories ranging from below **15,000** to over **250,000 USD p.a.**\n",
    "2. Shopping behavior\n",
    "    - It mainly depends on the day of the week\n",
    "2. Campaigns play a major role\n",
    "    - Some households take active participation in campaigns which significantly lowers the expenses\n",
    "3. Products vary in price\n",
    "    - Some products are much more expensive than others, nonetheless their purchase is unavoidable\n",
    "4. Households preferences\n",
    "    - Households with lower income tend to buy low-budget goods, as opposed to households with higher income that buy high-end goods (like organic food)\n",
    "5. Demographics\n",
    "\n",
    "To begin answering our question, we first perform data exploration on the **Dunnhumby** dataset to get initial insight for the task."
   ]
  },
  {
   "cell_type": "markdown",
   "metadata": {
    "colab_type": "text",
    "id": "-4n1pHHJrv2f",
    "toc-hr-collapsed": true,
    "toc-nb-collapsed": true
   },
   "source": [
    "## Part 2: Preprocessing"
   ]
  },
  {
   "cell_type": "markdown",
   "metadata": {
    "colab_type": "text",
    "id": "S63_2-onrv2g"
   },
   "source": [
    "### Loading the Data"
   ]
  },
  {
   "cell_type": "markdown",
   "metadata": {
    "colab_type": "text",
    "id": "s7m84fOirv2h"
   },
   "source": [
    "For this research question, we will mainly work with the `hh_demographic` and `transaction_data` datasets."
   ]
  },
  {
   "cell_type": "code",
   "execution_count": 3,
   "metadata": {
    "ExecuteTime": {
     "end_time": "2019-12-18T20:46:46.532341Z",
     "start_time": "2019-12-18T20:46:46.510433Z"
    },
    "colab": {
     "base_uri": "https://localhost:8080/",
     "height": 306
    },
    "colab_type": "code",
    "id": "NQ-S_b64rv2i",
    "outputId": "e7b40c2f-8a4e-4d3b-f39a-c3fa300345be",
    "scrolled": true
   },
   "outputs": [
    {
     "name": "stdout",
     "output_type": "stream",
     "text": [
      "Number of households: 801\n"
     ]
    },
    {
     "data": {
      "text/html": [
       "<div>\n",
       "<style scoped>\n",
       "    .dataframe tbody tr th:only-of-type {\n",
       "        vertical-align: middle;\n",
       "    }\n",
       "\n",
       "    .dataframe tbody tr th {\n",
       "        vertical-align: top;\n",
       "    }\n",
       "\n",
       "    .dataframe thead th {\n",
       "        text-align: right;\n",
       "    }\n",
       "</style>\n",
       "<table border=\"1\" class=\"dataframe\">\n",
       "  <thead>\n",
       "    <tr style=\"text-align: right;\">\n",
       "      <th></th>\n",
       "      <th>AGE_DESC</th>\n",
       "      <th>MARITAL_STATUS_CODE</th>\n",
       "      <th>INCOME_DESC</th>\n",
       "      <th>HOMEOWNER_DESC</th>\n",
       "      <th>HH_COMP_DESC</th>\n",
       "      <th>HOUSEHOLD_SIZE_DESC</th>\n",
       "      <th>KID_CATEGORY_DESC</th>\n",
       "    </tr>\n",
       "    <tr>\n",
       "      <th>household_key</th>\n",
       "      <th></th>\n",
       "      <th></th>\n",
       "      <th></th>\n",
       "      <th></th>\n",
       "      <th></th>\n",
       "      <th></th>\n",
       "      <th></th>\n",
       "    </tr>\n",
       "  </thead>\n",
       "  <tbody>\n",
       "    <tr>\n",
       "      <td>1</td>\n",
       "      <td>65+</td>\n",
       "      <td>A</td>\n",
       "      <td>35-49K</td>\n",
       "      <td>Homeowner</td>\n",
       "      <td>2 Adults No Kids</td>\n",
       "      <td>2</td>\n",
       "      <td>None/Unknown</td>\n",
       "    </tr>\n",
       "    <tr>\n",
       "      <td>7</td>\n",
       "      <td>45-54</td>\n",
       "      <td>A</td>\n",
       "      <td>50-74K</td>\n",
       "      <td>Homeowner</td>\n",
       "      <td>2 Adults No Kids</td>\n",
       "      <td>2</td>\n",
       "      <td>None/Unknown</td>\n",
       "    </tr>\n",
       "    <tr>\n",
       "      <td>8</td>\n",
       "      <td>25-34</td>\n",
       "      <td>U</td>\n",
       "      <td>25-34K</td>\n",
       "      <td>Unknown</td>\n",
       "      <td>2 Adults Kids</td>\n",
       "      <td>3</td>\n",
       "      <td>1</td>\n",
       "    </tr>\n",
       "    <tr>\n",
       "      <td>13</td>\n",
       "      <td>25-34</td>\n",
       "      <td>U</td>\n",
       "      <td>75-99K</td>\n",
       "      <td>Homeowner</td>\n",
       "      <td>2 Adults Kids</td>\n",
       "      <td>4</td>\n",
       "      <td>2</td>\n",
       "    </tr>\n",
       "    <tr>\n",
       "      <td>16</td>\n",
       "      <td>45-54</td>\n",
       "      <td>B</td>\n",
       "      <td>50-74K</td>\n",
       "      <td>Homeowner</td>\n",
       "      <td>Single Female</td>\n",
       "      <td>1</td>\n",
       "      <td>None/Unknown</td>\n",
       "    </tr>\n",
       "  </tbody>\n",
       "</table>\n",
       "</div>"
      ],
      "text/plain": [
       "              AGE_DESC MARITAL_STATUS_CODE INCOME_DESC HOMEOWNER_DESC  \\\n",
       "household_key                                                           \n",
       "1                  65+                   A      35-49K      Homeowner   \n",
       "7                45-54                   A      50-74K      Homeowner   \n",
       "8                25-34                   U      25-34K        Unknown   \n",
       "13               25-34                   U      75-99K      Homeowner   \n",
       "16               45-54                   B      50-74K      Homeowner   \n",
       "\n",
       "                   HH_COMP_DESC HOUSEHOLD_SIZE_DESC KID_CATEGORY_DESC  \n",
       "household_key                                                          \n",
       "1              2 Adults No Kids                   2      None/Unknown  \n",
       "7              2 Adults No Kids                   2      None/Unknown  \n",
       "8                 2 Adults Kids                   3                 1  \n",
       "13                2 Adults Kids                   4                 2  \n",
       "16                Single Female                   1      None/Unknown  "
      ]
     },
     "execution_count": 3,
     "metadata": {},
     "output_type": "execute_result"
    }
   ],
   "source": [
    "# Load the data from hh_demographic.csv\n",
    "df_hh_demographic = pd.read_csv(DATA_DIR + HH_DEMOGRAPHIC, index_col='household_key')\n",
    "\n",
    "print('Number of households:', len(df_hh_demographic))\n",
    "\n",
    "df_hh_demographic.head()"
   ]
  },
  {
   "cell_type": "code",
   "execution_count": 4,
   "metadata": {
    "ExecuteTime": {
     "end_time": "2019-12-18T20:46:48.085114Z",
     "start_time": "2019-12-18T20:46:46.533338Z"
    },
    "colab": {
     "base_uri": "https://localhost:8080/",
     "height": 241
    },
    "colab_type": "code",
    "id": "C3SxUyV2rv2o",
    "outputId": "28bfdf0e-ee95-4f57-847c-c39aa65829ed"
   },
   "outputs": [
    {
     "name": "stdout",
     "output_type": "stream",
     "text": [
      "Number of transactions: 2595732\n"
     ]
    },
    {
     "data": {
      "text/html": [
       "<div>\n",
       "<style scoped>\n",
       "    .dataframe tbody tr th:only-of-type {\n",
       "        vertical-align: middle;\n",
       "    }\n",
       "\n",
       "    .dataframe tbody tr th {\n",
       "        vertical-align: top;\n",
       "    }\n",
       "\n",
       "    .dataframe thead th {\n",
       "        text-align: right;\n",
       "    }\n",
       "</style>\n",
       "<table border=\"1\" class=\"dataframe\">\n",
       "  <thead>\n",
       "    <tr style=\"text-align: right;\">\n",
       "      <th></th>\n",
       "      <th>household_key</th>\n",
       "      <th>BASKET_ID</th>\n",
       "      <th>DAY</th>\n",
       "      <th>PRODUCT_ID</th>\n",
       "      <th>QUANTITY</th>\n",
       "      <th>SALES_VALUE</th>\n",
       "      <th>STORE_ID</th>\n",
       "      <th>RETAIL_DISC</th>\n",
       "      <th>TRANS_TIME</th>\n",
       "      <th>WEEK_NO</th>\n",
       "      <th>COUPON_DISC</th>\n",
       "      <th>COUPON_MATCH_DISC</th>\n",
       "    </tr>\n",
       "  </thead>\n",
       "  <tbody>\n",
       "    <tr>\n",
       "      <td>0</td>\n",
       "      <td>2375</td>\n",
       "      <td>26984851472</td>\n",
       "      <td>1</td>\n",
       "      <td>1004906</td>\n",
       "      <td>1</td>\n",
       "      <td>1.39</td>\n",
       "      <td>364</td>\n",
       "      <td>-0.60</td>\n",
       "      <td>1631</td>\n",
       "      <td>1</td>\n",
       "      <td>0.0</td>\n",
       "      <td>0.0</td>\n",
       "    </tr>\n",
       "    <tr>\n",
       "      <td>1</td>\n",
       "      <td>2375</td>\n",
       "      <td>26984851472</td>\n",
       "      <td>1</td>\n",
       "      <td>1033142</td>\n",
       "      <td>1</td>\n",
       "      <td>0.82</td>\n",
       "      <td>364</td>\n",
       "      <td>0.00</td>\n",
       "      <td>1631</td>\n",
       "      <td>1</td>\n",
       "      <td>0.0</td>\n",
       "      <td>0.0</td>\n",
       "    </tr>\n",
       "    <tr>\n",
       "      <td>2</td>\n",
       "      <td>2375</td>\n",
       "      <td>26984851472</td>\n",
       "      <td>1</td>\n",
       "      <td>1036325</td>\n",
       "      <td>1</td>\n",
       "      <td>0.99</td>\n",
       "      <td>364</td>\n",
       "      <td>-0.30</td>\n",
       "      <td>1631</td>\n",
       "      <td>1</td>\n",
       "      <td>0.0</td>\n",
       "      <td>0.0</td>\n",
       "    </tr>\n",
       "    <tr>\n",
       "      <td>3</td>\n",
       "      <td>2375</td>\n",
       "      <td>26984851472</td>\n",
       "      <td>1</td>\n",
       "      <td>1082185</td>\n",
       "      <td>1</td>\n",
       "      <td>1.21</td>\n",
       "      <td>364</td>\n",
       "      <td>0.00</td>\n",
       "      <td>1631</td>\n",
       "      <td>1</td>\n",
       "      <td>0.0</td>\n",
       "      <td>0.0</td>\n",
       "    </tr>\n",
       "    <tr>\n",
       "      <td>4</td>\n",
       "      <td>2375</td>\n",
       "      <td>26984851472</td>\n",
       "      <td>1</td>\n",
       "      <td>8160430</td>\n",
       "      <td>1</td>\n",
       "      <td>1.50</td>\n",
       "      <td>364</td>\n",
       "      <td>-0.39</td>\n",
       "      <td>1631</td>\n",
       "      <td>1</td>\n",
       "      <td>0.0</td>\n",
       "      <td>0.0</td>\n",
       "    </tr>\n",
       "  </tbody>\n",
       "</table>\n",
       "</div>"
      ],
      "text/plain": [
       "   household_key    BASKET_ID  DAY  PRODUCT_ID  QUANTITY  SALES_VALUE  \\\n",
       "0           2375  26984851472    1     1004906         1         1.39   \n",
       "1           2375  26984851472    1     1033142         1         0.82   \n",
       "2           2375  26984851472    1     1036325         1         0.99   \n",
       "3           2375  26984851472    1     1082185         1         1.21   \n",
       "4           2375  26984851472    1     8160430         1         1.50   \n",
       "\n",
       "   STORE_ID  RETAIL_DISC  TRANS_TIME  WEEK_NO  COUPON_DISC  COUPON_MATCH_DISC  \n",
       "0       364        -0.60        1631        1          0.0                0.0  \n",
       "1       364         0.00        1631        1          0.0                0.0  \n",
       "2       364        -0.30        1631        1          0.0                0.0  \n",
       "3       364         0.00        1631        1          0.0                0.0  \n",
       "4       364        -0.39        1631        1          0.0                0.0  "
      ]
     },
     "execution_count": 4,
     "metadata": {},
     "output_type": "execute_result"
    }
   ],
   "source": [
    "# Load the data from transaction_data.csv\n",
    "df_transaction_data = pd.read_csv(DATA_DIR + TRANSACTION_DATA)\n",
    "\n",
    "print('Number of transactions:', len(df_transaction_data))\n",
    "\n",
    "df_transaction_data.head()"
   ]
  },
  {
   "cell_type": "markdown",
   "metadata": {
    "colab_type": "text",
    "id": "Hl3chJNWrv2r"
   },
   "source": [
    "We observe that the `transaction_data` dataset contains a large number (circa 2.5 mil) of transactions. On the other hand, the `hh_demographic` dataset is much smaller in size (801).\n",
    "\n",
    "Furthermore, there are transactions for which demographic data is not present. The reason behind the missing demographic information are privacy issues (as stated in the documentation)."
   ]
  },
  {
   "cell_type": "markdown",
   "metadata": {
    "colab_type": "text",
    "id": "AWi6oJxSrv2s"
   },
   "source": [
    "### Handling Missing and Inconsistent Data"
   ]
  },
  {
   "cell_type": "code",
   "execution_count": 5,
   "metadata": {
    "ExecuteTime": {
     "end_time": "2019-12-18T20:46:48.189312Z",
     "start_time": "2019-12-18T20:46:48.086111Z"
    },
    "colab": {
     "base_uri": "https://localhost:8080/",
     "height": 51
    },
    "colab_type": "code",
    "id": "2Lkyk8KWrv2t",
    "outputId": "e3346f28-dd2b-4731-df11-6883bd376919"
   },
   "outputs": [
    {
     "name": "stdout",
     "output_type": "stream",
     "text": [
      "Columns with missing values in household dataset: False\n",
      "Columns with missing values in transactions dataset: False\n"
     ]
    }
   ],
   "source": [
    "print('Columns with missing values in household dataset:',\n",
    "      np.any(df_hh_demographic.isna().sum()))\n",
    "\n",
    "print('Columns with missing values in transactions dataset:',\n",
    "      np.any(df_transaction_data.isna().sum()))"
   ]
  },
  {
   "cell_type": "markdown",
   "metadata": {
    "colab_type": "text",
    "id": "PUrkrdPjrv2w"
   },
   "source": [
    "There are none missing values in both datasets.  "
   ]
  },
  {
   "cell_type": "markdown",
   "metadata": {
    "colab_type": "text",
    "id": "7xsoXeEdrv2x"
   },
   "source": [
    "However, in the `transaction_data` dataset we observed that some entries contain 0 for `SALES_VALUE` (the total amount received by the retailer) and for `QUANTITY` (the number of products purchased). There may be a valid reason why the data had been recorded this way, however we chose to avoid any assumptions and discard these transactions, as it is only a small percentage of the whole dataset. "
   ]
  },
  {
   "cell_type": "code",
   "execution_count": 6,
   "metadata": {
    "ExecuteTime": {
     "end_time": "2019-12-18T20:46:48.395261Z",
     "start_time": "2019-12-18T20:46:48.190276Z"
    },
    "colab": {
     "base_uri": "https://localhost:8080/",
     "height": 34
    },
    "colab_type": "code",
    "id": "XCvEK7werv2x",
    "outputId": "9c5ddc1c-ebff-4d86-9763-d2eb6671e5a6"
   },
   "outputs": [
    {
     "name": "stdout",
     "output_type": "stream",
     "text": [
      "Number of transactions: 2576815\n"
     ]
    }
   ],
   "source": [
    "# Store the valid transactions in a new dataframe\n",
    "c = (df_transaction_data['SALES_VALUE'] != 0) & \\\n",
    "    (df_transaction_data['QUANTITY'] != 0)\n",
    "\n",
    "df_transaction_data_cleaned = df_transaction_data[c]\n",
    "\n",
    "print('Number of transactions:', len(df_transaction_data_cleaned))"
   ]
  },
  {
   "cell_type": "markdown",
   "metadata": {
    "colab_type": "text",
    "id": "YPnBdfwUrv2z"
   },
   "source": [
    "Furthermore, following the previous discussion about missing demographic information, we filter the data:"
   ]
  },
  {
   "cell_type": "code",
   "execution_count": 7,
   "metadata": {
    "ExecuteTime": {
     "end_time": "2019-12-18T20:46:48.722126Z",
     "start_time": "2019-12-18T20:46:48.396258Z"
    },
    "colab": {
     "base_uri": "https://localhost:8080/",
     "height": 34
    },
    "colab_type": "code",
    "id": "FrjmK22Urv20",
    "outputId": "e296d3e9-6922-4c74-b155-e125fbfe1ccd"
   },
   "outputs": [
    {
     "name": "stdout",
     "output_type": "stream",
     "text": [
      "Number of transactions: 1416672\n"
     ]
    }
   ],
   "source": [
    "# Keep only the transactions of the households for which we have demographic data\n",
    "c = df_transaction_data_cleaned['household_key'].isin(df_hh_demographic.index)\n",
    "\n",
    "df_transaction_data_cleaned = df_transaction_data_cleaned[c]\n",
    "\n",
    "print('Number of transactions:', len(df_transaction_data_cleaned))"
   ]
  },
  {
   "cell_type": "markdown",
   "metadata": {
    "colab_type": "text",
    "id": "2NwHKx_Krv23"
   },
   "source": [
    "The `transaction_data` now is half its size before."
   ]
  },
  {
   "cell_type": "markdown",
   "metadata": {
    "colab_type": "text",
    "id": "Bfe6k0B0rv23"
   },
   "source": [
    "**Note**: Although, technically there are none missing values in both datasets, still, the columns: `MARITAL_STATUS_CODE`, `HOMEOWNER_DESC`, and `KID_CATEGORY_DESC` in the `hh_demographic` dataset, take values `U`, `Unknown`, and `None/Unknown` respectively which are unknown values. However, since the columns are categorical, we treat this values as yet another category with hope that later on we can obtain some useful insights."
   ]
  },
  {
   "cell_type": "markdown",
   "metadata": {
    "colab_type": "text",
    "id": "npSp0wR6rv25"
   },
   "source": [
    "### Feature Expansion"
   ]
  },
  {
   "cell_type": "markdown",
   "metadata": {
    "colab_type": "text",
    "id": "j3MhsBXNrv26"
   },
   "source": [
    "Using the formulas given in the dataset documentation, we can compute the values most useful for our analysis."
   ]
  },
  {
   "cell_type": "code",
   "execution_count": 8,
   "metadata": {
    "ExecuteTime": {
     "end_time": "2019-12-18T20:46:48.727075Z",
     "start_time": "2019-12-18T20:46:48.723085Z"
    },
    "colab": {},
    "colab_type": "code",
    "id": "Tuf4gu-Krv27"
   },
   "outputs": [],
   "source": [
    "sales_value = df_transaction_data_cleaned['SALES_VALUE']\n",
    "coupon_desc = df_transaction_data_cleaned['COUPON_DISC']\n",
    "retail_disc = df_transaction_data_cleaned['RETAIL_DISC']\n",
    "coupon_match_disc = df_transaction_data_cleaned['COUPON_MATCH_DISC']\n",
    "quantity = df_transaction_data_cleaned['QUANTITY']"
   ]
  },
  {
   "cell_type": "markdown",
   "metadata": {
    "colab_type": "text",
    "id": "oJMfcPQkrv29"
   },
   "source": [
    "After reading the dataset documentation, we noted that the price noted in the `SALES_VALUE` column is only the amount of money the retailer i.e. the store received from the customer. However, as we wish to know how much the *customer* spent and how much did the product they bought actually cost, we have to infer this information from the data. Fortunately, in the dataset documents formulas are provided to calculate these quantities.\n",
    "\n",
    "In the `CUSTOMER_PAID` column we store the amount the customer had to pay, which is the `SALES_VALUE` reduced by the discount amount provided if the customer possessed a coupon from the product manufacturer, stored in the `COUPON_DISC` column.\n",
    "\n",
    "On the other hand, in the `PRODUCT_PRICE` column we store the actual price of the product, which can be calculated by first re-adding back the discounts provided by the retailer's coupon and loyalty card possession from the manufacturer (the `COUPON_MATCH_DISC` and `RETAIL_DISC` columns) and then just dividing by the product `QUANTITY`. "
   ]
  },
  {
   "cell_type": "code",
   "execution_count": 9,
   "metadata": {
    "ExecuteTime": {
     "end_time": "2019-12-18T20:46:48.836228Z",
     "start_time": "2019-12-18T20:46:48.728093Z"
    },
    "colab": {},
    "colab_type": "code",
    "id": "sPviNksArv29"
   },
   "outputs": [],
   "source": [
    "# Use the provided formulas to calculate the new features and store them as new columns\n",
    "df_transaction_data_cleaned['CUSTOMER_PAID'] = sales_value + coupon_desc\n",
    "df_transaction_data_cleaned['PRODUCT_PRICE'] = (sales_value - (retail_disc + coupon_match_disc)) / quantity"
   ]
  },
  {
   "cell_type": "markdown",
   "metadata": {
    "colab_type": "text",
    "id": "HxkeNF3irv2-"
   },
   "source": [
    "### Type Conversion"
   ]
  },
  {
   "cell_type": "code",
   "execution_count": 10,
   "metadata": {
    "ExecuteTime": {
     "end_time": "2019-12-18T20:46:48.876122Z",
     "start_time": "2019-12-18T20:46:48.837190Z"
    },
    "colab": {},
    "colab_type": "code",
    "id": "iWrGXngDrv2_"
   },
   "outputs": [],
   "source": [
    "income_desc_categories = [\n",
    "    'Under 15K',\n",
    "    '15-24K',\n",
    "    '25-34K',\n",
    "    '35-49K',\n",
    "    '50-74K',\n",
    "    '75-99K',\n",
    "    '100-124K',\n",
    "    '125-149K',\n",
    "    '150-174K',\n",
    "    '175-199K',\n",
    "    '200-249K',\n",
    "    '250K+'\n",
    "]\n",
    "\n",
    "# Convert the INCOME_DESC feature column from string type to ordinal (ordered categorical)\n",
    "df_hh_demographic['INCOME_DESC'] = pd.Categorical(df_hh_demographic['INCOME_DESC'],\n",
    "                                                  categories=income_desc_categories,\n",
    "                                                  ordered=True)"
   ]
  },
  {
   "cell_type": "markdown",
   "metadata": {
    "colab_type": "text",
    "id": "GOLVqKbErv3A"
   },
   "source": [
    "We could also typecast the other columns, but for now only `INCOME_DESC` is required to perform the analysis."
   ]
  },
  {
   "cell_type": "markdown",
   "metadata": {
    "colab_type": "text",
    "id": "paNJvAYarv3A"
   },
   "source": [
    "### What's in the data?"
   ]
  },
  {
   "cell_type": "markdown",
   "metadata": {
    "colab_type": "text",
    "id": "hjGS_-gdrv3C"
   },
   "source": [
    "All the columns in the `hh_demographic` are categorical. On the other hand, the columns in `transaction_data` are numerical. More information regarding the value ranges is given in the readme file."
   ]
  },
  {
   "cell_type": "markdown",
   "metadata": {
    "colab_type": "text",
    "id": "kFJD1fwurv3C"
   },
   "source": [
    "Lets analyse the two derived columns in `transaction_data`: `CUSTOMER_PAID` and `PRODUCT_PRICE`. All the necessary information about a transaction is captured by these two columns. The other columns have data about the basket, time, product, and the retail store, which are not relevant at this moment."
   ]
  },
  {
   "cell_type": "code",
   "execution_count": 11,
   "metadata": {
    "ExecuteTime": {
     "end_time": "2019-12-18T20:46:49.190144Z",
     "start_time": "2019-12-18T20:46:48.877084Z"
    },
    "colab": {
     "base_uri": "https://localhost:8080/",
     "height": 111
    },
    "colab_type": "code",
    "id": "SdNV0aqsrv3E",
    "outputId": "d34629c7-4ba7-4945-fe16-85df738da643"
   },
   "outputs": [
    {
     "data": {
      "text/html": [
       "<div>\n",
       "<style scoped>\n",
       "    .dataframe tbody tr th:only-of-type {\n",
       "        vertical-align: middle;\n",
       "    }\n",
       "\n",
       "    .dataframe tbody tr th {\n",
       "        vertical-align: top;\n",
       "    }\n",
       "\n",
       "    .dataframe thead th {\n",
       "        text-align: right;\n",
       "    }\n",
       "</style>\n",
       "<table border=\"1\" class=\"dataframe\">\n",
       "  <thead>\n",
       "    <tr style=\"text-align: right;\">\n",
       "      <th></th>\n",
       "      <th>CUSTOMER_PAID</th>\n",
       "      <th>PRODUCT_PRICE</th>\n",
       "    </tr>\n",
       "  </thead>\n",
       "  <tbody>\n",
       "    <tr>\n",
       "      <td>min</td>\n",
       "      <td>-8.99</td>\n",
       "      <td>0.001759</td>\n",
       "    </tr>\n",
       "    <tr>\n",
       "      <td>max</td>\n",
       "      <td>840.00</td>\n",
       "      <td>299.990000</td>\n",
       "    </tr>\n",
       "  </tbody>\n",
       "</table>\n",
       "</div>"
      ],
      "text/plain": [
       "     CUSTOMER_PAID  PRODUCT_PRICE\n",
       "min          -8.99       0.001759\n",
       "max         840.00     299.990000"
      ]
     },
     "execution_count": 11,
     "metadata": {},
     "output_type": "execute_result"
    }
   ],
   "source": [
    "df_transaction_data_cleaned[['CUSTOMER_PAID','PRODUCT_PRICE']] \\\n",
    "    .describe() \\\n",
    "    .loc[['min', 'max']]"
   ]
  },
  {
   "cell_type": "markdown",
   "metadata": {
    "colab_type": "text",
    "id": "FKVCLvr-rv3G"
   },
   "source": [
    "We see that, in certain cases, the buyer didn't have to pay a penny as opposed to cases where the maximum bill amount was as high as \\\\$840. Also, there is a clear difference between the cheapest and most expensive product bought from the retail store.\n",
    "\n",
    "Why is the amount paid negative though?"
   ]
  },
  {
   "cell_type": "code",
   "execution_count": 12,
   "metadata": {
    "ExecuteTime": {
     "end_time": "2019-12-18T20:46:49.207119Z",
     "start_time": "2019-12-18T20:46:49.192109Z"
    },
    "colab": {
     "base_uri": "https://localhost:8080/",
     "height": 224
    },
    "colab_type": "code",
    "id": "VbaxGKfsrv3G",
    "outputId": "56b67136-8e0c-48e5-a33d-8bb7b546e297"
   },
   "outputs": [
    {
     "data": {
      "text/html": [
       "<div>\n",
       "<style scoped>\n",
       "    .dataframe tbody tr th:only-of-type {\n",
       "        vertical-align: middle;\n",
       "    }\n",
       "\n",
       "    .dataframe tbody tr th {\n",
       "        vertical-align: top;\n",
       "    }\n",
       "\n",
       "    .dataframe thead th {\n",
       "        text-align: right;\n",
       "    }\n",
       "</style>\n",
       "<table border=\"1\" class=\"dataframe\">\n",
       "  <thead>\n",
       "    <tr style=\"text-align: right;\">\n",
       "      <th></th>\n",
       "      <th>household_key</th>\n",
       "      <th>BASKET_ID</th>\n",
       "      <th>DAY</th>\n",
       "      <th>PRODUCT_ID</th>\n",
       "      <th>QUANTITY</th>\n",
       "      <th>SALES_VALUE</th>\n",
       "      <th>STORE_ID</th>\n",
       "      <th>RETAIL_DISC</th>\n",
       "      <th>TRANS_TIME</th>\n",
       "      <th>WEEK_NO</th>\n",
       "      <th>COUPON_DISC</th>\n",
       "      <th>COUPON_MATCH_DISC</th>\n",
       "      <th>CUSTOMER_PAID</th>\n",
       "      <th>PRODUCT_PRICE</th>\n",
       "    </tr>\n",
       "  </thead>\n",
       "  <tbody>\n",
       "    <tr>\n",
       "      <td>25640</td>\n",
       "      <td>1228</td>\n",
       "      <td>27399113659</td>\n",
       "      <td>36</td>\n",
       "      <td>840938</td>\n",
       "      <td>1</td>\n",
       "      <td>8.99</td>\n",
       "      <td>406</td>\n",
       "      <td>-1.00</td>\n",
       "      <td>2132</td>\n",
       "      <td>6</td>\n",
       "      <td>-9.99</td>\n",
       "      <td>0.00</td>\n",
       "      <td>-1.00</td>\n",
       "      <td>9.99</td>\n",
       "    </tr>\n",
       "    <tr>\n",
       "      <td>25642</td>\n",
       "      <td>1228</td>\n",
       "      <td>27399113659</td>\n",
       "      <td>36</td>\n",
       "      <td>881931</td>\n",
       "      <td>1</td>\n",
       "      <td>3.59</td>\n",
       "      <td>406</td>\n",
       "      <td>-0.40</td>\n",
       "      <td>2132</td>\n",
       "      <td>6</td>\n",
       "      <td>-5.99</td>\n",
       "      <td>0.00</td>\n",
       "      <td>-2.40</td>\n",
       "      <td>3.99</td>\n",
       "    </tr>\n",
       "    <tr>\n",
       "      <td>31812</td>\n",
       "      <td>2448</td>\n",
       "      <td>27468900591</td>\n",
       "      <td>41</td>\n",
       "      <td>970714</td>\n",
       "      <td>1</td>\n",
       "      <td>0.99</td>\n",
       "      <td>362</td>\n",
       "      <td>-0.40</td>\n",
       "      <td>1257</td>\n",
       "      <td>7</td>\n",
       "      <td>-1.00</td>\n",
       "      <td>0.00</td>\n",
       "      <td>-0.01</td>\n",
       "      <td>1.39</td>\n",
       "    </tr>\n",
       "    <tr>\n",
       "      <td>32186</td>\n",
       "      <td>1928</td>\n",
       "      <td>27469012501</td>\n",
       "      <td>41</td>\n",
       "      <td>1092045</td>\n",
       "      <td>1</td>\n",
       "      <td>0.88</td>\n",
       "      <td>330</td>\n",
       "      <td>-0.31</td>\n",
       "      <td>1823</td>\n",
       "      <td>7</td>\n",
       "      <td>-1.00</td>\n",
       "      <td>0.00</td>\n",
       "      <td>-0.12</td>\n",
       "      <td>1.19</td>\n",
       "    </tr>\n",
       "    <tr>\n",
       "      <td>32437</td>\n",
       "      <td>979</td>\n",
       "      <td>27469127989</td>\n",
       "      <td>40</td>\n",
       "      <td>1008677</td>\n",
       "      <td>4</td>\n",
       "      <td>1.21</td>\n",
       "      <td>368</td>\n",
       "      <td>0.00</td>\n",
       "      <td>2121</td>\n",
       "      <td>6</td>\n",
       "      <td>-3.08</td>\n",
       "      <td>-0.39</td>\n",
       "      <td>-1.87</td>\n",
       "      <td>0.40</td>\n",
       "    </tr>\n",
       "  </tbody>\n",
       "</table>\n",
       "</div>"
      ],
      "text/plain": [
       "       household_key    BASKET_ID  DAY  PRODUCT_ID  QUANTITY  SALES_VALUE  \\\n",
       "25640           1228  27399113659   36      840938         1         8.99   \n",
       "25642           1228  27399113659   36      881931         1         3.59   \n",
       "31812           2448  27468900591   41      970714         1         0.99   \n",
       "32186           1928  27469012501   41     1092045         1         0.88   \n",
       "32437            979  27469127989   40     1008677         4         1.21   \n",
       "\n",
       "       STORE_ID  RETAIL_DISC  TRANS_TIME  WEEK_NO  COUPON_DISC  \\\n",
       "25640       406        -1.00        2132        6        -9.99   \n",
       "25642       406        -0.40        2132        6        -5.99   \n",
       "31812       362        -0.40        1257        7        -1.00   \n",
       "32186       330        -0.31        1823        7        -1.00   \n",
       "32437       368         0.00        2121        6        -3.08   \n",
       "\n",
       "       COUPON_MATCH_DISC  CUSTOMER_PAID  PRODUCT_PRICE  \n",
       "25640               0.00          -1.00           9.99  \n",
       "25642               0.00          -2.40           3.99  \n",
       "31812               0.00          -0.01           1.39  \n",
       "32186               0.00          -0.12           1.19  \n",
       "32437              -0.39          -1.87           0.40  "
      ]
     },
     "execution_count": 12,
     "metadata": {},
     "output_type": "execute_result"
    }
   ],
   "source": [
    "# Retrieve the transactions with negative values for the amount paid by the customer\n",
    "df_transaction_data_cleaned[df_transaction_data_cleaned['CUSTOMER_PAID'] < 0].head()"
   ]
  },
  {
   "cell_type": "markdown",
   "metadata": {
    "colab_type": "text",
    "id": "4APLTOYhrv3I"
   },
   "source": [
    "That's the effect of campaigns! During campaigns, that the stores and their customers participate in, coupons can be used to reduce the amount the customer needed to pay for a product. As these coupons usually have fixed discounts, if the discount awarded is higher that the product price we get negative values when calculating the amount payed by the customer. As this is not what really happened (the customer payed \\\\$0 instead of receiving money from the store), we clamp these negative values to 0 in order for our subsequent analyses to be correct."
   ]
  },
  {
   "cell_type": "code",
   "execution_count": 13,
   "metadata": {
    "ExecuteTime": {
     "end_time": "2019-12-18T20:46:49.231005Z",
     "start_time": "2019-12-18T20:46:49.209064Z"
    },
    "colab": {},
    "colab_type": "code",
    "id": "IU2lG_Jprv3I"
   },
   "outputs": [],
   "source": [
    "# For all of these transactions, clamp the customer payment amount to 0\n",
    "df_transaction_data_cleaned.loc[df_transaction_data_cleaned['CUSTOMER_PAID'] < 0, 'CUSTOMER_PAID'] = 0"
   ]
  },
  {
   "cell_type": "markdown",
   "metadata": {
    "colab_type": "text",
    "id": "m8bCHgzJrv3J"
   },
   "source": [
    "Let's plot the distributions of `CUSTOMER_PAID` and `PRODUCT_PRICE` (we will work with a sub-sample of 10K elements since the whole dataset contains over 1 million records and it fails to fit the distributions we assume they are following)."
   ]
  },
  {
   "cell_type": "code",
   "execution_count": 14,
   "metadata": {
    "ExecuteTime": {
     "end_time": "2019-12-18T20:46:49.244019Z",
     "start_time": "2019-12-18T20:46:49.232002Z"
    },
    "colab": {},
    "colab_type": "code",
    "id": "_EFXiRsZrv3K"
   },
   "outputs": [],
   "source": [
    "def plot_distribution(df, r, column_name):\n",
    "    '''\n",
    "    Function to check the distribution of the derived columns\n",
    "    \n",
    "    df - dataframe with one column with values of the statistic\n",
    "    r - right limit value of x-axis \n",
    "    column_name - name of the derived column\n",
    "    '''\n",
    "\n",
    "    xmin, xmax = 1e-6, r\n",
    "    lnspc = np.linspace(xmin, xmax, len(df))\n",
    "    m, s = stats.expon.fit(df)\n",
    "    pdf_exponential = stats.expon.pdf(lnspc, scale=s)\n",
    "    a, m, s = stats.powerlaw.fit(df)\n",
    "    pdf_powerlaw = stats.powerlaw.pdf(lnspc, a, scale=s)\n",
    "\n",
    "    fig = make_subplots(rows=1,\n",
    "                        cols=2,\n",
    "                        subplot_titles=('Linear scale', 'Log scale'))\n",
    "\n",
    "    fig.add_histogram(x=df,\n",
    "                      nbinsx=10,\n",
    "                      hoverinfo='x+y',\n",
    "                      marker_color=colors[0],\n",
    "                      row=1,\n",
    "                      col=1)\n",
    "    fig.add_scatter(x=lnspc,\n",
    "                    y=pdf_exponential * len(df),\n",
    "                    mode='lines',\n",
    "                    line_color=colors[3],\n",
    "                    hoverinfo='x+y',\n",
    "                    row=1,\n",
    "                    col=1)\n",
    "    fig.add_scatter(x=lnspc,\n",
    "                    y=pdf_powerlaw * len(df),\n",
    "                    mode='lines',\n",
    "                    line_color=colors[2],\n",
    "                    hoverinfo='x+y',\n",
    "                    row=1,\n",
    "                    col=1)\n",
    "    fig.update_xaxes(title_text='Value (in $)',\n",
    "                     range=[xmin, xmax],\n",
    "                     row=1,\n",
    "                     col=1)\n",
    "    fig.update_yaxes(title_text='Total', range=[0, 5000], row=1, col=1)\n",
    "\n",
    "    fig.add_histogram(x=df,\n",
    "                      nbinsx=10,\n",
    "                      hoverinfo='x',\n",
    "                      marker_color=colors[0],\n",
    "                      row=1,\n",
    "                      col=2)\n",
    "    fig.add_scatter(x=lnspc,\n",
    "                    y=pdf_exponential * len(df),\n",
    "                    mode='lines',\n",
    "                    line_color=colors[3],\n",
    "                    hoverinfo='x+y',\n",
    "                    row=1,\n",
    "                    col=2)\n",
    "    fig.add_scatter(x=lnspc,\n",
    "                    y=pdf_powerlaw * len(df),\n",
    "                    mode='lines',\n",
    "                    line_color=colors[2],\n",
    "                    hoverinfo='x+y',\n",
    "                    row=1,\n",
    "                    col=2)\n",
    "    fig.update_xaxes(title_text='Value (in $)',\n",
    "                     range=[xmin, xmax],\n",
    "                     row=1,\n",
    "                     col=2)\n",
    "    fig.update_yaxes(title_text='Total',\n",
    "                     range=[0, np.log10(5000)],\n",
    "                     type='log',\n",
    "                     row=1,\n",
    "                     col=2)\n",
    "\n",
    "    fig.update_layout(showlegend=False,\n",
    "                      title_text='Distribution of {}'.format(column_name))\n",
    "    fig.update_layout(autosize=False, width=900, height=500)\n",
    "    fig.show(renderer='iframe_connected')"
   ]
  },
  {
   "cell_type": "code",
   "execution_count": 15,
   "metadata": {
    "ExecuteTime": {
     "end_time": "2019-12-18T20:46:49.290413Z",
     "start_time": "2019-12-18T20:46:49.245018Z"
    },
    "colab": {},
    "colab_type": "code",
    "id": "tSvpOot4rv3L"
   },
   "outputs": [],
   "source": [
    "r = 20\n",
    "df = df_transaction_data_cleaned['CUSTOMER_PAID'].sample(n=10000, random_state=1)\n",
    "df = df[(df > 0) & (df < r)] # Remove the outliers"
   ]
  },
  {
   "cell_type": "code",
   "execution_count": 16,
   "metadata": {
    "ExecuteTime": {
     "end_time": "2019-12-18T20:46:50.311938Z",
     "start_time": "2019-12-18T20:46:49.291362Z"
    }
   },
   "outputs": [
    {
     "data": {
      "text/html": [
       "<iframe\n",
       "    scrolling=\"no\"\n",
       "    width=\"920px\"\n",
       "    height=\"520\"\n",
       "    src=\"iframe_figures/figure_16.html\"\n",
       "    frameborder=\"0\"\n",
       "    allowfullscreen\n",
       "></iframe>\n"
      ]
     },
     "metadata": {},
     "output_type": "display_data"
    }
   ],
   "source": [
    "plot_distribution(df, r, 'CUSTOMER_PAID')"
   ]
  },
  {
   "cell_type": "code",
   "execution_count": 17,
   "metadata": {
    "ExecuteTime": {
     "end_time": "2019-12-18T20:46:50.353440Z",
     "start_time": "2019-12-18T20:46:50.312914Z"
    },
    "colab": {},
    "colab_type": "code",
    "id": "RF3SLmn-rv3O"
   },
   "outputs": [],
   "source": [
    "r = 20\n",
    "df = df_transaction_data_cleaned['PRODUCT_PRICE'].sample(n=10000, random_state=1)\n",
    "df = df[(df > 0) & (df < r)] # Remove the outliers"
   ]
  },
  {
   "cell_type": "code",
   "execution_count": 18,
   "metadata": {
    "ExecuteTime": {
     "end_time": "2019-12-18T20:46:50.823065Z",
     "start_time": "2019-12-18T20:46:50.354387Z"
    },
    "colab": {
     "base_uri": "https://localhost:8080/",
     "height": 526
    },
    "colab_type": "code",
    "id": "PipSPs0mrv3P",
    "outputId": "c0f9cd65-6632-4ddc-ca8c-e0e3947ee95f"
   },
   "outputs": [
    {
     "data": {
      "text/html": [
       "<iframe\n",
       "    scrolling=\"no\"\n",
       "    width=\"920px\"\n",
       "    height=\"520\"\n",
       "    src=\"iframe_figures/figure_18.html\"\n",
       "    frameborder=\"0\"\n",
       "    allowfullscreen\n",
       "></iframe>\n"
      ]
     },
     "metadata": {},
     "output_type": "display_data"
    }
   ],
   "source": [
    "plot_distribution(df, r, 'PRODUCT_PRICE')"
   ]
  },
  {
   "cell_type": "markdown",
   "metadata": {
    "colab_type": "text",
    "id": "JSjRzv82rv3Q"
   },
   "source": [
    "Looks like we have an exponential distribution for both columns."
   ]
  },
  {
   "cell_type": "markdown",
   "metadata": {
    "colab_type": "text",
    "id": "7PAUEYpkrv3R"
   },
   "source": [
    "### Joining Datasets"
   ]
  },
  {
   "cell_type": "markdown",
   "metadata": {
    "colab_type": "text",
    "id": "Sim5HOiIrv3R"
   },
   "source": [
    "We join the two datasets to obtain the transactions for each household. "
   ]
  },
  {
   "cell_type": "code",
   "execution_count": 19,
   "metadata": {
    "ExecuteTime": {
     "end_time": "2019-12-18T20:46:51.195994Z",
     "start_time": "2019-12-18T20:46:50.824062Z"
    },
    "colab": {
     "base_uri": "https://localhost:8080/",
     "height": 34
    },
    "colab_type": "code",
    "id": "G5NOUNvarv3R",
    "outputId": "71db1e55-cde1-43bf-c90e-6c891d41a2fe"
   },
   "outputs": [
    {
     "name": "stdout",
     "output_type": "stream",
     "text": [
      "Total number of transactions for the selected households: 1416672\n"
     ]
    }
   ],
   "source": [
    "df_households_transactions = df_transaction_data_cleaned.join(df_hh_demographic, on='household_key')\n",
    "\n",
    "print('Total number of transactions for the selected households:',\n",
    "      len(df_households_transactions))"
   ]
  },
  {
   "cell_type": "markdown",
   "metadata": {
    "colab_type": "text",
    "id": "aVyUNyAmrv3S"
   },
   "source": [
    "## Part 3: Data Analysis"
   ]
  },
  {
   "cell_type": "markdown",
   "metadata": {
    "colab_type": "text",
    "id": "F3QvW8jCrv3T",
    "toc-hr-collapsed": true,
    "toc-nb-collapsed": true
   },
   "source": [
    "### Analysis of the Underlying Distributions\n",
    "\n",
    "The following analysis can help us discover the shopping habits of the households, regardless of their annual income."
   ]
  },
  {
   "cell_type": "markdown",
   "metadata": {
    "colab_type": "text",
    "id": "Fccs4FFarv3T"
   },
   "source": [
    "#### Household Income"
   ]
  },
  {
   "cell_type": "markdown",
   "metadata": {
    "colab_type": "text",
    "id": "sY2xK2n6rv3T"
   },
   "source": [
    "We noted that one of the major factors in determining the household expenses is the household income category. This is represented by the `INCOME_DESC` column. It holds information about the total anual income for each household.\n",
    "\n",
    "The main challenge in answering our question is the fact that this column is non numeric - each income value is represented as a category which represents an interval of income values. Looking on the bright side, there is meaningful ordering of the categories as they are intervals. "
   ]
  },
  {
   "cell_type": "code",
   "execution_count": 20,
   "metadata": {
    "ExecuteTime": {
     "end_time": "2019-12-18T20:46:51.418310Z",
     "start_time": "2019-12-18T20:46:51.197989Z"
    }
   },
   "outputs": [
    {
     "data": {
      "text/html": [
       "<iframe\n",
       "    scrolling=\"no\"\n",
       "    width=\"920px\"\n",
       "    height=\"520\"\n",
       "    src=\"iframe_figures/figure_20.html\"\n",
       "    frameborder=\"0\"\n",
       "    allowfullscreen\n",
       "></iframe>\n"
      ]
     },
     "metadata": {},
     "output_type": "display_data"
    }
   ],
   "source": [
    "income_desc = df_hh_demographic['INCOME_DESC'].value_counts().sort_index()\n",
    "plot_data = income_desc.reset_index().sort_values('index', ascending=False)\n",
    "plot_data.columns=['Annual income (in $)', 'Number of households']\n",
    "\n",
    "fig = px.bar(plot_data,\n",
    "             x='Number of households',\n",
    "             y='Annual income (in $)',\n",
    "             color='Number of households',\n",
    "             color_continuous_scale='greens',\n",
    "             orientation='h')\n",
    "fig.update_layout(title_text='Distribution of household income')\n",
    "fig.update_layout(autosize=False, width=900, height=500)\n",
    "fig.show(renderer='iframe_connected', responsive=True)"
   ]
  },
  {
   "cell_type": "markdown",
   "metadata": {
    "colab_type": "text",
    "id": "yVXtqN_lrv3V"
   },
   "source": [
    "While there is nothing wrong with this plot on first sight, careful analysis reveils a large problem with it: The bins are not equidistant. Therefore, it is biased towards bins of larger range. For example, the *15-24K* bin only spans a *9K* income range, while the *200-249K* bin spans a *49K* range. For a fair plot, we need to divide all the bins by their range. That way, we get an approximate *income distribution density* of the number of households per *1K* income range."
   ]
  },
  {
   "cell_type": "code",
   "execution_count": 21,
   "metadata": {
    "ExecuteTime": {
     "end_time": "2019-12-18T20:46:51.425346Z",
     "start_time": "2019-12-18T20:46:51.419330Z"
    },
    "colab": {},
    "colab_type": "code",
    "id": "CyGjwlx3PBhA"
   },
   "outputs": [],
   "source": [
    "# Define the bin ranges for income, list of values in the form [right bin range, left bin range]\n",
    "bins = np.array([\n",
    "    [15,0],\n",
    "    [24,15],\n",
    "    [34,25],\n",
    "    [49,35],\n",
    "    [74,50],\n",
    "    [99,75],\n",
    "    [124,100],\n",
    "    [149,125],\n",
    "    [174,150],\n",
    "    [199,175],\n",
    "    [249,200],\n",
    "    [350,250]\n",
    "])\n",
    "\n",
    "# Calculate the bin sizes (lengths), to be used for normalization\n",
    "diff = bins[:,0]-bins[:,1]\n",
    "\n",
    "# Calculate the geometric means of the bins, to be used for fitting a log-normal distribution curve\n",
    "geo_means = np.sqrt(bins[:,0]*bins[:,1])\n",
    "geo_means[0] = np.mean([bins[0,0],bins[0,1]])"
   ]
  },
  {
   "cell_type": "markdown",
   "metadata": {},
   "source": [
    "The `geo_means` variable is relevant, as it approximately represents the average value within every bin (assuming a log-normal distribution). The geometric mean between the lower and upper bound of a bin is more accurate than taking the average between the upper and lower bound. "
   ]
  },
  {
   "cell_type": "code",
   "execution_count": 22,
   "metadata": {
    "ExecuteTime": {
     "end_time": "2019-12-18T20:46:51.434305Z",
     "start_time": "2019-12-18T20:46:51.426326Z"
    }
   },
   "outputs": [],
   "source": [
    "# Calculate the income densities by dividing by the bin sizes\n",
    "income_desc = df_hh_demographic['INCOME_DESC'].value_counts().sort_index()\n",
    "income_desc_density = (income_desc / diff).values"
   ]
  },
  {
   "cell_type": "code",
   "execution_count": 23,
   "metadata": {
    "ExecuteTime": {
     "end_time": "2019-12-18T20:46:51.443280Z",
     "start_time": "2019-12-18T20:46:51.435306Z"
    }
   },
   "outputs": [],
   "source": [
    "# Creating samples for the lognormal distribution\n",
    "accuracy_param = 7 # This parameter is used to create an array which is sampled from the log-normal\n",
    "samples = [[np.round(geo_mean), ] * int(accuracy_param * density)\n",
    "           for geo_mean, density in zip(geo_means, income_desc_density)]\n",
    "samples = [j for sub in samples for j in sub]"
   ]
  },
  {
   "cell_type": "code",
   "execution_count": 24,
   "metadata": {
    "ExecuteTime": {
     "end_time": "2019-12-18T20:46:51.492112Z",
     "start_time": "2019-12-18T20:46:51.444277Z"
    }
   },
   "outputs": [],
   "source": [
    "from scipy.stats import lognorm\n",
    "sigma, mu, alpha = lognorm.fit(np.array(samples)/accuracy_param)"
   ]
  },
  {
   "cell_type": "code",
   "execution_count": 25,
   "metadata": {
    "ExecuteTime": {
     "end_time": "2019-12-18T20:46:51.771884Z",
     "start_time": "2019-12-18T20:46:51.493110Z"
    },
    "colab": {
     "base_uri": "https://localhost:8080/",
     "height": 518
    },
    "colab_type": "code",
    "id": "PxzYM1iHwes7",
    "outputId": "ccc6f7e5-d522-49d3-ae60-d5995191b77b"
   },
   "outputs": [
    {
     "data": {
      "text/html": [
       "<iframe\n",
       "    scrolling=\"no\"\n",
       "    width=\"920px\"\n",
       "    height=\"520\"\n",
       "    src=\"iframe_figures/figure_25.html\"\n",
       "    frameborder=\"0\"\n",
       "    allowfullscreen\n",
       "></iframe>\n"
      ]
     },
     "metadata": {},
     "output_type": "display_data"
    }
   ],
   "source": [
    "plot_data = (income_desc / diff).reset_index().sort_values('index', ascending=False)\n",
    "plot_data.columns=['Annual income (in $)', 'Density of households']\n",
    "\n",
    "fig = px.bar(plot_data,\n",
    "             x='Density of households',\n",
    "             y='Annual income (in $)',\n",
    "             color='Density of households',\n",
    "             color_continuous_scale='greens',\n",
    "             orientation='h')\n",
    "fig.update_layout(title_text='Distribution of household income')\n",
    "fig.update_layout(autosize=False, width=900, height=500)\n",
    "fig.show(renderer='iframe_connected')"
   ]
  },
  {
   "cell_type": "markdown",
   "metadata": {},
   "source": [
    "Here we can see that the distribution looks like a log-normal distribution, which was to be expected given the Central Limit Theorem for positive values (income can only take values larger than zero, so the distribution has to be log-normal, instead of normal)."
   ]
  },
  {
   "cell_type": "code",
   "execution_count": 26,
   "metadata": {
    "ExecuteTime": {
     "end_time": "2019-12-18T20:46:51.919173Z",
     "start_time": "2019-12-18T20:46:51.772881Z"
    }
   },
   "outputs": [
    {
     "data": {
      "text/html": [
       "<iframe\n",
       "    scrolling=\"no\"\n",
       "    width=\"920px\"\n",
       "    height=\"520\"\n",
       "    src=\"iframe_figures/figure_26.html\"\n",
       "    frameborder=\"0\"\n",
       "    allowfullscreen\n",
       "></iframe>\n"
      ]
     },
     "metadata": {},
     "output_type": "display_data"
    }
   ],
   "source": [
    "import scipy.stats as ss\n",
    "\n",
    "def plot_f(x_range, mu, sigma, alpha):\n",
    "    '''\n",
    "    Plots the f distribution function for a given x range, dfn and dfd\n",
    "    If mu and sigma are not provided, standard f is plotted\n",
    "    Passes any keyword arguments to matplotlib plot function\n",
    "    '''\n",
    "    x = x_range\n",
    "    #y = ss.f.pdf(x, dfn, dfd, mu, sigma)\n",
    "    #y = 1/((x-mu)*np.sqrt(2*np.pi*sigma**2))*np.exp(-np.log((x-mu)/alpha)**2/2/sigma**2)\n",
    "    y = lognorm.pdf(x, s=sigma, loc=mu, scale=alpha)\n",
    "    y_scaling = np.max(income_desc_density)/np.max(y)\n",
    "    \n",
    "    fig = make_subplots()\n",
    "    fig.add_scatter(x=x*10, y=y*y_scaling, mode='lines', name='Log-normal fit')\n",
    "    fig.add_scatter(x=geo_means, y=income_desc_density, mode='markers', name='Geometric means')\n",
    "    fig.update_xaxes(title_text='Annual income (in thousands of $)',\n",
    "                     range=[0, 300])\n",
    "    fig.update_yaxes(title_text='Density of households')\n",
    "\n",
    "    fig.update_layout(title_text='Lognormal distribution fit of household income')\n",
    "    fig.update_layout(autosize=False, width=900, height=500)\n",
    "    fig.show(renderer='iframe_connected')\n",
    "\n",
    "x = np.linspace(0.001, 100, 500)\n",
    "plot_f(x, mu, sigma, alpha)"
   ]
  },
  {
   "cell_type": "markdown",
   "metadata": {
    "colab_type": "text",
    "id": "IonO7h1Drv3V"
   },
   "source": [
    "#### Average Bill Amount"
   ]
  },
  {
   "cell_type": "markdown",
   "metadata": {
    "colab_type": "text",
    "id": "U6VKuNu2rv3W"
   },
   "source": [
    "To measure the spending habits of the households, we compute the average amount of households' bills. Each household visit to a store is uniquely identified with a `BASKET_ID`. We do this in two steps:\n",
    "\n",
    "1. We sum the derived `CUSTOMER_PAID` column across the transactions for each visit to get the total bill amount for the visit. <br>\n",
    "2. We average across all visits of each household."
   ]
  },
  {
   "cell_type": "code",
   "execution_count": 27,
   "metadata": {
    "ExecuteTime": {
     "end_time": "2019-12-18T20:46:52.374881Z",
     "start_time": "2019-12-18T20:46:51.920140Z"
    },
    "colab": {},
    "colab_type": "code",
    "id": "lunzVe3xrv3W"
   },
   "outputs": [],
   "source": [
    "df_households_basket_payment = df_households_transactions \\\n",
    "    .groupby(['household_key', 'BASKET_ID'])['CUSTOMER_PAID'] \\\n",
    "    .sum()\n",
    "\n",
    "df_households_basket_payment_average = df_households_basket_payment.groupby(['household_key']).mean()"
   ]
  },
  {
   "cell_type": "code",
   "execution_count": 28,
   "metadata": {
    "ExecuteTime": {
     "end_time": "2019-12-18T20:46:52.378856Z",
     "start_time": "2019-12-18T20:46:52.375828Z"
    }
   },
   "outputs": [],
   "source": [
    "from scipy.stats import iqr\n",
    "def calculate_bin_size(data):\n",
    "    '''Function to calculate the appropriate histogram bin size using the Freedman-Diaconis rule'''\n",
    "    return 2 * iqr(data) / (len(data)**(1 / 3))"
   ]
  },
  {
   "cell_type": "code",
   "execution_count": 29,
   "metadata": {
    "ExecuteTime": {
     "end_time": "2019-12-18T20:46:52.559659Z",
     "start_time": "2019-12-18T20:46:52.379822Z"
    }
   },
   "outputs": [
    {
     "data": {
      "text/html": [
       "<iframe\n",
       "    scrolling=\"no\"\n",
       "    width=\"920px\"\n",
       "    height=\"520\"\n",
       "    src=\"iframe_figures/figure_29.html\"\n",
       "    frameborder=\"0\"\n",
       "    allowfullscreen\n",
       "></iframe>\n"
      ]
     },
     "metadata": {},
     "output_type": "display_data"
    }
   ],
   "source": [
    "hist_data = [list(df_households_basket_payment_average),]\n",
    "group_labels = [None, ]\n",
    "fig = ff.create_distplot(hist_data, group_labels, bin_size=calculate_bin_size(hist_data[0]), show_rug=False)\n",
    "fig.data[0]['hoverinfo'] = 'x+y'\n",
    "fig.data[1]['hoverinfo'] = 'x+y'\n",
    "fig.update_layout(title_text='Distribution of average bill amount',\n",
    "                  xaxis_title='Average bill amount (in $)',\n",
    "                  yaxis_title='Density of households',\n",
    "                  showlegend=False)\n",
    "fig.update_layout(autosize=False, width=900, height=500)\n",
    "fig.show(renderer='iframe_connected')"
   ]
  },
  {
   "cell_type": "markdown",
   "metadata": {
    "colab_type": "text",
    "id": "8fSbUqmerv3Y"
   },
   "source": [
    "Looking at the histogram of this statistic, we identify it as a right-skewed Gaussian distribution, with a few outliers.\n",
    "\n",
    "On average, people spend around \\\\$30 at a local retailer, which is kind of expected. However, there are several outliers and this is further investigated below."
   ]
  },
  {
   "cell_type": "markdown",
   "metadata": {},
   "source": [
    "#### Average Number of Products\n",
    "To measure the spending habits of the households, we can also compute statistics based on the products. For instance, the simplest idea would be to just count the number of different products bought and average across all visits."
   ]
  },
  {
   "cell_type": "code",
   "execution_count": 30,
   "metadata": {
    "ExecuteTime": {
     "end_time": "2019-12-18T20:46:52.742911Z",
     "start_time": "2019-12-18T20:46:52.561653Z"
    }
   },
   "outputs": [],
   "source": [
    "df_household_basket_num_products = df_households_transactions \\\n",
    "                                   .groupby(['household_key', 'BASKET_ID'])['PRODUCT_ID'] \\\n",
    "                                   .count()\n",
    "\n",
    "df_households_basket_num_products_average = df_household_basket_num_products.groupby('household_key').mean()"
   ]
  },
  {
   "cell_type": "code",
   "execution_count": 31,
   "metadata": {
    "ExecuteTime": {
     "end_time": "2019-12-18T20:46:52.978668Z",
     "start_time": "2019-12-18T20:46:52.743876Z"
    }
   },
   "outputs": [
    {
     "data": {
      "text/html": [
       "<iframe\n",
       "    scrolling=\"no\"\n",
       "    width=\"920px\"\n",
       "    height=\"520\"\n",
       "    src=\"iframe_figures/figure_31.html\"\n",
       "    frameborder=\"0\"\n",
       "    allowfullscreen\n",
       "></iframe>\n"
      ]
     },
     "metadata": {},
     "output_type": "display_data"
    }
   ],
   "source": [
    "hist_data = [list(df_households_basket_num_products_average),]\n",
    "group_labels = [None, ]\n",
    "fig = ff.create_distplot(hist_data, group_labels, bin_size=calculate_bin_size(hist_data[0]), show_rug=False)\n",
    "fig.data[0]['hoverinfo'] = 'x+y'\n",
    "fig.data[1]['hoverinfo'] = 'x+y'\n",
    "fig.update_layout(title_text='Distribution of average number of products',\n",
    "                  xaxis_title='Average number of products',\n",
    "                  yaxis_title='Density of households',\n",
    "                  showlegend=False)\n",
    "fig.update_layout(autosize=False, width=900, height=500)\n",
    "fig.show(renderer='iframe_connected')"
   ]
  },
  {
   "cell_type": "markdown",
   "metadata": {},
   "source": [
    "Similarly as before, from the histogram we identify this statistic as having a right-skewed Gaussian distribution, with a few outliers.\n",
    "\n",
    "On average, people buy around 10 products and it is more likely to observe a greater than average number of products bought during a shopping visit than lesser, which is expected - hence the longer right tail."
   ]
  },
  {
   "cell_type": "markdown",
   "metadata": {
    "colab_type": "text",
    "id": "qPZHow_arv3Z"
   },
   "source": [
    "#### Average Median Product Price"
   ]
  },
  {
   "cell_type": "markdown",
   "metadata": {
    "colab_type": "text",
    "id": "uTeq52LSrv3a"
   },
   "source": [
    "Product prices are more reflective of the expenses that households have, rather than just counting the number of products.\n",
    "\n",
    "From this perspective, we can calculate a different statistic quantifying the spending habits of each household. This time we use the derived `PRODUCT_PRICE` to calculate the median product price in each basket and then average across for each household.\n",
    "\n",
    "We calculate this statistic because the median is a good indicator of the households spending habit during a trip. The average, lowest or greatest price of a product in the basket would not be relevant, as they are very sensitive to outliers while the median is a robust statistic.\n",
    "\n",
    "The reason for the prevalence of outliers in the product prices, stem for the fact that they are the actual value of a single product and do not take into account the product quantity in the bill, unlike the `CUSTOMER_PAID` values.  "
   ]
  },
  {
   "cell_type": "code",
   "execution_count": 32,
   "metadata": {
    "ExecuteTime": {
     "end_time": "2019-12-18T20:46:53.189131Z",
     "start_time": "2019-12-18T20:46:52.979665Z"
    },
    "colab": {},
    "colab_type": "code",
    "id": "gFjvNg_prv3c"
   },
   "outputs": [],
   "source": [
    "df_households_basket_median_product_price = df_households_transactions \\\n",
    "    .groupby(['household_key', 'BASKET_ID'])['PRODUCT_PRICE'] \\\n",
    "    .median()\n",
    "\n",
    "df_households_basket_median_product_price_average = df_households_basket_median_product_price.groupby('household_key').mean()"
   ]
  },
  {
   "cell_type": "code",
   "execution_count": 33,
   "metadata": {
    "ExecuteTime": {
     "end_time": "2019-12-18T20:46:53.371619Z",
     "start_time": "2019-12-18T20:46:53.190103Z"
    }
   },
   "outputs": [
    {
     "data": {
      "text/html": [
       "<iframe\n",
       "    scrolling=\"no\"\n",
       "    width=\"920px\"\n",
       "    height=\"520\"\n",
       "    src=\"iframe_figures/figure_33.html\"\n",
       "    frameborder=\"0\"\n",
       "    allowfullscreen\n",
       "></iframe>\n"
      ]
     },
     "metadata": {},
     "output_type": "display_data"
    }
   ],
   "source": [
    "hist_data = [list(df_households_basket_median_product_price_average),]\n",
    "group_labels = [None, ]\n",
    "fig = ff.create_distplot(hist_data, group_labels, bin_size=calculate_bin_size(hist_data[0]), show_rug=False)\n",
    "fig.data[0]['hoverinfo'] = 'x+y'\n",
    "fig.data[1]['hoverinfo'] = 'x+y'\n",
    "fig.update_layout(title_text='Distribution of average median product price',\n",
    "                  xaxis_title='Average median product price (in $)',\n",
    "                  yaxis_title='Density of households',\n",
    "                  showlegend=False)\n",
    "fig.update_layout(autosize=False, width=900, height=500)\n",
    "fig.show(renderer='iframe_connected')"
   ]
  },
  {
   "cell_type": "markdown",
   "metadata": {
    "colab_type": "text",
    "id": "0azOyog7rv3f"
   },
   "source": [
    "We observe from the histogram that this feature has a bit more regular Gaussian distribution with a mean around \\\\$2\\.50. However, there are also outliers in this statistic. This is depicted in detail in another study below."
   ]
  },
  {
   "cell_type": "markdown",
   "metadata": {
    "colab_type": "text",
    "id": "RPMFqsTQrv3f",
    "toc-hr-collapsed": true,
    "toc-nb-collapsed": true
   },
   "source": [
    "### Statistics Comparison"
   ]
  },
  {
   "cell_type": "markdown",
   "metadata": {
    "colab_type": "text",
    "id": "MvH_nOE-rv3f"
   },
   "source": [
    "#### Correlation"
   ]
  },
  {
   "cell_type": "markdown",
   "metadata": {
    "colab_type": "text",
    "id": "XKjrCmKurv3g"
   },
   "source": [
    "We are interested in whether these exist any correlation between these three statistics. Does the median product price determine the actual value on the bill?\n",
    "\n",
    "Using a scatter plot, we would like to confirm (or deny) this."
   ]
  },
  {
   "cell_type": "code",
   "execution_count": 34,
   "metadata": {
    "ExecuteTime": {
     "end_time": "2019-12-18T20:46:53.908216Z",
     "start_time": "2019-12-18T20:46:53.373611Z"
    }
   },
   "outputs": [
    {
     "name": "stdout",
     "output_type": "stream",
     "text": [
      "Correlation coefficient: 0.18890914100516498\n"
     ]
    },
    {
     "data": {
      "text/html": [
       "<iframe\n",
       "    scrolling=\"no\"\n",
       "    width=\"920px\"\n",
       "    height=\"520\"\n",
       "    src=\"iframe_figures/figure_34.html\"\n",
       "    frameborder=\"0\"\n",
       "    allowfullscreen\n",
       "></iframe>\n"
      ]
     },
     "metadata": {},
     "output_type": "display_data"
    }
   ],
   "source": [
    "# Compute the Spearman correlation coefficient between the two statistics\n",
    "spearman_corr_coef = df_households_basket_payment_average.corr(df_households_basket_median_product_price_average,\n",
    "                                                               method='spearman')\n",
    "print('Correlation coefficient:', spearman_corr_coef)\n",
    "\n",
    "plot_data = pd.concat((df_households_basket_payment_average, df_households_basket_median_product_price_average), axis=1)\n",
    "plot_data.columns = ['Average bill amount (in $)', 'Average median product price (in $)']\n",
    "\n",
    "fig = px.scatter(data_frame=plot_data,\n",
    "                 x='Average bill amount (in $)',\n",
    "                 y='Average median product price (in $)',\n",
    "                 trendline='ols')\n",
    "fig.update_layout(title_text='Correlation between the two statistics')\n",
    "fig.update_layout(autosize=False, width=900, height=500)\n",
    "fig.show(renderer='iframe_connected')"
   ]
  },
  {
   "cell_type": "markdown",
   "metadata": {
    "ExecuteTime": {
     "end_time": "2019-12-05T21:53:01.625855Z",
     "start_time": "2019-12-05T21:53:01.605875Z"
    },
    "colab": {
     "base_uri": "https://localhost:8080/",
     "height": 34
    },
    "colab_type": "code",
    "id": "1d1rEJWKrv3i",
    "outputId": "97d26e6e-ebe1-45da-9e55-e2e3e9e53bc7"
   },
   "source": [
    "Interestingly, we observe almost no correlation between these two statistics! This would mean that the representative price of the products in the basket is very unrelated to the actual amount payed at the register. As such, these two features measure two very different aspects of a household's spending habits and must be used together as a pair to describe a household."
   ]
  },
  {
   "cell_type": "code",
   "execution_count": 35,
   "metadata": {
    "ExecuteTime": {
     "end_time": "2019-12-18T20:46:54.146050Z",
     "start_time": "2019-12-18T20:46:53.909180Z"
    }
   },
   "outputs": [
    {
     "name": "stdout",
     "output_type": "stream",
     "text": [
      "Correlation coefficient: 0.9079176919106191\n"
     ]
    },
    {
     "data": {
      "text/html": [
       "<iframe\n",
       "    scrolling=\"no\"\n",
       "    width=\"920px\"\n",
       "    height=\"520\"\n",
       "    src=\"iframe_figures/figure_35.html\"\n",
       "    frameborder=\"0\"\n",
       "    allowfullscreen\n",
       "></iframe>\n"
      ]
     },
     "metadata": {},
     "output_type": "display_data"
    }
   ],
   "source": [
    "# Compute the Spearman correlation coefficient between the two statistics\n",
    "spearman_corr_coef = df_households_basket_num_products_average.corr(df_households_basket_payment_average,\n",
    "                                                               method='spearman')\n",
    "print('Correlation coefficient:', spearman_corr_coef)\n",
    "\n",
    "plot_data = pd.concat((df_households_basket_num_products_average, df_households_basket_payment_average), axis=1)\n",
    "plot_data.columns = ['Average number of products', 'Average bill amount (in $)']\n",
    "\n",
    "fig = px.scatter(plot_data,\n",
    "                 x='Average number of products',\n",
    "                 y='Average bill amount (in $)',\n",
    "                 trendline='ols')\n",
    "fig.update_layout(title_text='Correlation between the two statistics')\n",
    "fig.update_layout(autosize=False, width=900, height=500)\n",
    "fig.show(renderer='iframe_connected')"
   ]
  },
  {
   "cell_type": "markdown",
   "metadata": {},
   "source": [
    "Unlike the previous pair, the mean number of products and the average bill amounts seem to be almost perfectly correlated! This was expected however: as you buy more products the more will the bill amount increase. As this statistic is not a good descriptor anyway, we have proved that we can discard it as it does not bring new information."
   ]
  },
  {
   "cell_type": "code",
   "execution_count": 36,
   "metadata": {
    "ExecuteTime": {
     "end_time": "2019-12-18T20:46:54.386143Z",
     "start_time": "2019-12-18T20:46:54.150040Z"
    }
   },
   "outputs": [
    {
     "name": "stdout",
     "output_type": "stream",
     "text": [
      "Correlation coefficient: 0.04192532577557339\n"
     ]
    },
    {
     "data": {
      "text/html": [
       "<iframe\n",
       "    scrolling=\"no\"\n",
       "    width=\"920px\"\n",
       "    height=\"520\"\n",
       "    src=\"iframe_figures/figure_36.html\"\n",
       "    frameborder=\"0\"\n",
       "    allowfullscreen\n",
       "></iframe>\n"
      ]
     },
     "metadata": {},
     "output_type": "display_data"
    }
   ],
   "source": [
    "# Compute the Spearman correlation coefficient between the two statistics\n",
    "spearman_corr_coef = df_households_basket_num_products_average.corr(df_households_basket_median_product_price_average,\n",
    "                                                                    method='spearman')\n",
    "print('Correlation coefficient:', spearman_corr_coef)\n",
    "\n",
    "plot_data = pd.concat((df_households_basket_num_products_average,\n",
    "                       df_households_basket_median_product_price_average),\n",
    "                      axis=1)\n",
    "plot_data.columns = [\n",
    "    'Average number of products', 'Average median product price (in $)'\n",
    "]\n",
    "\n",
    "fig = px.scatter(plot_data,\n",
    "                 x='Average number of products',\n",
    "                 y='Average median product price (in $)',\n",
    "                 trendline='ols')\n",
    "fig.update_layout(title_text='Correlation between the two statistics')\n",
    "fig.update_layout(autosize=False, width=900, height=500)\n",
    "fig.show(renderer='iframe_connected')"
   ]
  },
  {
   "cell_type": "markdown",
   "metadata": {},
   "source": [
    "We observe that the average number of products is uncorrelated also with the average median product price. This is expected as it follows from the other two results. So we have two pairs of uncorrelated statistics, however as the average bill amount is obviously more expressive than the number of products, the final decision is definitely to discard the latter."
   ]
  },
  {
   "cell_type": "markdown",
   "metadata": {
    "colab_type": "text",
    "id": "F3C9ztNfrv3k",
    "toc-hr-collapsed": true,
    "toc-nb-collapsed": true
   },
   "source": [
    "### Analysis of the Joint Distribution "
   ]
  },
  {
   "cell_type": "markdown",
   "metadata": {
    "colab_type": "text",
    "id": "clTG-oqmrv3k"
   },
   "source": [
    "Now that we have insight on how much money, on average, people spend on each visit to the store and how does the representative product price bought vary, we are interested to see does the household income play a crucial role in this. Our expectation is that it does, and that households with lower income spend less and buy cheaper products as opposed to households with higher income."
   ]
  },
  {
   "cell_type": "markdown",
   "metadata": {
    "colab_type": "text",
    "id": "E_l6zRHnrv3k"
   },
   "source": [
    "#### Household Income vs. Average Bill Amount"
   ]
  },
  {
   "cell_type": "markdown",
   "metadata": {
    "colab_type": "text",
    "id": "lD9TX-ahrv3l"
   },
   "source": [
    "Using a boxplot we can view the distribution of the statistic across each household income category and perform a comparison very efficiently."
   ]
  },
  {
   "cell_type": "code",
   "execution_count": 37,
   "metadata": {
    "ExecuteTime": {
     "end_time": "2019-12-18T20:46:54.393115Z",
     "start_time": "2019-12-18T20:46:54.388138Z"
    },
    "colab": {},
    "colab_type": "code",
    "id": "sCs-jbyVrv3l"
   },
   "outputs": [],
   "source": [
    "# Combine the income values and average bill amount values for each household in a new dataframe\n",
    "df = df_hh_demographic[['INCOME_DESC']].join(df_households_basket_payment_average)"
   ]
  },
  {
   "cell_type": "code",
   "execution_count": 38,
   "metadata": {
    "ExecuteTime": {
     "end_time": "2019-12-18T20:46:54.738318Z",
     "start_time": "2019-12-18T20:46:54.394088Z"
    }
   },
   "outputs": [
    {
     "data": {
      "text/html": [
       "<iframe\n",
       "    scrolling=\"no\"\n",
       "    width=\"920px\"\n",
       "    height=\"520\"\n",
       "    src=\"iframe_figures/figure_38.html\"\n",
       "    frameborder=\"0\"\n",
       "    allowfullscreen\n",
       "></iframe>\n"
      ]
     },
     "metadata": {},
     "output_type": "display_data"
    }
   ],
   "source": [
    "plot_data = df[['CUSTOMER_PAID', 'INCOME_DESC']]\n",
    "plot_data.columns = ['Average bill amount (in $)', 'Annual income (in $)']\n",
    "\n",
    "fig = px.box(data_frame=plot_data,\n",
    "             x='Average bill amount (in $)',\n",
    "             y='Annual income (in $)',\n",
    "             orientation='h')\n",
    "fig.update_layout(\n",
    "    title_text=\n",
    "    'Distribution of average bill amount across different income categories',\n",
    "    yaxis_categoryorder='array',\n",
    "    yaxis_categoryarray=income_desc_categories,\n",
    "    yaxis_autorange='reversed')\n",
    "fig.update_layout(autosize=False, width=900, height=500)\n",
    "fig.show(renderer='iframe_connected')"
   ]
  },
  {
   "cell_type": "markdown",
   "metadata": {
    "colab_type": "text",
    "id": "cJYT9Uxwrv3n"
   },
   "source": [
    "To our surprise, extreme spending are mostly observed for medium and lower income households."
   ]
  },
  {
   "cell_type": "markdown",
   "metadata": {
    "colab_type": "text",
    "id": "yNaAlR76rv3n"
   },
   "source": [
    "Using a 2D histogram i.e. heatmap we can compare the relationship between income and the statistic in more detail by viewing their joint distribution."
   ]
  },
  {
   "cell_type": "code",
   "execution_count": 39,
   "metadata": {
    "ExecuteTime": {
     "end_time": "2019-12-18T20:46:54.744335Z",
     "start_time": "2019-12-18T20:46:54.739316Z"
    },
    "colab": {},
    "colab_type": "code",
    "id": "xlwnEwKBrv3n"
   },
   "outputs": [],
   "source": [
    "# Convert the income column from ordinal to string type (needed for plotting compatibility)\n",
    "mapping = dict(zip(df['INCOME_DESC'], df['INCOME_DESC'].cat.codes))\n",
    "df['INCOME_DESC'] = df['INCOME_DESC'] \\\n",
    "    .astype(str) \\\n",
    "    .map(mapping)"
   ]
  },
  {
   "cell_type": "code",
   "execution_count": 40,
   "metadata": {
    "ExecuteTime": {
     "end_time": "2019-12-18T20:46:56.096211Z",
     "start_time": "2019-12-18T20:46:54.745299Z"
    },
    "colab": {},
    "colab_type": "code",
    "id": "v5qsUnZIrv3o",
    "outputId": "92effd43-c932-4ee4-d374-355c4581e4bb",
    "scrolled": true
   },
   "outputs": [
    {
     "data": {
      "image/png": "[encoded data removed]",
      "text/plain": [
       "<Figure size 720x720 with 3 Axes>"
      ]
     },
     "metadata": {
      "needs_background": "light"
     },
     "output_type": "display_data"
    }
   ],
   "source": [
    "# Use Kernel Density Estimation to estimate the joint distribution from the 2D histogram\n",
    "g = sns.jointplot(y='INCOME_DESC', x='CUSTOMER_PAID', data=df, kind='kde', height=10)\n",
    "g.set_axis_labels(\n",
    "    'Average bill amount (in $)',\n",
    "    'Annual income (in $)'\n",
    ")\n",
    "g.ax_joint.set_yticklabels(income_desc_categories);\n",
    "plt.savefig(\"./iframe_figures/figure_40.png\", dpi=\"figure\", format=\"png\")"
   ]
  },
  {
   "cell_type": "markdown",
   "metadata": {
    "colab_type": "text",
    "id": "uv9iSLekrv3q"
   },
   "source": [
    "We can observe that the majority of the households are concentrated at the medium income values of 35-74K and lower average expenses of about \\\\$20 - \\\\$40."
   ]
  },
  {
   "cell_type": "markdown",
   "metadata": {
    "colab_type": "text",
    "id": "Rz-L6H_Rrv3q"
   },
   "source": [
    "#### Household Income vs. Average Median Product Price"
   ]
  },
  {
   "cell_type": "markdown",
   "metadata": {
    "colab_type": "text",
    "id": "LBBfvUXYrv3q"
   },
   "source": [
    "Similarly, to begin the comparison between household income and median product prices we first merge the two features of each household."
   ]
  },
  {
   "cell_type": "code",
   "execution_count": 41,
   "metadata": {
    "ExecuteTime": {
     "end_time": "2019-12-18T20:46:56.102158Z",
     "start_time": "2019-12-18T20:46:56.097205Z"
    },
    "colab": {},
    "colab_type": "code",
    "id": "L5Ss-n2Lrv3r"
   },
   "outputs": [],
   "source": [
    "# Combine the income values and average max product price values for each household in a new dataframe\n",
    "df = df_hh_demographic[['INCOME_DESC']].join(df_households_basket_median_product_price_average)"
   ]
  },
  {
   "cell_type": "code",
   "execution_count": 42,
   "metadata": {
    "ExecuteTime": {
     "end_time": "2019-12-18T20:46:56.324066Z",
     "start_time": "2019-12-18T20:46:56.103190Z"
    },
    "colab": {},
    "colab_type": "code",
    "id": "6AwgW_jqrv3r",
    "outputId": "728fa3bb-0490-48a4-839b-f7a88ad1ab09"
   },
   "outputs": [
    {
     "data": {
      "text/html": [
       "<iframe\n",
       "    scrolling=\"no\"\n",
       "    width=\"920px\"\n",
       "    height=\"520\"\n",
       "    src=\"iframe_figures/figure_42.html\"\n",
       "    frameborder=\"0\"\n",
       "    allowfullscreen\n",
       "></iframe>\n"
      ]
     },
     "metadata": {},
     "output_type": "display_data"
    }
   ],
   "source": [
    "plot_data = df[['PRODUCT_PRICE', 'INCOME_DESC']]\n",
    "plot_data.columns = ['Average median product price (in $)', 'Annual income (in $)']\n",
    "\n",
    "fig = px.box(data_frame=plot_data,\n",
    "             x='Average median product price (in $)',\n",
    "             y='Annual income (in $)',\n",
    "             orientation='h')\n",
    "fig.update_layout(\n",
    "    title_text='Distribution of average median product price across different income categories',\n",
    "    yaxis_categoryorder='array',\n",
    "    yaxis_categoryarray=income_desc_categories,\n",
    "    yaxis_autorange='reversed')\n",
    "fig.update_layout(autosize=False, width=900, height=500)\n",
    "fig.show(renderer='iframe_connected')"
   ]
  },
  {
   "cell_type": "markdown",
   "metadata": {
    "colab_type": "text",
    "id": "IrMLrr7Frv3s"
   },
   "source": [
    "The phenomena related to the extreme values is present here as well. Additionally, an interesting difference is the generally smaller value ranges for all of the income categories, capturing the fact that the median has not considered many outlier products with very low or very high prices."
   ]
  },
  {
   "cell_type": "code",
   "execution_count": 43,
   "metadata": {
    "ExecuteTime": {
     "end_time": "2019-12-18T20:46:56.331013Z",
     "start_time": "2019-12-18T20:46:56.325064Z"
    },
    "colab": {},
    "colab_type": "code",
    "id": "Un5gSt0vrv3t"
   },
   "outputs": [],
   "source": [
    "# Convert the income column from ordinal to string type (needed for plotting compatibility)\n",
    "mapping = dict(zip(df['INCOME_DESC'], df['INCOME_DESC'].cat.codes))\n",
    "\n",
    "df['INCOME_DESC'] = df['INCOME_DESC'].astype(str).map(mapping)"
   ]
  },
  {
   "cell_type": "code",
   "execution_count": 44,
   "metadata": {
    "ExecuteTime": {
     "end_time": "2019-12-18T20:46:57.730487Z",
     "start_time": "2019-12-18T20:46:56.332012Z"
    },
    "colab": {},
    "colab_type": "code",
    "id": "SGov2Nylrv3u",
    "outputId": "fc7df8a1-d9ea-4d98-cb1d-06efb888aa78"
   },
   "outputs": [
    {
     "data": {
      "image/png": "[encoded data removed]",
      "text/plain": [
       "<Figure size 720x720 with 3 Axes>"
      ]
     },
     "metadata": {
      "needs_background": "light"
     },
     "output_type": "display_data"
    }
   ],
   "source": [
    "# Use Kernel Density Estimation to estimate the joint distribution from the 2D histogram\n",
    "g = sns.jointplot(y='INCOME_DESC', x='PRODUCT_PRICE', data=df, kind='kde', height=10)\n",
    "g.set_axis_labels(\n",
    "    'Average median product price (in $)',\n",
    "    'Annual income (in $)'\n",
    ")\n",
    "g.ax_joint.set_yticklabels(income_desc_categories);\n",
    "plt.savefig(\"./iframe_figures/figure_44.png\", dpi=\"figure\", format=\"png\")"
   ]
  },
  {
   "cell_type": "markdown",
   "metadata": {
    "colab_type": "text",
    "id": "lY39bQB3rv3v"
   },
   "source": [
    "Analyzing the joint distribution, we observe that it is similar in form to the one for the previous statistic, although more narrow in the x direction - due to the smaller value ranges of the median as also previously seen with the boxplot. We observe that the most common occurrence is a household with income in the range 50-74K to have an average median product price of about 2\\.5$."
   ]
  },
  {
   "cell_type": "markdown",
   "metadata": {
    "colab_type": "text",
    "id": "YzAwLn-6rv3v"
   },
   "source": [
    "### Trends"
   ]
  },
  {
   "cell_type": "markdown",
   "metadata": {
    "colab_type": "text",
    "id": "fmz9_CVzrv3w",
    "toc-hr-collapsed": true,
    "toc-nb-collapsed": true
   },
   "source": [
    "#### Coupon usage"
   ]
  },
  {
   "cell_type": "markdown",
   "metadata": {
    "colab_type": "text",
    "id": "u8t9vtgorv3w"
   },
   "source": [
    "We noticed that campaigns play a major role in how people spend their money. In deriving the true amount of money that households spend on every visit to the store, we took into account the coupon value. But what is the total amount used and does it vary with the income category?"
   ]
  },
  {
   "cell_type": "markdown",
   "metadata": {
    "colab_type": "text",
    "id": "PM0byy7urv3x"
   },
   "source": [
    "Coupon value is negative, since it gives a discount to the price. On this bar plot, we see a somewhat unexpected trend. People with medium to upper medium income use more coupons as opposed to the people with lower income. Interesting sight is that people with high income are also heavy users of coupons."
   ]
  },
  {
   "cell_type": "code",
   "execution_count": 45,
   "metadata": {
    "ExecuteTime": {
     "end_time": "2019-12-18T20:46:58.057612Z",
     "start_time": "2019-12-18T20:46:57.731452Z"
    }
   },
   "outputs": [
    {
     "data": {
      "text/html": [
       "<iframe\n",
       "    scrolling=\"no\"\n",
       "    width=\"920px\"\n",
       "    height=\"520\"\n",
       "    src=\"iframe_figures/figure_45.html\"\n",
       "    frameborder=\"0\"\n",
       "    allowfullscreen\n",
       "></iframe>\n"
      ]
     },
     "metadata": {},
     "output_type": "display_data"
    }
   ],
   "source": [
    "# For each household income category calculate the total coupon discount amount used\n",
    "# and normalize it by dividing it with the number of households in that category\n",
    "plot_data = df_households_transactions.groupby(['INCOME_DESC'], observed=True)['COUPON_DISC'] \\\n",
    "    .sum() \\\n",
    "    .div(df_hh_demographic['INCOME_DESC'].value_counts()) \\\n",
    "    .reset_index()\n",
    "plot_data.columns = ['Annual income (in $)', 'Average total coupon discount amount (in $)']\n",
    "\n",
    "fig = px.bar(data_frame=plot_data,\n",
    "             x='Average total coupon discount amount (in $)',\n",
    "             y='Annual income (in $)',\n",
    "             orientation='h',\n",
    "             color = 'Average total coupon discount amount (in $)',\n",
    "             color_continuous_scale='reds')\n",
    "fig.data[0]['marker']['color'] *= -1\n",
    "fig.update_layout(\n",
    "    title_text='Coupon usage',\n",
    "    yaxis_categoryorder='array',\n",
    "    yaxis_categoryarray=income_desc_categories,\n",
    "    yaxis_autorange='reversed')\n",
    "fig.update_layout(autosize=False, width=900, height=500)\n",
    "fig.show(renderer='iframe_connected')"
   ]
  },
  {
   "cell_type": "markdown",
   "metadata": {
    "colab_type": "text",
    "id": "r5kjn-norv3y",
    "toc-hr-collapsed": true,
    "toc-nb-collapsed": true
   },
   "source": [
    "#### Daily Expenses"
   ]
  },
  {
   "cell_type": "markdown",
   "metadata": {},
   "source": [
    "Interesting information can be found by looking into the day of the week when purchases have been made. While we don't know the exact date (and thereby day of the week) from when the data was recorded, it is enough to group the transactions by the *day number* module *7*, in order to plot the transactions throughout an average week. "
   ]
  },
  {
   "cell_type": "code",
   "execution_count": 46,
   "metadata": {
    "ExecuteTime": {
     "end_time": "2019-12-18T20:46:58.635118Z",
     "start_time": "2019-12-18T20:46:58.058576Z"
    },
    "colab": {},
    "colab_type": "code",
    "id": "I27ojOBHrv3y"
   },
   "outputs": [],
   "source": [
    "df = df_households_transactions.copy()\n",
    "\n",
    "# Map the integer DAY values(1-711) to weekdays (0-6) using modulo 7\n",
    "df['DAY'] = df['DAY'].apply(lambda d: d % 7)\n",
    "\n",
    "# Calculate average customer payments for each weekday\n",
    "df = df.groupby(['DAY'])['CUSTOMER_PAID'] \\\n",
    "    .sum() \\\n",
    "    .reset_index()\n",
    "\n",
    "df = df['CUSTOMER_PAID'] / len(df_hh_demographic)"
   ]
  },
  {
   "cell_type": "code",
   "execution_count": 47,
   "metadata": {
    "ExecuteTime": {
     "end_time": "2019-12-18T20:46:58.843349Z",
     "start_time": "2019-12-18T20:46:58.636116Z"
    }
   },
   "outputs": [
    {
     "data": {
      "text/html": [
       "<iframe\n",
       "    scrolling=\"no\"\n",
       "    width=\"920px\"\n",
       "    height=\"520\"\n",
       "    src=\"iframe_figures/figure_47.html\"\n",
       "    frameborder=\"0\"\n",
       "    allowfullscreen\n",
       "></iframe>\n"
      ]
     },
     "metadata": {},
     "output_type": "display_data"
    }
   ],
   "source": [
    "plot_data = df.reset_index()\n",
    "plot_data.columns = ['Day', 'Total bill amount (in $)']\n",
    "\n",
    "fig = px.bar(plot_data,\n",
    "             x='Day',\n",
    "             y='Total bill amount (in $)',\n",
    "             color='Total bill amount (in $)',\n",
    "             color_continuous_scale='blues')\n",
    "fig.update_layout(title_text=\"Distribution of bill amount across days of the week\")\n",
    "fig.update_layout(autosize=False, width=900, height=500)\n",
    "fig.show(renderer='iframe_connected')"
   ]
  },
  {
   "cell_type": "markdown",
   "metadata": {},
   "source": [
    "While we cannot be certain about which day this weeks starts with, it is to be assumed that that the two days with a larger amount of transactions are either Friday and Saturday or Saturday and Sunday. If the data is from the US, it is likely that most purchases have been made on Sunday, as people tend to have more time for shopping, and the stores are usually open on Sunday. We contacted the company which provides this dataset for more information about such details, and are currently waiting for a response. "
   ]
  },
  {
   "cell_type": "markdown",
   "metadata": {
    "colab_type": "text",
    "id": "ifDmLogTrv33",
    "toc-hr-collapsed": true,
    "toc-nb-collapsed": true
   },
   "source": [
    "#### Mapping Between Expenses and Product Categories"
   ]
  },
  {
   "cell_type": "markdown",
   "metadata": {
    "colab_type": "text",
    "id": "8L21_4ySrv33"
   },
   "source": [
    "Here we are interested to find out how household expenditure depends on the goods and/or services and how does it vary with household income. For this analysis, we will load the `product.csv` dataset. It contains information about a particular product associated with a transaction."
   ]
  },
  {
   "cell_type": "code",
   "execution_count": 48,
   "metadata": {
    "ExecuteTime": {
     "end_time": "2019-12-18T20:46:58.947046Z",
     "start_time": "2019-12-18T20:46:58.844319Z"
    },
    "colab": {
     "base_uri": "https://localhost:8080/",
     "height": 286
    },
    "colab_type": "code",
    "id": "WClf-G_1rv34",
    "outputId": "e4b78968-0869-43bb-fdf1-58f22caf466b"
   },
   "outputs": [
    {
     "name": "stdout",
     "output_type": "stream",
     "text": [
      "Number of products: 92353\n"
     ]
    },
    {
     "data": {
      "text/html": [
       "<div>\n",
       "<style scoped>\n",
       "    .dataframe tbody tr th:only-of-type {\n",
       "        vertical-align: middle;\n",
       "    }\n",
       "\n",
       "    .dataframe tbody tr th {\n",
       "        vertical-align: top;\n",
       "    }\n",
       "\n",
       "    .dataframe thead th {\n",
       "        text-align: right;\n",
       "    }\n",
       "</style>\n",
       "<table border=\"1\" class=\"dataframe\">\n",
       "  <thead>\n",
       "    <tr style=\"text-align: right;\">\n",
       "      <th></th>\n",
       "      <th>MANUFACTURER</th>\n",
       "      <th>DEPARTMENT</th>\n",
       "      <th>BRAND</th>\n",
       "      <th>COMMODITY_DESC</th>\n",
       "      <th>SUB_COMMODITY_DESC</th>\n",
       "      <th>CURR_SIZE_OF_PRODUCT</th>\n",
       "    </tr>\n",
       "    <tr>\n",
       "      <th>PRODUCT_ID</th>\n",
       "      <th></th>\n",
       "      <th></th>\n",
       "      <th></th>\n",
       "      <th></th>\n",
       "      <th></th>\n",
       "      <th></th>\n",
       "    </tr>\n",
       "  </thead>\n",
       "  <tbody>\n",
       "    <tr>\n",
       "      <td>25671</td>\n",
       "      <td>2</td>\n",
       "      <td>GROCERY</td>\n",
       "      <td>National</td>\n",
       "      <td>FRZN ICE</td>\n",
       "      <td>ICE - CRUSHED/CUBED</td>\n",
       "      <td>22 LB</td>\n",
       "    </tr>\n",
       "    <tr>\n",
       "      <td>26081</td>\n",
       "      <td>2</td>\n",
       "      <td>MISC. TRANS.</td>\n",
       "      <td>National</td>\n",
       "      <td>NO COMMODITY DESCRIPTION</td>\n",
       "      <td>NO SUBCOMMODITY DESCRIPTION</td>\n",
       "      <td></td>\n",
       "    </tr>\n",
       "    <tr>\n",
       "      <td>26093</td>\n",
       "      <td>69</td>\n",
       "      <td>PASTRY</td>\n",
       "      <td>Private</td>\n",
       "      <td>BREAD</td>\n",
       "      <td>BREAD:ITALIAN/FRENCH</td>\n",
       "      <td></td>\n",
       "    </tr>\n",
       "    <tr>\n",
       "      <td>26190</td>\n",
       "      <td>69</td>\n",
       "      <td>GROCERY</td>\n",
       "      <td>Private</td>\n",
       "      <td>FRUIT - SHELF STABLE</td>\n",
       "      <td>APPLE SAUCE</td>\n",
       "      <td>50 OZ</td>\n",
       "    </tr>\n",
       "    <tr>\n",
       "      <td>26355</td>\n",
       "      <td>69</td>\n",
       "      <td>GROCERY</td>\n",
       "      <td>Private</td>\n",
       "      <td>COOKIES/CONES</td>\n",
       "      <td>SPECIALTY COOKIES</td>\n",
       "      <td>14 OZ</td>\n",
       "    </tr>\n",
       "  </tbody>\n",
       "</table>\n",
       "</div>"
      ],
      "text/plain": [
       "            MANUFACTURER    DEPARTMENT     BRAND            COMMODITY_DESC  \\\n",
       "PRODUCT_ID                                                                   \n",
       "25671                  2       GROCERY  National                  FRZN ICE   \n",
       "26081                  2  MISC. TRANS.  National  NO COMMODITY DESCRIPTION   \n",
       "26093                 69        PASTRY   Private                     BREAD   \n",
       "26190                 69       GROCERY   Private      FRUIT - SHELF STABLE   \n",
       "26355                 69       GROCERY   Private             COOKIES/CONES   \n",
       "\n",
       "                     SUB_COMMODITY_DESC CURR_SIZE_OF_PRODUCT  \n",
       "PRODUCT_ID                                                    \n",
       "25671               ICE - CRUSHED/CUBED                22 LB  \n",
       "26081       NO SUBCOMMODITY DESCRIPTION                       \n",
       "26093              BREAD:ITALIAN/FRENCH                       \n",
       "26190                       APPLE SAUCE                50 OZ  \n",
       "26355                 SPECIALTY COOKIES                14 OZ  "
      ]
     },
     "execution_count": 48,
     "metadata": {},
     "output_type": "execute_result"
    }
   ],
   "source": [
    "# Load the data from products.csv\n",
    "df_product = pd.read_csv(DATA_DIR + PRODUCT, index_col='PRODUCT_ID')\n",
    "\n",
    "print('Number of products:', len(df_product))\n",
    "\n",
    "df_product.head()"
   ]
  },
  {
   "cell_type": "code",
   "execution_count": 49,
   "metadata": {
    "ExecuteTime": {
     "end_time": "2019-12-18T20:46:58.964035Z",
     "start_time": "2019-12-18T20:46:58.948042Z"
    },
    "colab": {
     "base_uri": "https://localhost:8080/",
     "height": 34
    },
    "colab_type": "code",
    "id": "4qFR8cqLrv34",
    "outputId": "fbd78903-18a1-41c3-8a6f-164242b12c80"
   },
   "outputs": [
    {
     "name": "stdout",
     "output_type": "stream",
     "text": [
      "Columns with missing values in products dataset: False\n"
     ]
    }
   ],
   "source": [
    "print('Columns with missing values in products dataset:',\n",
    "      np.any(df_product.isna().sum()))"
   ]
  },
  {
   "cell_type": "markdown",
   "metadata": {
    "colab_type": "text",
    "id": "AEcPv3f6rv35"
   },
   "source": [
    "Although, there are no missing values, the `CURR_SIZE_OF_PRODUCT` column has empty string values. As this is not crutial for our analysis, we are not going to further address this issue. "
   ]
  },
  {
   "cell_type": "markdown",
   "metadata": {
    "colab_type": "text",
    "id": "pf2bKi2irv35"
   },
   "source": [
    "We join the household transactions dataset with the products dataset using the `PRODUCT_ID` column."
   ]
  },
  {
   "cell_type": "code",
   "execution_count": 50,
   "metadata": {
    "ExecuteTime": {
     "end_time": "2019-12-18T20:46:59.182416Z",
     "start_time": "2019-12-18T20:46:58.964997Z"
    },
    "colab": {
     "base_uri": "https://localhost:8080/",
     "height": 204
    },
    "colab_type": "code",
    "id": "pVWzMjhlrv36",
    "outputId": "2ad58a59-c078-4381-9f31-8861cc623f5c"
   },
   "outputs": [
    {
     "data": {
      "text/html": [
       "<div>\n",
       "<style scoped>\n",
       "    .dataframe tbody tr th:only-of-type {\n",
       "        vertical-align: middle;\n",
       "    }\n",
       "\n",
       "    .dataframe tbody tr th {\n",
       "        vertical-align: top;\n",
       "    }\n",
       "\n",
       "    .dataframe thead th {\n",
       "        text-align: right;\n",
       "    }\n",
       "</style>\n",
       "<table border=\"1\" class=\"dataframe\">\n",
       "  <thead>\n",
       "    <tr style=\"text-align: right;\">\n",
       "      <th></th>\n",
       "      <th>PRODUCT_ID</th>\n",
       "      <th>QUANTITY</th>\n",
       "      <th>CUSTOMER_PAID</th>\n",
       "      <th>INCOME_DESC</th>\n",
       "      <th>COMMODITY_DESC</th>\n",
       "      <th>SUB_COMMODITY_DESC</th>\n",
       "    </tr>\n",
       "  </thead>\n",
       "  <tbody>\n",
       "    <tr>\n",
       "      <td>11</td>\n",
       "      <td>842930</td>\n",
       "      <td>1</td>\n",
       "      <td>2.19</td>\n",
       "      <td>100-124K</td>\n",
       "      <td>CONVENIENT BRKFST/WHLSM SNACKS</td>\n",
       "      <td>GRANOLA BARS</td>\n",
       "    </tr>\n",
       "    <tr>\n",
       "      <td>12</td>\n",
       "      <td>897044</td>\n",
       "      <td>1</td>\n",
       "      <td>2.99</td>\n",
       "      <td>100-124K</td>\n",
       "      <td>CRACKERS/MISC BKD FD</td>\n",
       "      <td>SNACK CRACKERS</td>\n",
       "    </tr>\n",
       "    <tr>\n",
       "      <td>13</td>\n",
       "      <td>920955</td>\n",
       "      <td>1</td>\n",
       "      <td>3.09</td>\n",
       "      <td>100-124K</td>\n",
       "      <td>BEEF</td>\n",
       "      <td>GRND/PATTY - ROUND</td>\n",
       "    </tr>\n",
       "    <tr>\n",
       "      <td>14</td>\n",
       "      <td>937406</td>\n",
       "      <td>1</td>\n",
       "      <td>2.50</td>\n",
       "      <td>100-124K</td>\n",
       "      <td>BREAKFAST SAUSAGE/SANDWICHES</td>\n",
       "      <td>LINKS - RAW</td>\n",
       "    </tr>\n",
       "    <tr>\n",
       "      <td>15</td>\n",
       "      <td>981760</td>\n",
       "      <td>1</td>\n",
       "      <td>0.60</td>\n",
       "      <td>100-124K</td>\n",
       "      <td>EGGS</td>\n",
       "      <td>EGGS - X-LARGE</td>\n",
       "    </tr>\n",
       "  </tbody>\n",
       "</table>\n",
       "</div>"
      ],
      "text/plain": [
       "    PRODUCT_ID  QUANTITY  CUSTOMER_PAID INCOME_DESC  \\\n",
       "11      842930         1           2.19    100-124K   \n",
       "12      897044         1           2.99    100-124K   \n",
       "13      920955         1           3.09    100-124K   \n",
       "14      937406         1           2.50    100-124K   \n",
       "15      981760         1           0.60    100-124K   \n",
       "\n",
       "                    COMMODITY_DESC  SUB_COMMODITY_DESC  \n",
       "11  CONVENIENT BRKFST/WHLSM SNACKS        GRANOLA BARS  \n",
       "12            CRACKERS/MISC BKD FD      SNACK CRACKERS  \n",
       "13                            BEEF  GRND/PATTY - ROUND  \n",
       "14    BREAKFAST SAUSAGE/SANDWICHES         LINKS - RAW  \n",
       "15                            EGGS      EGGS - X-LARGE  "
      ]
     },
     "execution_count": 50,
     "metadata": {},
     "output_type": "execute_result"
    }
   ],
   "source": [
    "df_transactions_products = \\\n",
    "    df_households_transactions[['PRODUCT_ID', 'QUANTITY', 'CUSTOMER_PAID', 'INCOME_DESC']] \\\n",
    "    .join(df_product[['COMMODITY_DESC', 'SUB_COMMODITY_DESC']], on='PRODUCT_ID')\n",
    "\n",
    "df_transactions_products.head()"
   ]
  },
  {
   "cell_type": "markdown",
   "metadata": {
    "colab_type": "text",
    "id": "ZNPMfG4qrv36"
   },
   "source": [
    "The following dataset is just an aggregate over `INCOME_DESC` and `COMMODITY_DESC`. It is usefull for our analysis that follow."
   ]
  },
  {
   "cell_type": "code",
   "execution_count": 51,
   "metadata": {
    "ExecuteTime": {
     "end_time": "2019-12-18T20:46:59.398868Z",
     "start_time": "2019-12-18T20:46:59.183413Z"
    },
    "colab": {
     "base_uri": "https://localhost:8080/",
     "height": 235
    },
    "colab_type": "code",
    "id": "fccHPGpNrv37",
    "outputId": "93a2cbf9-1c7c-4851-a8a6-37f5ec7f14b1"
   },
   "outputs": [
    {
     "data": {
      "text/html": [
       "<div>\n",
       "<style scoped>\n",
       "    .dataframe tbody tr th:only-of-type {\n",
       "        vertical-align: middle;\n",
       "    }\n",
       "\n",
       "    .dataframe tbody tr th {\n",
       "        vertical-align: top;\n",
       "    }\n",
       "\n",
       "    .dataframe thead th {\n",
       "        text-align: right;\n",
       "    }\n",
       "</style>\n",
       "<table border=\"1\" class=\"dataframe\">\n",
       "  <thead>\n",
       "    <tr style=\"text-align: right;\">\n",
       "      <th></th>\n",
       "      <th></th>\n",
       "      <th>CUSTOMER_PAID</th>\n",
       "    </tr>\n",
       "    <tr>\n",
       "      <th>INCOME_DESC</th>\n",
       "      <th>SUB_COMMODITY_DESC</th>\n",
       "      <th></th>\n",
       "    </tr>\n",
       "  </thead>\n",
       "  <tbody>\n",
       "    <tr>\n",
       "      <td rowspan=\"5\" valign=\"top\">Under 15K</td>\n",
       "      <td>*BOYS/GIRLS MISC TOYS</td>\n",
       "      <td>9.99</td>\n",
       "    </tr>\n",
       "    <tr>\n",
       "      <td>*SCRAPBOOK</td>\n",
       "      <td>3.49</td>\n",
       "    </tr>\n",
       "    <tr>\n",
       "      <td>*SPORT NOVELTIES</td>\n",
       "      <td>2.99</td>\n",
       "    </tr>\n",
       "    <tr>\n",
       "      <td>*SPRING/SUMMER MISC</td>\n",
       "      <td>2.00</td>\n",
       "    </tr>\n",
       "    <tr>\n",
       "      <td>ABRASIVES</td>\n",
       "      <td>36.96</td>\n",
       "    </tr>\n",
       "  </tbody>\n",
       "</table>\n",
       "</div>"
      ],
      "text/plain": [
       "                                   CUSTOMER_PAID\n",
       "INCOME_DESC SUB_COMMODITY_DESC                  \n",
       "Under 15K   *BOYS/GIRLS MISC TOYS           9.99\n",
       "            *SCRAPBOOK                      3.49\n",
       "            *SPORT NOVELTIES                2.99\n",
       "            *SPRING/SUMMER MISC             2.00\n",
       "            ABRASIVES                      36.96"
      ]
     },
     "execution_count": 51,
     "metadata": {},
     "output_type": "execute_result"
    }
   ],
   "source": [
    "df = df_transactions_products \\\n",
    "    .groupby(['INCOME_DESC', 'SUB_COMMODITY_DESC'], observed=True)['CUSTOMER_PAID'] \\\n",
    "    .sum() \\\n",
    "    .dropna() \\\n",
    "    .to_frame()\n",
    "\n",
    "df.head()"
   ]
  },
  {
   "cell_type": "markdown",
   "metadata": {
    "colab_type": "text",
    "id": "-d5oq74Rrv37",
    "toc-hr-collapsed": true,
    "toc-nb-collapsed": true
   },
   "source": [
    "#### Most Purchased Product"
   ]
  },
  {
   "cell_type": "markdown",
   "metadata": {
    "colab_type": "text",
    "id": "T7-TFse4rv38"
   },
   "source": [
    "We are interested to see on which product does the households spend most of their money on. This is also dependent on the income category."
   ]
  },
  {
   "cell_type": "code",
   "execution_count": 52,
   "metadata": {
    "ExecuteTime": {
     "end_time": "2019-12-18T20:46:59.409842Z",
     "start_time": "2019-12-18T20:46:59.399873Z"
    },
    "colab": {
     "base_uri": "https://localhost:8080/",
     "height": 255
    },
    "colab_type": "code",
    "id": "UKgUsrbzrv38",
    "outputId": "a9215758-b15c-4a8d-d4fe-e629d3524405"
   },
   "outputs": [
    {
     "data": {
      "text/plain": [
       "INCOME_DESC\n",
       "Under 15K    (CUSTOMER_PAID, GASOLINE-REG UNLEADED)\n",
       "15-24K       (CUSTOMER_PAID, GASOLINE-REG UNLEADED)\n",
       "25-34K       (CUSTOMER_PAID, GASOLINE-REG UNLEADED)\n",
       "35-49K       (CUSTOMER_PAID, GASOLINE-REG UNLEADED)\n",
       "50-74K       (CUSTOMER_PAID, GASOLINE-REG UNLEADED)\n",
       "75-99K       (CUSTOMER_PAID, GASOLINE-REG UNLEADED)\n",
       "100-124K     (CUSTOMER_PAID, GASOLINE-REG UNLEADED)\n",
       "125-149K     (CUSTOMER_PAID, GASOLINE-REG UNLEADED)\n",
       "150-174K     (CUSTOMER_PAID, GASOLINE-REG UNLEADED)\n",
       "175-199K     (CUSTOMER_PAID, GASOLINE-REG UNLEADED)\n",
       "200-249K     (CUSTOMER_PAID, GASOLINE-REG UNLEADED)\n",
       "250K+        (CUSTOMER_PAID, GASOLINE-REG UNLEADED)\n",
       "dtype: object"
      ]
     },
     "execution_count": 52,
     "metadata": {},
     "output_type": "execute_result"
    }
   ],
   "source": [
    "# Calculate most purchased product as argmax of total customer payments for each income category\n",
    "df.unstack().idxmax(axis=1)"
   ]
  },
  {
   "cell_type": "markdown",
   "metadata": {
    "colab_type": "text",
    "id": "spzZgIYGrv39"
   },
   "source": [
    "It looks like they spend most of their anual income on gasoline, which is expected taking into account the demographics data of the households. But lets see the distribution."
   ]
  },
  {
   "cell_type": "code",
   "execution_count": 53,
   "metadata": {
    "ExecuteTime": {
     "end_time": "2019-12-18T20:46:59.423771Z",
     "start_time": "2019-12-18T20:46:59.410840Z"
    },
    "colab": {
     "base_uri": "https://localhost:8080/",
     "height": 68
    },
    "colab_type": "code",
    "id": "M_I0tbA1rv39",
    "outputId": "52fb744a-77cc-4718-dfff-c9881a33d85b"
   },
   "outputs": [
    {
     "data": {
      "text/plain": [
       "array([ 143.42822917,  123.37703488,  293.16083333,  892.79519481,\n",
       "       1392.28081081,  842.9404918 ,  670.58394737,  924.67705882,\n",
       "        842.97866667,  738.80818182,   50.73272727,  845.314     ])"
      ]
     },
     "execution_count": 53,
     "metadata": {},
     "output_type": "execute_result"
    }
   ],
   "source": [
    "# Calculate the total money spent od unleaded gasoline for each income category\n",
    "# and normalize with the number of households in each category\n",
    "stats = df.unstack()['CUSTOMER_PAID']['GASOLINE-REG UNLEADED'] \\\n",
    "    .div(df_hh_demographic['INCOME_DESC'].value_counts().values) \\\n",
    "    .values\n",
    "\n",
    "stats"
   ]
  },
  {
   "cell_type": "code",
   "execution_count": 54,
   "metadata": {
    "ExecuteTime": {
     "end_time": "2019-12-18T20:46:59.704056Z",
     "start_time": "2019-12-18T20:46:59.424801Z"
    }
   },
   "outputs": [
    {
     "data": {
      "text/html": [
       "<iframe\n",
       "    scrolling=\"no\"\n",
       "    width=\"920px\"\n",
       "    height=\"520\"\n",
       "    src=\"iframe_figures/figure_54.html\"\n",
       "    frameborder=\"0\"\n",
       "    allowfullscreen\n",
       "></iframe>\n"
      ]
     },
     "metadata": {},
     "output_type": "display_data"
    }
   ],
   "source": [
    "# Construct data into the form needed for polar coordinate plotting\n",
    "# Discrete angle values represent income categories, radius represents normalized gasoline purchases\n",
    "angles = np.linspace(0, 360, len(income_desc_categories), endpoint=False)\n",
    "r = np.concatenate((stats, [stats[0]]))\n",
    "theta = np.concatenate((angles, [angles[0]]))\n",
    "\n",
    "plot_data = pd.concat(\n",
    "    (pd.Series(r, name='Normalized gasoline purchases (in $)'),\n",
    "     pd.Series(income_desc_categories + [income_desc_categories[0],],\n",
    "               name='Annual income (in $)')),\n",
    "    axis=1)\n",
    "\n",
    "fig = px.scatter_polar(plot_data,\n",
    "                    r='Normalized gasoline purchases (in $)',\n",
    "                    theta='Annual income (in $)',\n",
    "                    start_angle=0,\n",
    "                    direction='counterclockwise',\n",
    "                    title='Most purchased product category per income')\n",
    "\n",
    "fig.update_traces(fill='toself', hoveron='points', mode='markers+lines')\n",
    "fig.update_layout(autosize=False, width=900, height=500)\n",
    "fig.show(renderer='iframe_connected')"
   ]
  },
  {
   "cell_type": "markdown",
   "metadata": {
    "colab_type": "text",
    "id": "Uv0rTMq4rv3_"
   },
   "source": [
    "The distribution is highly concentrated around the middle to upper middle income categories. The reason is that households with lower income can't afford owning a vehicle, however the reason for the upper income is somewhat unclear. It could be that they use other means of transportation required by their job.\n",
    "\n",
    "Setting gasoline aside, we are also interest in how the expenses are distributed in the other product categories."
   ]
  },
  {
   "cell_type": "code",
   "execution_count": 55,
   "metadata": {
    "ExecuteTime": {
     "end_time": "2019-12-18T20:46:59.717021Z",
     "start_time": "2019-12-18T20:46:59.705019Z"
    },
    "colab": {
     "base_uri": "https://localhost:8080/",
     "height": 235
    },
    "colab_type": "code",
    "id": "SGIqR2Iurv3_",
    "outputId": "42a85db5-7396-4e8b-83bb-23c0e2a7041a"
   },
   "outputs": [
    {
     "data": {
      "text/html": [
       "<div>\n",
       "<style scoped>\n",
       "    .dataframe tbody tr th:only-of-type {\n",
       "        vertical-align: middle;\n",
       "    }\n",
       "\n",
       "    .dataframe tbody tr th {\n",
       "        vertical-align: top;\n",
       "    }\n",
       "\n",
       "    .dataframe thead th {\n",
       "        text-align: right;\n",
       "    }\n",
       "</style>\n",
       "<table border=\"1\" class=\"dataframe\">\n",
       "  <thead>\n",
       "    <tr style=\"text-align: right;\">\n",
       "      <th></th>\n",
       "      <th></th>\n",
       "      <th>CUSTOMER_PAID</th>\n",
       "    </tr>\n",
       "    <tr>\n",
       "      <th>INCOME_DESC</th>\n",
       "      <th>SUB_COMMODITY_DESC</th>\n",
       "      <th></th>\n",
       "    </tr>\n",
       "  </thead>\n",
       "  <tbody>\n",
       "    <tr>\n",
       "      <td rowspan=\"5\" valign=\"top\">Under 15K</td>\n",
       "      <td>*BOYS/GIRLS MISC TOYS</td>\n",
       "      <td>9.99</td>\n",
       "    </tr>\n",
       "    <tr>\n",
       "      <td>*SCRAPBOOK</td>\n",
       "      <td>3.49</td>\n",
       "    </tr>\n",
       "    <tr>\n",
       "      <td>*SPORT NOVELTIES</td>\n",
       "      <td>2.99</td>\n",
       "    </tr>\n",
       "    <tr>\n",
       "      <td>*SPRING/SUMMER MISC</td>\n",
       "      <td>2.00</td>\n",
       "    </tr>\n",
       "    <tr>\n",
       "      <td>ABRASIVES</td>\n",
       "      <td>36.96</td>\n",
       "    </tr>\n",
       "  </tbody>\n",
       "</table>\n",
       "</div>"
      ],
      "text/plain": [
       "                                   CUSTOMER_PAID\n",
       "INCOME_DESC SUB_COMMODITY_DESC                  \n",
       "Under 15K   *BOYS/GIRLS MISC TOYS           9.99\n",
       "            *SCRAPBOOK                      3.49\n",
       "            *SPORT NOVELTIES                2.99\n",
       "            *SPRING/SUMMER MISC             2.00\n",
       "            ABRASIVES                      36.96"
      ]
     },
     "execution_count": 55,
     "metadata": {},
     "output_type": "execute_result"
    }
   ],
   "source": [
    "# Temporarily remove all purchase data about this gasoline category\n",
    "dff = df[df.index.get_level_values('SUB_COMMODITY_DESC') != 'GASOLINE-REG UNLEADED']\n",
    "\n",
    "dff.head()"
   ]
  },
  {
   "cell_type": "markdown",
   "metadata": {
    "colab_type": "text",
    "id": "oaXJ6Ok1rv4A"
   },
   "source": [
    "For this, we will use a sankey plot because it is an excellent way to visualize flow of information between two subsets. From it, we will have a clear idea about how the expenses from income groups map to product categories."
   ]
  },
  {
   "cell_type": "markdown",
   "metadata": {
    "colab_type": "text",
    "id": "95AuoeIBrv4A"
   },
   "source": [
    "We will use top 200 products ordered by `QUANTITY` plot the flow diagram between the income and the product category. We can easily visualize how the quantity of the purchased products is distributed and later search for patterns in the expenditure."
   ]
  },
  {
   "cell_type": "code",
   "execution_count": 56,
   "metadata": {
    "ExecuteTime": {
     "end_time": "2019-12-18T20:46:59.759921Z",
     "start_time": "2019-12-18T20:46:59.717984Z"
    },
    "colab": {
     "base_uri": "https://localhost:8080/",
     "height": 419
    },
    "colab_type": "code",
    "id": "NjCnx7GDrv4B",
    "outputId": "c5921656-7b49-4405-9966-e838da6659d8"
   },
   "outputs": [
    {
     "data": {
      "text/html": [
       "<div>\n",
       "<style scoped>\n",
       "    .dataframe tbody tr th:only-of-type {\n",
       "        vertical-align: middle;\n",
       "    }\n",
       "\n",
       "    .dataframe tbody tr th {\n",
       "        vertical-align: top;\n",
       "    }\n",
       "\n",
       "    .dataframe thead th {\n",
       "        text-align: right;\n",
       "    }\n",
       "</style>\n",
       "<table border=\"1\" class=\"dataframe\">\n",
       "  <thead>\n",
       "    <tr style=\"text-align: right;\">\n",
       "      <th></th>\n",
       "      <th>INCOME_DESC</th>\n",
       "      <th>SUB_COMMODITY_DESC</th>\n",
       "      <th>CUSTOMER_PAID</th>\n",
       "    </tr>\n",
       "  </thead>\n",
       "  <tbody>\n",
       "    <tr>\n",
       "      <td>1466</td>\n",
       "      <td>Under 15K</td>\n",
       "      <td>SOFT DRINKS 12/18&amp;15PK CAN CAR</td>\n",
       "      <td>8161.77</td>\n",
       "    </tr>\n",
       "    <tr>\n",
       "      <td>562</td>\n",
       "      <td>Under 15K</td>\n",
       "      <td>FLUID MILK WHITE ONLY</td>\n",
       "      <td>5937.73</td>\n",
       "    </tr>\n",
       "    <tr>\n",
       "      <td>327</td>\n",
       "      <td>Under 15K</td>\n",
       "      <td>CIGARETTES</td>\n",
       "      <td>4630.39</td>\n",
       "    </tr>\n",
       "    <tr>\n",
       "      <td>319</td>\n",
       "      <td>Under 15K</td>\n",
       "      <td>CHOICE BEEF</td>\n",
       "      <td>4218.34</td>\n",
       "    </tr>\n",
       "    <tr>\n",
       "      <td>142</td>\n",
       "      <td>Under 15K</td>\n",
       "      <td>BEERALEMALT LIQUORS</td>\n",
       "      <td>3793.83</td>\n",
       "    </tr>\n",
       "    <tr>\n",
       "      <td>...</td>\n",
       "      <td>...</td>\n",
       "      <td>...</td>\n",
       "      <td>...</td>\n",
       "    </tr>\n",
       "    <tr>\n",
       "      <td>18110</td>\n",
       "      <td>250K+</td>\n",
       "      <td>ALL FAMILY CEREAL</td>\n",
       "      <td>975.26</td>\n",
       "    </tr>\n",
       "    <tr>\n",
       "      <td>18599</td>\n",
       "      <td>250K+</td>\n",
       "      <td>FRZN BAGGED VEGETABLES - PLAIN</td>\n",
       "      <td>960.68</td>\n",
       "    </tr>\n",
       "    <tr>\n",
       "      <td>18738</td>\n",
       "      <td>250K+</td>\n",
       "      <td>ISOTONIC DRINKS MULTI-SERVE</td>\n",
       "      <td>926.58</td>\n",
       "    </tr>\n",
       "    <tr>\n",
       "      <td>19386</td>\n",
       "      <td>250K+</td>\n",
       "      <td>TOILET TISSUE</td>\n",
       "      <td>865.56</td>\n",
       "    </tr>\n",
       "    <tr>\n",
       "      <td>18533</td>\n",
       "      <td>250K+</td>\n",
       "      <td>FIGHTING VARIETAL WINES</td>\n",
       "      <td>850.82</td>\n",
       "    </tr>\n",
       "  </tbody>\n",
       "</table>\n",
       "<p>180 rows × 3 columns</p>\n",
       "</div>"
      ],
      "text/plain": [
       "      INCOME_DESC              SUB_COMMODITY_DESC  CUSTOMER_PAID\n",
       "1466    Under 15K  SOFT DRINKS 12/18&15PK CAN CAR        8161.77\n",
       "562     Under 15K           FLUID MILK WHITE ONLY        5937.73\n",
       "327     Under 15K                      CIGARETTES        4630.39\n",
       "319     Under 15K                     CHOICE BEEF        4218.34\n",
       "142     Under 15K             BEERALEMALT LIQUORS        3793.83\n",
       "...           ...                             ...            ...\n",
       "18110       250K+               ALL FAMILY CEREAL         975.26\n",
       "18599       250K+  FRZN BAGGED VEGETABLES - PLAIN         960.68\n",
       "18738       250K+     ISOTONIC DRINKS MULTI-SERVE         926.58\n",
       "19386       250K+                   TOILET TISSUE         865.56\n",
       "18533       250K+         FIGHTING VARIETAL WINES         850.82\n",
       "\n",
       "[180 rows x 3 columns]"
      ]
     },
     "execution_count": 56,
     "metadata": {},
     "output_type": "execute_result"
    }
   ],
   "source": [
    "# For each income category find the top 15 purchased product categories based on customer spending\n",
    "dff = dff \\\n",
    "    .reset_index() \\\n",
    "    .groupby(['INCOME_DESC'], observed=True)['SUB_COMMODITY_DESC', 'CUSTOMER_PAID'] \\\n",
    "    .apply(lambda df: df.sort_values(by='CUSTOMER_PAID', ascending=False).head(15)) \\\n",
    "    .reset_index(level=0)\n",
    "\n",
    "dff"
   ]
  },
  {
   "cell_type": "code",
   "execution_count": 57,
   "metadata": {
    "ExecuteTime": {
     "end_time": "2019-12-18T20:46:59.858609Z",
     "start_time": "2019-12-18T20:46:59.760905Z"
    },
    "colab": {},
    "colab_type": "code",
    "id": "uikUDZPSrv4C"
   },
   "outputs": [],
   "source": [
    "# Aggregate customer payment data first on income categories and then with product categories\n",
    "# Construct data into form required for the Sankey plot\n",
    "data = []\n",
    "\n",
    "palette = sns.color_palette('cubehelix', len(dff) + dff['INCOME_DESC'].nunique())\n",
    "colours = palette.as_hex()\n",
    "\n",
    "level1 = dff[['INCOME_DESC', 'CUSTOMER_PAID']] \\\n",
    "    .groupby('INCOME_DESC', observed=True) \\\n",
    "    .agg('sum')\n",
    "\n",
    "c_count = 0\n",
    "\n",
    "for i, r in level1.reset_index().iterrows():\n",
    "    data.append({\n",
    "        'source': 'Expenditure',\n",
    "        'target': r['INCOME_DESC'],\n",
    "        'value': r['CUSTOMER_PAID'],\n",
    "        'color': colours[c_count]\n",
    "    })\n",
    "    \n",
    "    item_dff = dff[dff['INCOME_DESC'] == r['INCOME_DESC']] \\\n",
    "        [['INCOME_DESC', 'SUB_COMMODITY_DESC', 'CUSTOMER_PAID']] \\\n",
    "        .groupby(['INCOME_DESC', 'SUB_COMMODITY_DESC'], observed=True) \\\n",
    "        .agg('sum') \\\n",
    "        .reset_index()\n",
    "    \n",
    "    for item_i, item_r in item_dff.iterrows():\n",
    "        \n",
    "        c_count += 1\n",
    "\n",
    "        data.append({\n",
    "            'source': item_r['INCOME_DESC'],\n",
    "            'target': item_r['SUB_COMMODITY_DESC'],\n",
    "            'value': item_r['CUSTOMER_PAID'],\n",
    "            'color': colours[c_count]\n",
    "        })"
   ]
  },
  {
   "cell_type": "code",
   "execution_count": 58,
   "metadata": {
    "ExecuteTime": {
     "end_time": "2019-12-18T20:46:59.863595Z",
     "start_time": "2019-12-18T20:46:59.859606Z"
    },
    "colab": {},
    "colab_type": "code",
    "id": "8iGuWzJprv4D"
   },
   "outputs": [],
   "source": [
    "# Load the sankey plot instead!\n",
    "#\n",
    "# w = SankeyWidget(layout=Layout(width='1600', height='3000'),\n",
    "#                  links=data,\n",
    "#                  margins=dict(top=0, bottom=0, left=100, right=150))\n",
    "#\n",
    "# w.save_png('sankey.png')\n",
    "#\n",
    "# w"
   ]
  },
  {
   "cell_type": "markdown",
   "metadata": {
    "colab_type": "text",
    "id": "sMbQ_mzyrv4F"
   },
   "source": [
    "<img src='sankey.png' />"
   ]
  },
  {
   "cell_type": "markdown",
   "metadata": {
    "colab_type": "text",
    "id": "F-e8aX04rv4G"
   },
   "source": [
    "In order to analyze this sankey diagram further, we call on a principle from microeconomics, called **Engel curves**."
   ]
  },
  {
   "cell_type": "markdown",
   "metadata": {
    "colab_type": "text",
    "id": "7tr1DUljrv4G",
    "toc-hr-collapsed": true,
    "toc-nb-collapsed": true
   },
   "source": [
    "#### Engel curves"
   ]
  },
  {
   "cell_type": "markdown",
   "metadata": {
    "colab_type": "text",
    "id": "ZxdklJsWrv4H"
   },
   "source": [
    "One particular way of determining how household expenditure, on a particular good or service, varies with household income is visualizing Engel curves. Engel curves on the x-axis have the income category and on the y-axis the quantity of the measured product. We can infer some type of goods using these curves."
   ]
  },
  {
   "cell_type": "code",
   "execution_count": 59,
   "metadata": {
    "ExecuteTime": {
     "end_time": "2019-12-18T20:47:00.065098Z",
     "start_time": "2019-12-18T20:46:59.864592Z"
    },
    "colab": {
     "base_uri": "https://localhost:8080/",
     "height": 255
    },
    "colab_type": "code",
    "id": "TbwgTbNgrv4H",
    "outputId": "352432b9-fa8b-4f1f-8ec0-119a091a28a7"
   },
   "outputs": [],
   "source": [
    "# Calculate total quantity of each product category purchased, for each income category \n",
    "df = df_transactions_products \\\n",
    "    .groupby(['INCOME_DESC', 'COMMODITY_DESC'], observed=True)['QUANTITY'] \\\n",
    "    .sum() \\\n",
    "    .dropna() \\\n",
    "    .reset_index(level=1)"
   ]
  },
  {
   "cell_type": "markdown",
   "metadata": {},
   "source": [
    "For a start, here are the 10 most purchased items:"
   ]
  },
  {
   "cell_type": "code",
   "execution_count": 60,
   "metadata": {
    "ExecuteTime": {
     "end_time": "2019-12-18T20:47:00.074070Z",
     "start_time": "2019-12-18T20:47:00.066054Z"
    }
   },
   "outputs": [
    {
     "data": {
      "text/html": [
       "<div>\n",
       "<style scoped>\n",
       "    .dataframe tbody tr th:only-of-type {\n",
       "        vertical-align: middle;\n",
       "    }\n",
       "\n",
       "    .dataframe tbody tr th {\n",
       "        vertical-align: top;\n",
       "    }\n",
       "\n",
       "    .dataframe thead th {\n",
       "        text-align: right;\n",
       "    }\n",
       "</style>\n",
       "<table border=\"1\" class=\"dataframe\">\n",
       "  <thead>\n",
       "    <tr style=\"text-align: right;\">\n",
       "      <th></th>\n",
       "      <th>QUANTITY</th>\n",
       "    </tr>\n",
       "    <tr>\n",
       "      <th>COMMODITY_DESC</th>\n",
       "      <th></th>\n",
       "    </tr>\n",
       "  </thead>\n",
       "  <tbody>\n",
       "    <tr>\n",
       "      <td>COUPON/MISC ITEMS</td>\n",
       "      <td>162074939</td>\n",
       "    </tr>\n",
       "    <tr>\n",
       "      <td>SOFT DRINKS</td>\n",
       "      <td>83045</td>\n",
       "    </tr>\n",
       "    <tr>\n",
       "      <td>FLUID MILK PRODUCTS</td>\n",
       "      <td>63882</td>\n",
       "    </tr>\n",
       "    <tr>\n",
       "      <td>BAKED BREAD/BUNS/ROLLS</td>\n",
       "      <td>52748</td>\n",
       "    </tr>\n",
       "    <tr>\n",
       "      <td>CHEESE</td>\n",
       "      <td>52512</td>\n",
       "    </tr>\n",
       "    <tr>\n",
       "      <td>SOUP</td>\n",
       "      <td>46641</td>\n",
       "    </tr>\n",
       "    <tr>\n",
       "      <td>YOGURT</td>\n",
       "      <td>45427</td>\n",
       "    </tr>\n",
       "    <tr>\n",
       "      <td>VEGETABLES - SHELF STABLE</td>\n",
       "      <td>44723</td>\n",
       "    </tr>\n",
       "    <tr>\n",
       "      <td>BAG SNACKS</td>\n",
       "      <td>43184</td>\n",
       "    </tr>\n",
       "    <tr>\n",
       "      <td>FRZN MEAT/MEAT DINNERS</td>\n",
       "      <td>42602</td>\n",
       "    </tr>\n",
       "  </tbody>\n",
       "</table>\n",
       "</div>"
      ],
      "text/plain": [
       "                            QUANTITY\n",
       "COMMODITY_DESC                      \n",
       "COUPON/MISC ITEMS          162074939\n",
       "SOFT DRINKS                    83045\n",
       "FLUID MILK PRODUCTS            63882\n",
       "BAKED BREAD/BUNS/ROLLS         52748\n",
       "CHEESE                         52512\n",
       "SOUP                           46641\n",
       "YOGURT                         45427\n",
       "VEGETABLES - SHELF STABLE      44723\n",
       "BAG SNACKS                     43184\n",
       "FRZN MEAT/MEAT DINNERS         42602"
      ]
     },
     "execution_count": 60,
     "metadata": {},
     "output_type": "execute_result"
    }
   ],
   "source": [
    "df.groupby('COMMODITY_DESC')['COMMODITY_DESC','QUANTITY'].sum().sort_values('QUANTITY',ascending=False).head(10)"
   ]
  },
  {
   "cell_type": "code",
   "execution_count": 61,
   "metadata": {
    "ExecuteTime": {
     "end_time": "2019-12-18T20:47:00.349442Z",
     "start_time": "2019-12-18T20:47:00.075029Z"
    }
   },
   "outputs": [
    {
     "data": {
      "text/html": [
       "<iframe\n",
       "    scrolling=\"no\"\n",
       "    width=\"920px\"\n",
       "    height=\"520\"\n",
       "    src=\"iframe_figures/figure_61.html\"\n",
       "    frameborder=\"0\"\n",
       "    allowfullscreen\n",
       "></iframe>\n"
      ]
     },
     "metadata": {},
     "output_type": "display_data"
    }
   ],
   "source": [
    "# commodity_desc_list = df['COMMODITY_DESC'].unique()\n",
    "commodity_desc_list = [\n",
    "    'MARGARINES', 'FROZEN', 'PREPARED FOOD', 'PNT BTR/JELLY/JAMS',\n",
    "    'IMPORTED WINE', 'VEAL']\n",
    "plot_data = pd.DataFrame()\n",
    "for commodity_desc in commodity_desc_list:\n",
    "    df_commodity = df[df['COMMODITY_DESC'] == commodity_desc] \\\n",
    "        .reindex(income_desc_categories, fill_value=0)\n",
    "    df_commodity['COMMODITY_DESC'] = commodity_desc\n",
    "    # Calculate the distribution of the average purchased quantity of the product category\n",
    "    # Normalize with respect to the number of households in each income category \n",
    "    df_commodity['QUANTITY'] = df_commodity['QUANTITY'] \\\n",
    "        .div(df_hh_demographic['INCOME_DESC'].value_counts().values)\n",
    "    # Normalize with respect to the total quantity\n",
    "    df_commodity['QUANTITY'] = df_commodity['QUANTITY'].div(df_commodity['QUANTITY'].sum())\n",
    "    plot_data = pd.concat((plot_data, df_commodity.reset_index()))\n",
    "\n",
    "# Remove the first and last income category because\n",
    "# they contain all the outliers\n",
    "plot_data = plot_data[~plot_data['INCOME_DESC'].isin(['Under 15K', '250K+'])]\n",
    "plot_data.columns = ['Annual income (in $)', 'Product category', 'Quantity']\n",
    "fig = px.line(plot_data, x='Annual income (in $)', y='Quantity', color='Product category')\n",
    "fig.update_traces(mode='markers+lines')\n",
    "\n",
    "menu_buttons = [{'label':'ALL', 'method':'update', 'args':[{'visible':[True,] * len(commodity_desc_list)}]}]\n",
    "for i, commodity_desc in enumerate(commodity_desc_list):\n",
    "    button_arg_visible = [False, ] * len(commodity_desc_list)\n",
    "    button_arg_visible[i] = True\n",
    "    button = {'label':commodity_desc, 'method':'update', 'args':[{'visible':button_arg_visible}, ]}\n",
    "    menu_buttons.append(button)\n",
    "    \n",
    "dropdown_menu = go.layout.Updatemenu(active=0, buttons=menu_buttons, showactive=True, xanchor=\"left\", x=0.125, yanchor=\"top\", y=1.125)\n",
    "fig.update_layout(title_text = 'Engel curves', updatemenus = [dropdown_menu, ], showlegend=False)\n",
    "fig.update_layout(autosize=False, width=900, height=500)\n",
    "fig.show(renderer='iframe_connected')"
   ]
  },
  {
   "cell_type": "markdown",
   "metadata": {
    "colab_type": "text",
    "id": "-L4uxmZGrv4J"
   },
   "source": [
    "Here we showcase an example of inferior goods. Margarine is an inferior good since its demand drops when people's incomes rise. This occurs when a good has more costly substitutes (butter) that see an increase in demand as incomes and the economy improve. There are other examples in our dataset (ex. frozen food, prepared food, peanut butter and jelly).\n",
    "\n",
    "When looking at the above plots, one might be surprised that for all four products, households with low incomes, and households with extremely high income tend to purchase fewer of them. For households with low income, this is no surprise. But what about high-income households? It is likely that individuals of high incomes often dine out, as this saves time. That way, they don't have to purchase large quantities of any products in supermarkets. "
   ]
  },
  {
   "cell_type": "markdown",
   "metadata": {
    "colab_type": "text",
    "id": "wpJwsSonrv4K",
    "toc-hr-collapsed": true,
    "toc-nb-collapsed": true
   },
   "source": [
    "### Demographic Analysis of Household Groups"
   ]
  },
  {
   "cell_type": "markdown",
   "metadata": {
    "colab_type": "text",
    "id": "zqA12IAErv4K"
   },
   "source": [
    "In order to understand how family values influence the balance between household's expenses and income, we will analyze the demographic properties across 4 groups of households."
   ]
  },
  {
   "cell_type": "code",
   "execution_count": 62,
   "metadata": {
    "ExecuteTime": {
     "end_time": "2019-12-18T20:47:00.354380Z",
     "start_time": "2019-12-18T20:47:00.350404Z"
    },
    "colab": {},
    "colab_type": "code",
    "id": "s0DZqSX8rv4K"
   },
   "outputs": [],
   "source": [
    "# Median values for income and expenses\n",
    "# We will use the average bill amount statistic to represent expenses\n",
    "AVG_INCOME = '50-74K'\n",
    "AVG_EXPENSES = df_households_basket_payment_average.median()"
   ]
  },
  {
   "cell_type": "code",
   "execution_count": 63,
   "metadata": {
    "ExecuteTime": {
     "end_time": "2019-12-18T20:47:00.375323Z",
     "start_time": "2019-12-18T20:47:00.355377Z"
    },
    "colab": {},
    "colab_type": "code",
    "id": "QBDwTHcNrv4L"
   },
   "outputs": [],
   "source": [
    "# Split the household demographic dataset into 4 subsets based on income and expenses\n",
    "df = df_hh_demographic.join(df_households_basket_payment_average.to_frame().rename(columns={'CUSTOMER_PAID': 'EXPENSES'}))\n",
    "\n",
    "df_low_income_low_expenses = df[(df['INCOME_DESC'] <= AVG_INCOME) & (df['EXPENSES'] <= AVG_EXPENSES)]\n",
    "df_low_income_high_expenses = df[(df['INCOME_DESC'] <= AVG_INCOME) & (df['EXPENSES'] > AVG_EXPENSES)]\n",
    "df_high_income_low_expenses = df[(df['INCOME_DESC'] > AVG_INCOME) & (df['EXPENSES'] <= AVG_EXPENSES)]\n",
    "df_high_income_high_expenses = df[(df['INCOME_DESC'] > AVG_INCOME) & (df['EXPENSES'] > AVG_EXPENSES)]"
   ]
  },
  {
   "cell_type": "code",
   "execution_count": 64,
   "metadata": {
    "ExecuteTime": {
     "end_time": "2019-12-18T20:47:00.383339Z",
     "start_time": "2019-12-18T20:47:00.376321Z"
    },
    "colab": {},
    "colab_type": "code",
    "id": "VFi9Tll0rv4L",
    "outputId": "7aee61db-0c5f-415b-a338-cb50ce4aa58c"
   },
   "outputs": [
    {
     "name": "stdout",
     "output_type": "stream",
     "text": [
      "Percent of households with low income and low expenses: 0.4082\n",
      "Percent of households with low income and high expenses: 0.3109\n",
      "Percent of households with high income and low expenses: 0.0924\n",
      "Percent of households with high income and high expenses: 0.1885\n"
     ]
    }
   ],
   "source": [
    "print('Percent of households with low income and low expenses:', round(len(df_low_income_low_expenses) / len(df_hh_demographic), 4))\n",
    "print('Percent of households with low income and high expenses:', round(len(df_low_income_high_expenses) / len(df_hh_demographic), 4))\n",
    "print('Percent of households with high income and low expenses:', round(len(df_high_income_low_expenses) / len(df_hh_demographic), 4))\n",
    "print('Percent of households with high income and high expenses:', round(len(df_high_income_high_expenses) / len(df_hh_demographic), 4))"
   ]
  },
  {
   "cell_type": "markdown",
   "metadata": {
    "colab_type": "text",
    "id": "oNvaiLAQrv4M"
   },
   "source": [
    "These groups were generated using the average income and average expenses. We split the households into: below (or above) average income and below (or above) average expenses."
   ]
  },
  {
   "cell_type": "code",
   "execution_count": 65,
   "metadata": {
    "ExecuteTime": {
     "end_time": "2019-12-18T20:47:00.438156Z",
     "start_time": "2019-12-18T20:47:00.384337Z"
    }
   },
   "outputs": [],
   "source": [
    "demographic_features = df_hh_demographic.columns.drop('INCOME_DESC')\n",
    "\n",
    "demographic_features_categories = dict.fromkeys(demographic_features)\n",
    "demographic_features_categories['AGE_DESC'] = ['19-24', '25-34', '35-44', '45-54', '55-64', '65+']\n",
    "demographic_features_categories['MARITAL_STATUS_CODE'] = ['A', 'B', 'U']\n",
    "demographic_features_categories['HOMEOWNER_DESC'] = ['Homeowner', 'Probable Owner', 'Renter', 'Probable Renter', 'Unknown']\n",
    "demographic_features_categories['HH_COMP_DESC'] = ['2 Adults Kids', '1 Adult Kids', '2 Adults No Kids', 'Single Female', 'Single Male', 'Unknown']\n",
    "demographic_features_categories['HOUSEHOLD_SIZE_DESC'] = ['1', '2', '3', '4', '5+']\n",
    "demographic_features_categories['KID_CATEGORY_DESC']= ['None/Unknown', '1', '2', '3+']\n",
    "\n",
    "demographic_features_clean_names = {'AGE_DESC': 'Age',\n",
    "                                    'MARITAL_STATUS_CODE': 'Marital Status',\n",
    "                                    'HOMEOWNER_DESC': 'Homeowner Type',\n",
    "                                    'HH_COMP_DESC':'Household Composition',\n",
    "                                    'HOUSEHOLD_SIZE_DESC':'Household Size',\n",
    "                                    'KID_CATEGORY_DESC':'Number of children'}\n",
    "\n",
    "plot_data = dict.fromkeys(demographic_features)\n",
    "for demographic_feature in demographic_features:\n",
    "    df = pd.concat([\n",
    "        df_low_income_low_expenses[demographic_feature].value_counts().rename('Low/ Low') / len(df_low_income_low_expenses),\n",
    "        df_low_income_high_expenses[demographic_feature].value_counts().rename('Low/ High') / len(df_low_income_high_expenses),\n",
    "        df_high_income_low_expenses[demographic_feature].value_counts().rename('High/ Low') / len(df_high_income_low_expenses),\n",
    "        df_high_income_high_expenses[demographic_feature].value_counts().rename('High/ High') / len(df_high_income_high_expenses)\n",
    "    ], axis=1, sort=False)\n",
    "    df.index = demographic_features_categories[demographic_feature]\n",
    "    df = df.unstack().reset_index()\n",
    "    df.columns = ['Income vs. Expenses', demographic_feature, 'Percentage of households']\n",
    "    plot_data[demographic_feature] = df\n",
    "\n",
    "def plot_demographic(demographic_feature):\n",
    "    fig = px.bar(data_frame=plot_data[demographic_feature],\n",
    "             y='Percentage of households',\n",
    "             color='Income vs. Expenses',\n",
    "             barmode='group')\n",
    "    fig.update_layout(xaxis_title=demographic_features_clean_names[demographic_feature],\n",
    "                      xaxis_tickmode='array',\n",
    "                      xaxis_tickvals=list(range(len(demographic_features_categories))),\n",
    "                      xaxis_ticktext=demographic_features_categories[demographic_feature])\n",
    "    fig.update_layout(autosize=False, width=900, height=500)\n",
    "    fig.show(renderer='iframe_connected')"
   ]
  },
  {
   "cell_type": "markdown",
   "metadata": {
    "colab_type": "text",
    "id": "9c9UvoB5rv4N"
   },
   "source": [
    "#### Age"
   ]
  },
  {
   "cell_type": "code",
   "execution_count": 66,
   "metadata": {
    "ExecuteTime": {
     "end_time": "2019-12-18T20:47:00.666441Z",
     "start_time": "2019-12-18T20:47:00.439154Z"
    },
    "colab": {},
    "colab_type": "code",
    "id": "e-WtvXYErv4N",
    "outputId": "5c471432-e420-4245-f932-546d25ec55ca"
   },
   "outputs": [
    {
     "data": {
      "text/html": [
       "<iframe\n",
       "    scrolling=\"no\"\n",
       "    width=\"920px\"\n",
       "    height=\"520\"\n",
       "    src=\"iframe_figures/figure_66.html\"\n",
       "    frameborder=\"0\"\n",
       "    allowfullscreen\n",
       "></iframe>\n"
      ]
     },
     "metadata": {},
     "output_type": "display_data"
    }
   ],
   "source": [
    "plot_demographic('AGE_DESC')"
   ]
  },
  {
   "cell_type": "markdown",
   "metadata": {
    "colab_type": "text",
    "id": "AgTAZ1ygrv4O"
   },
   "source": [
    "From the age distribution of the household groups, we can make a few interesting observations. Among the households with the youngest members there is not a lot of variety in the income-expenses balance. Among the households with members of younger working ages high expenses seem to dominate. As we move to the households with older members lower expenses are more prevalent."
   ]
  },
  {
   "cell_type": "markdown",
   "metadata": {
    "colab_type": "text",
    "id": "SCkgCu_irv4P"
   },
   "source": [
    "#### Marital Status"
   ]
  },
  {
   "cell_type": "code",
   "execution_count": 67,
   "metadata": {
    "ExecuteTime": {
     "end_time": "2019-12-18T20:47:00.987644Z",
     "start_time": "2019-12-18T20:47:00.667404Z"
    },
    "colab": {},
    "colab_type": "code",
    "id": "EPD0Hrudrv4P",
    "outputId": "22dd78a8-a944-44db-d79e-2c8d6da9bc0e"
   },
   "outputs": [
    {
     "data": {
      "text/html": [
       "<iframe\n",
       "    scrolling=\"no\"\n",
       "    width=\"920px\"\n",
       "    height=\"520\"\n",
       "    src=\"iframe_figures/figure_67.html\"\n",
       "    frameborder=\"0\"\n",
       "    allowfullscreen\n",
       "></iframe>\n"
      ]
     },
     "metadata": {},
     "output_type": "display_data"
    }
   ],
   "source": [
    "plot_demographic('MARITAL_STATUS_CODE')"
   ]
  },
  {
   "cell_type": "markdown",
   "metadata": {
    "colab_type": "text",
    "id": "MxO1U-Gxrv4Q"
   },
   "source": [
    "For clarification, according to the dataset documentation the marital status codes `A`, `B`, and `U` stand for `Married`, `Single` and `Unknown` respectively. Interestingly, this plot efficiently captures classical differences between married and single life, as we observe that **households with married members have more often lower income and must balance with lower expenses**, while it is completely opposite for **single member households, as they more frequently have higher income and are able to indulge in higher expenses**.  "
   ]
  },
  {
   "cell_type": "markdown",
   "metadata": {
    "colab_type": "text",
    "id": "X0oVumWCrv4Q"
   },
   "source": [
    "#### Homeowner Type"
   ]
  },
  {
   "cell_type": "code",
   "execution_count": 68,
   "metadata": {
    "ExecuteTime": {
     "end_time": "2019-12-18T20:47:01.225574Z",
     "start_time": "2019-12-18T20:47:00.988642Z"
    },
    "colab": {},
    "colab_type": "code",
    "id": "6wuEieCprv4Q",
    "outputId": "5470cbe0-9e82-4b51-da1f-cdcef9b7f069"
   },
   "outputs": [
    {
     "data": {
      "text/html": [
       "<iframe\n",
       "    scrolling=\"no\"\n",
       "    width=\"920px\"\n",
       "    height=\"520\"\n",
       "    src=\"iframe_figures/figure_68.html\"\n",
       "    frameborder=\"0\"\n",
       "    allowfullscreen\n",
       "></iframe>\n"
      ]
     },
     "metadata": {},
     "output_type": "display_data"
    }
   ],
   "source": [
    "plot_demographic('HOMEOWNER_DESC')"
   ]
  },
  {
   "cell_type": "markdown",
   "metadata": {
    "colab_type": "text",
    "id": "Ixdds-mZrv4R"
   },
   "source": [
    "Analyzing the distribution of the type of homeownership we again obtain expected results, as it is understandable that it is most probable for households who are able to afford their own place of residence to have higher income and expenses, while renters usually have better sense of utilizing their limited income. "
   ]
  },
  {
   "cell_type": "markdown",
   "metadata": {
    "colab_type": "text",
    "id": "cyNuKn9Urv4S"
   },
   "source": [
    "#### Household Composition"
   ]
  },
  {
   "cell_type": "code",
   "execution_count": 69,
   "metadata": {
    "ExecuteTime": {
     "end_time": "2019-12-18T20:47:01.543269Z",
     "start_time": "2019-12-18T20:47:01.226571Z"
    },
    "colab": {},
    "colab_type": "code",
    "id": "YzXKZSkPrv4S",
    "outputId": "413b0930-b52a-4751-b7a6-96f275260fb7"
   },
   "outputs": [
    {
     "data": {
      "text/html": [
       "<iframe\n",
       "    scrolling=\"no\"\n",
       "    width=\"920px\"\n",
       "    height=\"520\"\n",
       "    src=\"iframe_figures/figure_69.html\"\n",
       "    frameborder=\"0\"\n",
       "    allowfullscreen\n",
       "></iframe>\n"
      ]
     },
     "metadata": {},
     "output_type": "display_data"
    }
   ],
   "source": [
    "plot_demographic('HH_COMP_DESC')"
   ]
  },
  {
   "cell_type": "markdown",
   "metadata": {
    "colab_type": "text",
    "id": "Fa6lv1YNrv4T"
   },
   "source": [
    "Among the different household compositions recorded in the data, we do not observe a lot of variety and this feature is not a good discriminator. However, we do observe two interesting discrepancies which can also be expected: couples with no children have the highest chance to be in the group with the highest income and expenses, while single parents tend to have a 'harder time'."
   ]
  },
  {
   "cell_type": "markdown",
   "metadata": {
    "colab_type": "text",
    "id": "zHxXbY98rv4T"
   },
   "source": [
    "#### Household Size"
   ]
  },
  {
   "cell_type": "code",
   "execution_count": 70,
   "metadata": {
    "ExecuteTime": {
     "end_time": "2019-12-18T20:47:01.773621Z",
     "start_time": "2019-12-18T20:47:01.544234Z"
    },
    "colab": {},
    "colab_type": "code",
    "id": "PkhEkRCFrv4T",
    "outputId": "4d63a02d-5c2d-42ee-d68e-cb9f24ac1027"
   },
   "outputs": [
    {
     "data": {
      "text/html": [
       "<iframe\n",
       "    scrolling=\"no\"\n",
       "    width=\"920px\"\n",
       "    height=\"520\"\n",
       "    src=\"iframe_figures/figure_70.html\"\n",
       "    frameborder=\"0\"\n",
       "    allowfullscreen\n",
       "></iframe>\n"
      ]
     },
     "metadata": {},
     "output_type": "display_data"
    }
   ],
   "source": [
    "plot_demographic('HOUSEHOLD_SIZE_DESC')"
   ]
  },
  {
   "cell_type": "markdown",
   "metadata": {
    "colab_type": "text",
    "id": "qMZ6sKL3rv4U"
   },
   "source": [
    "The household size feature also displays very little significance for group distinction across different values. However, we can observe a trend that as the household size increases the probability of having lower income and expenses decreases, as only households with higher income can afford to have more children, but with that their expenses also increase."
   ]
  },
  {
   "cell_type": "markdown",
   "metadata": {
    "colab_type": "text",
    "id": "8Aeqdhunrv4U"
   },
   "source": [
    "#### Number of Children"
   ]
  },
  {
   "cell_type": "code",
   "execution_count": 71,
   "metadata": {
    "ExecuteTime": {
     "end_time": "2019-12-18T20:47:02.091769Z",
     "start_time": "2019-12-18T20:47:01.775616Z"
    },
    "colab": {},
    "colab_type": "code",
    "id": "Jlhapd9hrv4U",
    "outputId": "20e11d41-5756-48ee-828c-71483e69e6af"
   },
   "outputs": [
    {
     "data": {
      "text/html": [
       "<iframe\n",
       "    scrolling=\"no\"\n",
       "    width=\"920px\"\n",
       "    height=\"520\"\n",
       "    src=\"iframe_figures/figure_71.html\"\n",
       "    frameborder=\"0\"\n",
       "    allowfullscreen\n",
       "></iframe>\n"
      ]
     },
     "metadata": {},
     "output_type": "display_data"
    }
   ],
   "source": [
    "plot_demographic('KID_CATEGORY_DESC')"
   ]
  },
  {
   "cell_type": "markdown",
   "metadata": {
    "colab_type": "text",
    "id": "YKthCefXrv4V"
   },
   "source": [
    "The demographic records for the number of children can be inferred from previous features such as household size and household composition and as such in the plot we observe a similar trend as in the previous analysis of household size."
   ]
  },
  {
   "cell_type": "markdown",
   "metadata": {
    "colab_type": "text",
    "id": "8DvlW6Q9rv4V"
   },
   "source": [
    "## Part 4: Applied ML"
   ]
  },
  {
   "cell_type": "code",
   "execution_count": 72,
   "metadata": {
    "ExecuteTime": {
     "end_time": "2019-12-18T20:47:02.987150Z",
     "start_time": "2019-12-18T20:47:02.092766Z"
    }
   },
   "outputs": [
    {
     "data": {
      "image/png": "[encoded data removed]",
      "text/plain": [
       "<Figure size 900x1000 with 2 Axes>"
      ]
     },
     "metadata": {
      "needs_background": "light"
     },
     "output_type": "display_data"
    }
   ],
   "source": [
    "from sklearn.cluster import KMeans\n",
    "from sklearn.preprocessing import StandardScaler, MinMaxScaler\n",
    "from sklearn.decomposition import PCA\n",
    "\n",
    "# Map income categories to their geometric means of the bins\n",
    "geo_means = pd.Series(data=geo_means,\n",
    "                      index=income_desc.index,\n",
    "                      name='INCOME_DESC_GEO_MEANS')\n",
    "income_desc_geo_means = df_hh_demographic['INCOME_DESC'].apply(lambda x: geo_means[x]).astype('float')\n",
    "\n",
    "# Calculate income / expenses ratios\n",
    "feature_income_and_average_bill_amount = income_desc_geo_means / df_households_basket_payment_average\n",
    "feature_income_and_average_median_product_price = income_desc_geo_means / df_households_basket_median_product_price_average\n",
    "X = pd.concat((feature_income_and_average_bill_amount,\n",
    "               feature_income_and_average_median_product_price),\n",
    "              axis=1)\n",
    "\n",
    "# Normalize the features to [0, 1]\n",
    "scaler = MinMaxScaler()\n",
    "X = scaler.fit_transform(X)\n",
    "X = pd.DataFrame(X,\n",
    "                 columns=['Income / Average Bill Amount', 'Income / Average Median Product Price'])\n",
    "\n",
    "# Cluster the 2D data using K-means\n",
    "k = 4\n",
    "kmeans = KMeans(n_clusters=k).fit(X)\n",
    "labels = pd.Series(kmeans.labels_ + 1, name='Cluster')\n",
    "X_labeled = pd.concat((X, labels, df_hh_demographic['MARITAL_STATUS_CODE'].reset_index(drop=True)), axis=1)\n",
    "\n",
    "\n",
    "f, ax = plt.subplots(2, 1, figsize=(9, 2*5), dpi=100)\n",
    "sns.scatterplot(x='Income / Average Bill Amount',\n",
    "                y='Income / Average Median Product Price',\n",
    "                hue='Cluster',\n",
    "                data=X_labeled,\n",
    "                palette=sns.color_palette('muted', n_colors=k),\n",
    "                ax=ax[0])\n",
    "sns.scatterplot(x='Income / Average Bill Amount',\n",
    "                y='Income / Average Median Product Price',\n",
    "                hue='MARITAL_STATUS_CODE',\n",
    "                data=X_labeled,\n",
    "                palette=sns.color_palette('muted', n_colors=3),\n",
    "                ax=ax[1])\n",
    "plt.show()"
   ]
  },
  {
   "cell_type": "markdown",
   "metadata": {
    "colab_type": "text",
    "id": "WDsQGmu6rv4W"
   },
   "source": [
    "We are interested in whether there is a existence of clusters in the set of households, based on income and expenses. We calculate the ratios between a household's income and it's values of the two expenses statistics in order to represent each household with two features in 2D space. These ratios were chosen because they efficiently model the income vs. expenses relationship: they are small if a household has lower income but higher expenses and they are large if a household has higher income but lower expenses. After we perform K-means clustering on these two features however, unfortunately there seems to be no link between the cluster assignment and any demographic feature, as demonstrated with the marital status in the above plot. "
   ]
  },
  {
   "cell_type": "markdown",
   "metadata": {
    "colab_type": "text",
    "id": "hGS6FhL6rv4X"
   },
   "source": [
    "## Part 5: Recap\n",
    "\n",
    "In this milestone we managed to investigate the data, check for missing values and inconsistencies, do feature expansion, and identify the distribution of the most expressive columns. Furthermore, we analysed the household income categories, how much money households spend on average and by how much is that ammount defined by the products price. Additionaly, we saw the coupon usages among income categories, and looked for trends in daily expenses. Likewise, we investigated how the expenditure is distributed amongst goods and whether households prefer some products over others. Finaly, we did extensive demographic analysis and searched for clusters in the data."
   ]
  }
 ],
 "metadata": {
  "colab": {
   "collapsed_sections": [
    "9c9UvoB5rv4N",
    "SCkgCu_irv4P",
    "X0oVumWCrv4Q",
    "cyNuKn9Urv4S",
    "8Aeqdhunrv4U"
   ],
   "name": "RQ7_mladen_andrej_samuel.ipynb",
   "provenance": [],
   "toc_visible": true
  },
  "kernelspec": {
   "display_name": "Python 3",
   "language": "python",
   "name": "python3"
  },
  "language_info": {
   "codemirror_mode": {
    "name": "ipython",
    "version": 3
   },
   "file_extension": ".py",
   "mimetype": "text/x-python",
   "name": "python",
   "nbconvert_exporter": "python",
   "pygments_lexer": "ipython3",
   "version": "3.7.1"
  },
  "toc": {
   "base_numbering": 1,
   "nav_menu": {},
   "number_sections": false,
   "sideBar": true,
   "skip_h1_title": false,
   "title_cell": "Table of Contents",
   "title_sidebar": "Contents",
   "toc_cell": false,
   "toc_position": {
    "height": "calc(100% - 180px)",
    "left": "10px",
    "top": "150px",
    "width": "384px"
   },
   "toc_section_display": true,
   "toc_window_display": true
  },
  "toc-showtags": false,
  "varInspector": {
   "cols": {
    "lenName": 16,
    "lenType": 16,
    "lenVar": 40
   },
   "kernels_config": {
    "python": {
     "delete_cmd_postfix": "",
     "delete_cmd_prefix": "del ",
     "library": "var_list.py",
     "varRefreshCmd": "print(var_dic_list())"
    },
    "r": {
     "delete_cmd_postfix": ") ",
     "delete_cmd_prefix": "rm(",
     "library": "var_list.r",
     "varRefreshCmd": "cat(var_dic_list()) "
    }
   },
   "types_to_exclude": [
    "module",
    "function",
    "builtin_function_or_method",
    "instance",
    "_Feature"
   ],
   "window_display": false
  }
 },
 "nbformat": 4,
 "nbformat_minor": 4
}
