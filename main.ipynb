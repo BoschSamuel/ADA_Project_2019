{
 "cells": [
  {
   "cell_type": "markdown",
   "metadata": {
    "colab_type": "text",
    "id": "K8AOhhpUrv2H"
   },
   "source": [
    "# How to Ride the Shopping Cart\n",
    "\n",
    "## Abstract\n",
    "\n",
    "Let’s face it: grocery shopping is not a skill most of us intentionally invested effort in pursuing. However, people more than often find themselves in situations where they return home with two bags of groceries and realize that they are missing the only item they initially were out for. Sometimes, not having a clear idea about our inventory state, we end up being tempted into the all sorts of treats that are over and above our necessities. Or we buy products to showcase our cooking abilities for the family dinner but somehow, we end up with the fridge full of everything, hoping to roll up our sleeves tomorrow. We are often surprised by the number of items we throw away because the expiration date passed two months ago! However, that could change...\n",
    "\n",
    "## Main Research Question\n",
    "\n",
    "In this notebook we try to address the following research question:\n",
    "\n",
    "- Interplay between income and expenses?\n",
    "\n",
    "### Sub-Questions\n",
    "\n",
    "In particular, we are interested in the following sub-questions:\n",
    "\n",
    "- How do households choose to organize their limited annual income according to their shopping expenses?\n",
    "\n",
    "- Can we infer different household types based on the relation between their income and transaction statistics?\n",
    "\n",
    "- Are some demographic properties of the household's indicators of this relation as well? That is, can we infer common family values indirectly from this data? "
   ]
  },
  {
   "cell_type": "code",
   "execution_count": 1,
   "metadata": {
    "ExecuteTime": {
     "end_time": "2019-11-21T11:55:27.401022Z",
     "start_time": "2019-11-21T11:55:27.396035Z"
    },
    "colab": {},
    "colab_type": "code",
    "id": "s5pz1mIZrv2K"
   },
   "outputs": [],
   "source": [
    "import numpy as np\n",
    "import pandas as pd\n",
    "import seaborn as sns\n",
    "from matplotlib import pyplot as plt\n",
    "from scipy import stats\n",
    "from ipysankeywidget import SankeyWidget\n",
    "from ipywidgets import Layout\n",
    "\n",
    "sns.set(style='whitegrid')\n",
    "\n",
    "np.set_printoptions(suppress=True)"
   ]
  },
  {
   "cell_type": "code",
   "execution_count": 2,
   "metadata": {
    "ExecuteTime": {
     "end_time": "2019-11-21T11:55:28.023737Z",
     "start_time": "2019-11-21T11:55:28.019748Z"
    },
    "colab": {},
    "colab_type": "code",
    "id": "u6EWQ8YXrv2T"
   },
   "outputs": [],
   "source": [
    "DATA_DIR = 'data/'\n",
    "\n",
    "CAMPAIGN_DESC = 'campaign_desc.csv'\n",
    "CAMPAIGN_TABLE = 'campaign_table.csv'\n",
    "CAUSAL_DATA = 'causal_data.csv'\n",
    "COUPON = 'coupon.csv'\n",
    "COUPON_REDEMPT = 'coupon_redempt.csv'\n",
    "HH_DEMOGRAPHIC = 'hh_demographic.csv'\n",
    "PRODUCT = 'product.csv'\n",
    "TRANSACTION_DATA = 'transaction_data.csv'"
   ]
  },
  {
   "cell_type": "markdown",
   "metadata": {
    "colab_type": "text",
    "id": "xWb3NjDTrv2b",
    "toc-hr-collapsed": true,
    "toc-nb-collapsed": true
   },
   "source": [
    "## Part 1: Introduction"
   ]
  },
  {
   "cell_type": "markdown",
   "metadata": {
    "colab_type": "text",
    "id": "eyyh-bMprv2d"
   },
   "source": [
    "There are several factors that contribute to how people spend their annual income:\n",
    "\n",
    "1. Income category\n",
    "    - In our dataset we have several categories ranging from below **15,000** to over **250,000 USD p.a.**\n",
    "2. Shopping behavior\n",
    "    - It mainly depends on the day of the week\n",
    "2. Campaigns play a major role\n",
    "    - Some households take active participation in campaigns which significantly lowers the expenses\n",
    "3. Products vary in price\n",
    "    - Some products are much more expensive than others, nonetheless their purchase is unavoidable\n",
    "4. Households preferences\n",
    "    - Households with lower income tend to buy low-budget goods, as opposed to households with higher income that buy high-end goods (like organic food)\n",
    "5. Demographics\n",
    "\n",
    "To begin answering our question, we first perform data exploration on the **Dunnhumby** dataset to get initial insight for the task."
   ]
  },
  {
   "cell_type": "markdown",
   "metadata": {
    "colab_type": "text",
    "id": "-4n1pHHJrv2f",
    "toc-hr-collapsed": true,
    "toc-nb-collapsed": true
   },
   "source": [
    "## Part 2: Preprocessing"
   ]
  },
  {
   "cell_type": "markdown",
   "metadata": {
    "colab_type": "text",
    "id": "S63_2-onrv2g"
   },
   "source": [
    "### Loading the Data"
   ]
  },
  {
   "cell_type": "markdown",
   "metadata": {
    "colab_type": "text",
    "id": "s7m84fOirv2h"
   },
   "source": [
    "For this research question, we will mainly work with the `hh_demographic` and `transaction_data` datasets."
   ]
  },
  {
   "cell_type": "code",
   "execution_count": 3,
   "metadata": {
    "ExecuteTime": {
     "end_time": "2019-11-21T11:55:30.003952Z",
     "start_time": "2019-11-21T11:55:29.989990Z"
    },
    "colab": {
     "base_uri": "https://localhost:8080/",
     "height": 306
    },
    "colab_type": "code",
    "id": "NQ-S_b64rv2i",
    "outputId": "e7b40c2f-8a4e-4d3b-f39a-c3fa300345be",
    "scrolled": true
   },
   "outputs": [
    {
     "name": "stdout",
     "output_type": "stream",
     "text": [
      "Number of households: 801\n"
     ]
    },
    {
     "data": {
      "text/html": [
       "<div>\n",
       "<style scoped>\n",
       "    .dataframe tbody tr th:only-of-type {\n",
       "        vertical-align: middle;\n",
       "    }\n",
       "\n",
       "    .dataframe tbody tr th {\n",
       "        vertical-align: top;\n",
       "    }\n",
       "\n",
       "    .dataframe thead th {\n",
       "        text-align: right;\n",
       "    }\n",
       "</style>\n",
       "<table border=\"1\" class=\"dataframe\">\n",
       "  <thead>\n",
       "    <tr style=\"text-align: right;\">\n",
       "      <th></th>\n",
       "      <th>AGE_DESC</th>\n",
       "      <th>MARITAL_STATUS_CODE</th>\n",
       "      <th>INCOME_DESC</th>\n",
       "      <th>HOMEOWNER_DESC</th>\n",
       "      <th>HH_COMP_DESC</th>\n",
       "      <th>HOUSEHOLD_SIZE_DESC</th>\n",
       "      <th>KID_CATEGORY_DESC</th>\n",
       "    </tr>\n",
       "    <tr>\n",
       "      <th>household_key</th>\n",
       "      <th></th>\n",
       "      <th></th>\n",
       "      <th></th>\n",
       "      <th></th>\n",
       "      <th></th>\n",
       "      <th></th>\n",
       "      <th></th>\n",
       "    </tr>\n",
       "  </thead>\n",
       "  <tbody>\n",
       "    <tr>\n",
       "      <th>1</th>\n",
       "      <td>65+</td>\n",
       "      <td>A</td>\n",
       "      <td>35-49K</td>\n",
       "      <td>Homeowner</td>\n",
       "      <td>2 Adults No Kids</td>\n",
       "      <td>2</td>\n",
       "      <td>None/Unknown</td>\n",
       "    </tr>\n",
       "    <tr>\n",
       "      <th>7</th>\n",
       "      <td>45-54</td>\n",
       "      <td>A</td>\n",
       "      <td>50-74K</td>\n",
       "      <td>Homeowner</td>\n",
       "      <td>2 Adults No Kids</td>\n",
       "      <td>2</td>\n",
       "      <td>None/Unknown</td>\n",
       "    </tr>\n",
       "    <tr>\n",
       "      <th>8</th>\n",
       "      <td>25-34</td>\n",
       "      <td>U</td>\n",
       "      <td>25-34K</td>\n",
       "      <td>Unknown</td>\n",
       "      <td>2 Adults Kids</td>\n",
       "      <td>3</td>\n",
       "      <td>1</td>\n",
       "    </tr>\n",
       "    <tr>\n",
       "      <th>13</th>\n",
       "      <td>25-34</td>\n",
       "      <td>U</td>\n",
       "      <td>75-99K</td>\n",
       "      <td>Homeowner</td>\n",
       "      <td>2 Adults Kids</td>\n",
       "      <td>4</td>\n",
       "      <td>2</td>\n",
       "    </tr>\n",
       "    <tr>\n",
       "      <th>16</th>\n",
       "      <td>45-54</td>\n",
       "      <td>B</td>\n",
       "      <td>50-74K</td>\n",
       "      <td>Homeowner</td>\n",
       "      <td>Single Female</td>\n",
       "      <td>1</td>\n",
       "      <td>None/Unknown</td>\n",
       "    </tr>\n",
       "  </tbody>\n",
       "</table>\n",
       "</div>"
      ],
      "text/plain": [
       "              AGE_DESC MARITAL_STATUS_CODE INCOME_DESC HOMEOWNER_DESC  \\\n",
       "household_key                                                           \n",
       "1                  65+                   A      35-49K      Homeowner   \n",
       "7                45-54                   A      50-74K      Homeowner   \n",
       "8                25-34                   U      25-34K        Unknown   \n",
       "13               25-34                   U      75-99K      Homeowner   \n",
       "16               45-54                   B      50-74K      Homeowner   \n",
       "\n",
       "                   HH_COMP_DESC HOUSEHOLD_SIZE_DESC KID_CATEGORY_DESC  \n",
       "household_key                                                          \n",
       "1              2 Adults No Kids                   2      None/Unknown  \n",
       "7              2 Adults No Kids                   2      None/Unknown  \n",
       "8                 2 Adults Kids                   3                 1  \n",
       "13                2 Adults Kids                   4                 2  \n",
       "16                Single Female                   1      None/Unknown  "
      ]
     },
     "execution_count": 3,
     "metadata": {},
     "output_type": "execute_result"
    }
   ],
   "source": [
    "# Load the data from hh_demographic.csv\n",
    "df_hh_demographic = pd.read_csv(DATA_DIR + HH_DEMOGRAPHIC, index_col='household_key')\n",
    "\n",
    "print('Number of households:', len(df_hh_demographic))\n",
    "\n",
    "df_hh_demographic.head()"
   ]
  },
  {
   "cell_type": "code",
   "execution_count": 4,
   "metadata": {
    "ExecuteTime": {
     "end_time": "2019-11-21T12:47:26.168291Z",
     "start_time": "2019-11-21T12:47:24.718162Z"
    },
    "colab": {
     "base_uri": "https://localhost:8080/",
     "height": 241
    },
    "colab_type": "code",
    "id": "C3SxUyV2rv2o",
    "outputId": "28bfdf0e-ee95-4f57-847c-c39aa65829ed"
   },
   "outputs": [
    {
     "name": "stdout",
     "output_type": "stream",
     "text": [
      "Number of transactions: 2595732\n"
     ]
    },
    {
     "data": {
      "text/html": [
       "<div>\n",
       "<style scoped>\n",
       "    .dataframe tbody tr th:only-of-type {\n",
       "        vertical-align: middle;\n",
       "    }\n",
       "\n",
       "    .dataframe tbody tr th {\n",
       "        vertical-align: top;\n",
       "    }\n",
       "\n",
       "    .dataframe thead th {\n",
       "        text-align: right;\n",
       "    }\n",
       "</style>\n",
       "<table border=\"1\" class=\"dataframe\">\n",
       "  <thead>\n",
       "    <tr style=\"text-align: right;\">\n",
       "      <th></th>\n",
       "      <th>household_key</th>\n",
       "      <th>BASKET_ID</th>\n",
       "      <th>DAY</th>\n",
       "      <th>PRODUCT_ID</th>\n",
       "      <th>QUANTITY</th>\n",
       "      <th>SALES_VALUE</th>\n",
       "      <th>STORE_ID</th>\n",
       "      <th>RETAIL_DISC</th>\n",
       "      <th>TRANS_TIME</th>\n",
       "      <th>WEEK_NO</th>\n",
       "      <th>COUPON_DISC</th>\n",
       "      <th>COUPON_MATCH_DISC</th>\n",
       "    </tr>\n",
       "  </thead>\n",
       "  <tbody>\n",
       "    <tr>\n",
       "      <th>0</th>\n",
       "      <td>2375</td>\n",
       "      <td>26984851472</td>\n",
       "      <td>1</td>\n",
       "      <td>1004906</td>\n",
       "      <td>1</td>\n",
       "      <td>1.39</td>\n",
       "      <td>364</td>\n",
       "      <td>-0.60</td>\n",
       "      <td>1631</td>\n",
       "      <td>1</td>\n",
       "      <td>0.0</td>\n",
       "      <td>0.0</td>\n",
       "    </tr>\n",
       "    <tr>\n",
       "      <th>1</th>\n",
       "      <td>2375</td>\n",
       "      <td>26984851472</td>\n",
       "      <td>1</td>\n",
       "      <td>1033142</td>\n",
       "      <td>1</td>\n",
       "      <td>0.82</td>\n",
       "      <td>364</td>\n",
       "      <td>0.00</td>\n",
       "      <td>1631</td>\n",
       "      <td>1</td>\n",
       "      <td>0.0</td>\n",
       "      <td>0.0</td>\n",
       "    </tr>\n",
       "    <tr>\n",
       "      <th>2</th>\n",
       "      <td>2375</td>\n",
       "      <td>26984851472</td>\n",
       "      <td>1</td>\n",
       "      <td>1036325</td>\n",
       "      <td>1</td>\n",
       "      <td>0.99</td>\n",
       "      <td>364</td>\n",
       "      <td>-0.30</td>\n",
       "      <td>1631</td>\n",
       "      <td>1</td>\n",
       "      <td>0.0</td>\n",
       "      <td>0.0</td>\n",
       "    </tr>\n",
       "    <tr>\n",
       "      <th>3</th>\n",
       "      <td>2375</td>\n",
       "      <td>26984851472</td>\n",
       "      <td>1</td>\n",
       "      <td>1082185</td>\n",
       "      <td>1</td>\n",
       "      <td>1.21</td>\n",
       "      <td>364</td>\n",
       "      <td>0.00</td>\n",
       "      <td>1631</td>\n",
       "      <td>1</td>\n",
       "      <td>0.0</td>\n",
       "      <td>0.0</td>\n",
       "    </tr>\n",
       "    <tr>\n",
       "      <th>4</th>\n",
       "      <td>2375</td>\n",
       "      <td>26984851472</td>\n",
       "      <td>1</td>\n",
       "      <td>8160430</td>\n",
       "      <td>1</td>\n",
       "      <td>1.50</td>\n",
       "      <td>364</td>\n",
       "      <td>-0.39</td>\n",
       "      <td>1631</td>\n",
       "      <td>1</td>\n",
       "      <td>0.0</td>\n",
       "      <td>0.0</td>\n",
       "    </tr>\n",
       "  </tbody>\n",
       "</table>\n",
       "</div>"
      ],
      "text/plain": [
       "   household_key    BASKET_ID  DAY  PRODUCT_ID  QUANTITY  SALES_VALUE  \\\n",
       "0           2375  26984851472    1     1004906         1         1.39   \n",
       "1           2375  26984851472    1     1033142         1         0.82   \n",
       "2           2375  26984851472    1     1036325         1         0.99   \n",
       "3           2375  26984851472    1     1082185         1         1.21   \n",
       "4           2375  26984851472    1     8160430         1         1.50   \n",
       "\n",
       "   STORE_ID  RETAIL_DISC  TRANS_TIME  WEEK_NO  COUPON_DISC  COUPON_MATCH_DISC  \n",
       "0       364        -0.60        1631        1          0.0                0.0  \n",
       "1       364         0.00        1631        1          0.0                0.0  \n",
       "2       364        -0.30        1631        1          0.0                0.0  \n",
       "3       364         0.00        1631        1          0.0                0.0  \n",
       "4       364        -0.39        1631        1          0.0                0.0  "
      ]
     },
     "execution_count": 4,
     "metadata": {},
     "output_type": "execute_result"
    }
   ],
   "source": [
    "# Load the data from transaction_data.csv\n",
    "df_transaction_data = pd.read_csv(DATA_DIR + TRANSACTION_DATA)\n",
    "\n",
    "print('Number of transactions:', len(df_transaction_data))\n",
    "\n",
    "df_transaction_data.head()"
   ]
  },
  {
   "cell_type": "markdown",
   "metadata": {
    "colab_type": "text",
    "id": "Hl3chJNWrv2r"
   },
   "source": [
    "We observe that the `transaction_data` dataset contains a large number (circa 2.5 mil) of transactions. On the other hand, the `hh_demographic` dataset is much smaller in size (801).\n",
    "\n",
    "Furthermore, there are transactions for which demographic data is not present. The reason behind the missing demographic information are privacy issues (as stated in the documentation)."
   ]
  },
  {
   "cell_type": "markdown",
   "metadata": {
    "colab_type": "text",
    "id": "AWi6oJxSrv2s"
   },
   "source": [
    "### Handling Missing and Inconsistent Data"
   ]
  },
  {
   "cell_type": "code",
   "execution_count": 5,
   "metadata": {
    "ExecuteTime": {
     "end_time": "2019-11-21T12:47:40.648081Z",
     "start_time": "2019-11-21T12:47:40.548348Z"
    },
    "colab": {
     "base_uri": "https://localhost:8080/",
     "height": 51
    },
    "colab_type": "code",
    "id": "2Lkyk8KWrv2t",
    "outputId": "e3346f28-dd2b-4731-df11-6883bd376919"
   },
   "outputs": [
    {
     "name": "stdout",
     "output_type": "stream",
     "text": [
      "Columns with missing values in household dataset: False\n",
      "Columns with missing values in transactions dataset: False\n"
     ]
    }
   ],
   "source": [
    "print('Columns with missing values in household dataset:',\n",
    "      np.any(df_hh_demographic.isna().sum()))\n",
    "\n",
    "print('Columns with missing values in transactions dataset:',\n",
    "      np.any(df_transaction_data.isna().sum()))"
   ]
  },
  {
   "cell_type": "markdown",
   "metadata": {
    "colab_type": "text",
    "id": "PUrkrdPjrv2w"
   },
   "source": [
    "There are none missing values in both datasets.  "
   ]
  },
  {
   "cell_type": "markdown",
   "metadata": {
    "colab_type": "text",
    "id": "7xsoXeEdrv2x"
   },
   "source": [
    "However, in the `transaction_data` dataset we observed that some entries contain 0 for `SALES_VALUE` (the total amount received by the retailer) and for `QUANTITY` (the number of products purchased). There may be a valid reason why the data had been recorded this way, however we chose to avoid any assumptions and discard these transactions, as it is only a small percentage of the whole dataset. "
   ]
  },
  {
   "cell_type": "code",
   "execution_count": 6,
   "metadata": {
    "ExecuteTime": {
     "end_time": "2019-11-21T12:47:42.719530Z",
     "start_time": "2019-11-21T12:47:42.524053Z"
    },
    "colab": {
     "base_uri": "https://localhost:8080/",
     "height": 34
    },
    "colab_type": "code",
    "id": "XCvEK7werv2x",
    "outputId": "9c5ddc1c-ebff-4d86-9763-d2eb6671e5a6"
   },
   "outputs": [
    {
     "name": "stdout",
     "output_type": "stream",
     "text": [
      "Number of transactions: 2576815\n"
     ]
    }
   ],
   "source": [
    "# Store the valid transactions in a new dataframe\n",
    "c = (df_transaction_data['SALES_VALUE'] != 0) & \\\n",
    "    (df_transaction_data['QUANTITY'] != 0)\n",
    "\n",
    "df_transaction_data_cleaned = df_transaction_data[c]\n",
    "\n",
    "print('Number of transactions:', len(df_transaction_data_cleaned))"
   ]
  },
  {
   "cell_type": "markdown",
   "metadata": {
    "colab_type": "text",
    "id": "YPnBdfwUrv2z"
   },
   "source": [
    "Furthermore, following the previous discussion about missing demographic information, we filter the data:"
   ]
  },
  {
   "cell_type": "code",
   "execution_count": 7,
   "metadata": {
    "ExecuteTime": {
     "end_time": "2019-11-21T12:48:23.405622Z",
     "start_time": "2019-11-21T12:48:23.232054Z"
    },
    "colab": {
     "base_uri": "https://localhost:8080/",
     "height": 34
    },
    "colab_type": "code",
    "id": "FrjmK22Urv20",
    "outputId": "e296d3e9-6922-4c74-b155-e125fbfe1ccd"
   },
   "outputs": [
    {
     "name": "stdout",
     "output_type": "stream",
     "text": [
      "Number of transactions: 1416672\n"
     ]
    }
   ],
   "source": [
    "# Keep only the transactions of the households for which we have demographic data\n",
    "c = df_transaction_data_cleaned['household_key'].isin(df_hh_demographic.index)\n",
    "\n",
    "df_transaction_data_cleaned = df_transaction_data_cleaned[c]\n",
    "\n",
    "print('Number of transactions:', len(df_transaction_data_cleaned))"
   ]
  },
  {
   "cell_type": "markdown",
   "metadata": {
    "colab_type": "text",
    "id": "2NwHKx_Krv23"
   },
   "source": [
    "The `transaction_data` now is half its size before."
   ]
  },
  {
   "cell_type": "markdown",
   "metadata": {
    "colab_type": "text",
    "id": "Bfe6k0B0rv23"
   },
   "source": [
    "**Note**: Although, technically there are none missing values in both datasets, still, the columns: `MARITAL_STATUS_CODE`, `HOMEOWNER_DESC`, and `KID_CATEGORY_DESC` in the `hh_demographic` dataset, take values `U`, `Unknown`, and `None/Unknown` respectively which are unknown values. However, since the columns are categorical, we treat this values as yet another category with hope that later on we can obtain some useful insights."
   ]
  },
  {
   "cell_type": "markdown",
   "metadata": {
    "colab_type": "text",
    "id": "npSp0wR6rv25"
   },
   "source": [
    "### Feature Expansion"
   ]
  },
  {
   "cell_type": "markdown",
   "metadata": {
    "colab_type": "text",
    "id": "j3MhsBXNrv26"
   },
   "source": [
    "Using the formulas given in the dataset documentation, we can compute the values most useful for our analysis."
   ]
  },
  {
   "cell_type": "code",
   "execution_count": 8,
   "metadata": {
    "ExecuteTime": {
     "end_time": "2019-11-21T12:48:26.800199Z",
     "start_time": "2019-11-21T12:48:26.797175Z"
    },
    "colab": {},
    "colab_type": "code",
    "id": "Tuf4gu-Krv27"
   },
   "outputs": [],
   "source": [
    "sales_value = df_transaction_data_cleaned['SALES_VALUE']\n",
    "coupon_desc = df_transaction_data_cleaned['COUPON_DISC']\n",
    "retail_disc = df_transaction_data_cleaned['RETAIL_DISC']\n",
    "coupon_match_disc = df_transaction_data_cleaned['COUPON_MATCH_DISC']\n",
    "quantity = df_transaction_data_cleaned['QUANTITY']"
   ]
  },
  {
   "cell_type": "markdown",
   "metadata": {
    "colab_type": "text",
    "id": "oJMfcPQkrv29"
   },
   "source": [
    "After reading the dataset documentation, we noted that the price noted in the `SALES_VALUE` column is only the amount of money the retailer i.e. the store received from the customer. However, as we wish to know how much the *customer* spent and how much did the product they bought actually cost, we have to infer this information from the data. Fortunately, in the dataset documents formulas are provided to calculate these quantities.\n",
    "\n",
    "In the `CUSTOMER_PAID` column we store the amount the customer had to pay, which is the `SALES_VALUE` reduced by the discount amount provided if the customer possessed a coupon from the product manufacturer, stored in the `COUPON_DISC` column.\n",
    "\n",
    "On the other hand, in the `PRODUCT_PRICE` column we store the actual price of the product, which can be calculated by first re-adding back the discounts provided by the retailer's coupon and loyalty card possession from the manufacturer (the `COUPON_MATCH_DISC` and `RETAIL_DISC` columns) and then just dividing by the product `QUANTITY`. "
   ]
  },
  {
   "cell_type": "code",
   "execution_count": 9,
   "metadata": {
    "ExecuteTime": {
     "end_time": "2019-11-21T12:48:31.760245Z",
     "start_time": "2019-11-21T12:48:31.721348Z"
    },
    "colab": {},
    "colab_type": "code",
    "id": "sPviNksArv29"
   },
   "outputs": [],
   "source": [
    "# Use the provided formulas to calculate the new features and store them as new columns\n",
    "df_transaction_data_cleaned['CUSTOMER_PAID'] = sales_value + coupon_desc\n",
    "df_transaction_data_cleaned['PRODUCT_PRICE'] = (sales_value - (retail_disc + coupon_match_disc)) / quantity"
   ]
  },
  {
   "cell_type": "markdown",
   "metadata": {
    "colab_type": "text",
    "id": "HxkeNF3irv2-"
   },
   "source": [
    "### Type Conversion"
   ]
  },
  {
   "cell_type": "code",
   "execution_count": 10,
   "metadata": {
    "ExecuteTime": {
     "end_time": "2019-11-21T12:48:34.132548Z",
     "start_time": "2019-11-21T12:48:34.127527Z"
    },
    "colab": {},
    "colab_type": "code",
    "id": "iWrGXngDrv2_"
   },
   "outputs": [],
   "source": [
    "income_desc_categories = [\n",
    "    'Under 15K',\n",
    "    '15-24K',\n",
    "    '25-34K',\n",
    "    '35-49K',\n",
    "    '50-74K',\n",
    "    '75-99K',\n",
    "    '100-124K',\n",
    "    '125-149K',\n",
    "    '150-174K',\n",
    "    '175-199K',\n",
    "    '200-249K',\n",
    "    '250K+'\n",
    "]\n",
    "\n",
    "# Convert the INCOME_DESC feature column from string type to ordinal (ordered categorical)\n",
    "df_hh_demographic['INCOME_DESC'] = pd.Categorical(df_hh_demographic['INCOME_DESC'],\n",
    "                                                  categories=income_desc_categories,\n",
    "                                                  ordered=True)"
   ]
  },
  {
   "cell_type": "markdown",
   "metadata": {
    "colab_type": "text",
    "id": "GOLVqKbErv3A"
   },
   "source": [
    "We could also typecast the other columns, but for now only `INCOME_DESC` is required to perform the analysis."
   ]
  },
  {
   "cell_type": "markdown",
   "metadata": {
    "colab_type": "text",
    "id": "paNJvAYarv3A"
   },
   "source": [
    "### What's in the data?"
   ]
  },
  {
   "cell_type": "markdown",
   "metadata": {
    "colab_type": "text",
    "id": "hjGS_-gdrv3C"
   },
   "source": [
    "All the columns in the `hh_demographic` are categorical. On the other hand, the columns in `transaction_data` are numerical. More information regarding the value ranges is given in the readme file."
   ]
  },
  {
   "cell_type": "markdown",
   "metadata": {
    "colab_type": "text",
    "id": "kFJD1fwurv3C"
   },
   "source": [
    "Lets analyse the two derived columns in `transaction_data`: `CUSTOMER_PAID` and `PRODUCT_PRICE`. All the necessary information about a transaction is captured by these two columns. The other columns have data about the basket, time, product, and the retail store, which are not relevant at this moment."
   ]
  },
  {
   "cell_type": "code",
   "execution_count": 11,
   "metadata": {
    "ExecuteTime": {
     "end_time": "2019-11-21T12:48:39.498565Z",
     "start_time": "2019-11-21T12:48:39.226242Z"
    },
    "colab": {
     "base_uri": "https://localhost:8080/",
     "height": 111
    },
    "colab_type": "code",
    "id": "SdNV0aqsrv3E",
    "outputId": "d34629c7-4ba7-4945-fe16-85df738da643"
   },
   "outputs": [
    {
     "data": {
      "text/html": [
       "<div>\n",
       "<style scoped>\n",
       "    .dataframe tbody tr th:only-of-type {\n",
       "        vertical-align: middle;\n",
       "    }\n",
       "\n",
       "    .dataframe tbody tr th {\n",
       "        vertical-align: top;\n",
       "    }\n",
       "\n",
       "    .dataframe thead th {\n",
       "        text-align: right;\n",
       "    }\n",
       "</style>\n",
       "<table border=\"1\" class=\"dataframe\">\n",
       "  <thead>\n",
       "    <tr style=\"text-align: right;\">\n",
       "      <th></th>\n",
       "      <th>CUSTOMER_PAID</th>\n",
       "      <th>PRODUCT_PRICE</th>\n",
       "    </tr>\n",
       "  </thead>\n",
       "  <tbody>\n",
       "    <tr>\n",
       "      <th>min</th>\n",
       "      <td>-8.99</td>\n",
       "      <td>0.001759</td>\n",
       "    </tr>\n",
       "    <tr>\n",
       "      <th>max</th>\n",
       "      <td>840.00</td>\n",
       "      <td>299.990000</td>\n",
       "    </tr>\n",
       "  </tbody>\n",
       "</table>\n",
       "</div>"
      ],
      "text/plain": [
       "     CUSTOMER_PAID  PRODUCT_PRICE\n",
       "min          -8.99       0.001759\n",
       "max         840.00     299.990000"
      ]
     },
     "execution_count": 11,
     "metadata": {},
     "output_type": "execute_result"
    }
   ],
   "source": [
    "df_transaction_data_cleaned[['CUSTOMER_PAID','PRODUCT_PRICE']] \\\n",
    "    .describe() \\\n",
    "    .loc[['min', 'max']]"
   ]
  },
  {
   "cell_type": "markdown",
   "metadata": {
    "colab_type": "text",
    "id": "FKVCLvr-rv3G"
   },
   "source": [
    "We see that, in certain cases, the buyer didn't have to pay a penny as opposed to cases where the maximum bill amount was as high as \\\\$840. Also, there is a clear difference between the cheapest and most expensive product bought from the retail store.\n",
    "\n",
    "Why is the amount paid negative though?"
   ]
  },
  {
   "cell_type": "code",
   "execution_count": 12,
   "metadata": {
    "ExecuteTime": {
     "end_time": "2019-11-21T12:48:42.083468Z",
     "start_time": "2019-11-21T12:48:42.070472Z"
    },
    "colab": {
     "base_uri": "https://localhost:8080/",
     "height": 224
    },
    "colab_type": "code",
    "id": "VbaxGKfsrv3G",
    "outputId": "56b67136-8e0c-48e5-a33d-8bb7b546e297"
   },
   "outputs": [
    {
     "data": {
      "text/html": [
       "<div>\n",
       "<style scoped>\n",
       "    .dataframe tbody tr th:only-of-type {\n",
       "        vertical-align: middle;\n",
       "    }\n",
       "\n",
       "    .dataframe tbody tr th {\n",
       "        vertical-align: top;\n",
       "    }\n",
       "\n",
       "    .dataframe thead th {\n",
       "        text-align: right;\n",
       "    }\n",
       "</style>\n",
       "<table border=\"1\" class=\"dataframe\">\n",
       "  <thead>\n",
       "    <tr style=\"text-align: right;\">\n",
       "      <th></th>\n",
       "      <th>household_key</th>\n",
       "      <th>BASKET_ID</th>\n",
       "      <th>DAY</th>\n",
       "      <th>PRODUCT_ID</th>\n",
       "      <th>QUANTITY</th>\n",
       "      <th>SALES_VALUE</th>\n",
       "      <th>STORE_ID</th>\n",
       "      <th>RETAIL_DISC</th>\n",
       "      <th>TRANS_TIME</th>\n",
       "      <th>WEEK_NO</th>\n",
       "      <th>COUPON_DISC</th>\n",
       "      <th>COUPON_MATCH_DISC</th>\n",
       "      <th>CUSTOMER_PAID</th>\n",
       "      <th>PRODUCT_PRICE</th>\n",
       "    </tr>\n",
       "  </thead>\n",
       "  <tbody>\n",
       "    <tr>\n",
       "      <th>25640</th>\n",
       "      <td>1228</td>\n",
       "      <td>27399113659</td>\n",
       "      <td>36</td>\n",
       "      <td>840938</td>\n",
       "      <td>1</td>\n",
       "      <td>8.99</td>\n",
       "      <td>406</td>\n",
       "      <td>-1.00</td>\n",
       "      <td>2132</td>\n",
       "      <td>6</td>\n",
       "      <td>-9.99</td>\n",
       "      <td>0.00</td>\n",
       "      <td>-1.00</td>\n",
       "      <td>9.99</td>\n",
       "    </tr>\n",
       "    <tr>\n",
       "      <th>25642</th>\n",
       "      <td>1228</td>\n",
       "      <td>27399113659</td>\n",
       "      <td>36</td>\n",
       "      <td>881931</td>\n",
       "      <td>1</td>\n",
       "      <td>3.59</td>\n",
       "      <td>406</td>\n",
       "      <td>-0.40</td>\n",
       "      <td>2132</td>\n",
       "      <td>6</td>\n",
       "      <td>-5.99</td>\n",
       "      <td>0.00</td>\n",
       "      <td>-2.40</td>\n",
       "      <td>3.99</td>\n",
       "    </tr>\n",
       "    <tr>\n",
       "      <th>31812</th>\n",
       "      <td>2448</td>\n",
       "      <td>27468900591</td>\n",
       "      <td>41</td>\n",
       "      <td>970714</td>\n",
       "      <td>1</td>\n",
       "      <td>0.99</td>\n",
       "      <td>362</td>\n",
       "      <td>-0.40</td>\n",
       "      <td>1257</td>\n",
       "      <td>7</td>\n",
       "      <td>-1.00</td>\n",
       "      <td>0.00</td>\n",
       "      <td>-0.01</td>\n",
       "      <td>1.39</td>\n",
       "    </tr>\n",
       "    <tr>\n",
       "      <th>32186</th>\n",
       "      <td>1928</td>\n",
       "      <td>27469012501</td>\n",
       "      <td>41</td>\n",
       "      <td>1092045</td>\n",
       "      <td>1</td>\n",
       "      <td>0.88</td>\n",
       "      <td>330</td>\n",
       "      <td>-0.31</td>\n",
       "      <td>1823</td>\n",
       "      <td>7</td>\n",
       "      <td>-1.00</td>\n",
       "      <td>0.00</td>\n",
       "      <td>-0.12</td>\n",
       "      <td>1.19</td>\n",
       "    </tr>\n",
       "    <tr>\n",
       "      <th>32437</th>\n",
       "      <td>979</td>\n",
       "      <td>27469127989</td>\n",
       "      <td>40</td>\n",
       "      <td>1008677</td>\n",
       "      <td>4</td>\n",
       "      <td>1.21</td>\n",
       "      <td>368</td>\n",
       "      <td>0.00</td>\n",
       "      <td>2121</td>\n",
       "      <td>6</td>\n",
       "      <td>-3.08</td>\n",
       "      <td>-0.39</td>\n",
       "      <td>-1.87</td>\n",
       "      <td>0.40</td>\n",
       "    </tr>\n",
       "  </tbody>\n",
       "</table>\n",
       "</div>"
      ],
      "text/plain": [
       "       household_key    BASKET_ID  DAY  PRODUCT_ID  QUANTITY  SALES_VALUE  \\\n",
       "25640           1228  27399113659   36      840938         1         8.99   \n",
       "25642           1228  27399113659   36      881931         1         3.59   \n",
       "31812           2448  27468900591   41      970714         1         0.99   \n",
       "32186           1928  27469012501   41     1092045         1         0.88   \n",
       "32437            979  27469127989   40     1008677         4         1.21   \n",
       "\n",
       "       STORE_ID  RETAIL_DISC  TRANS_TIME  WEEK_NO  COUPON_DISC  \\\n",
       "25640       406        -1.00        2132        6        -9.99   \n",
       "25642       406        -0.40        2132        6        -5.99   \n",
       "31812       362        -0.40        1257        7        -1.00   \n",
       "32186       330        -0.31        1823        7        -1.00   \n",
       "32437       368         0.00        2121        6        -3.08   \n",
       "\n",
       "       COUPON_MATCH_DISC  CUSTOMER_PAID  PRODUCT_PRICE  \n",
       "25640               0.00          -1.00           9.99  \n",
       "25642               0.00          -2.40           3.99  \n",
       "31812               0.00          -0.01           1.39  \n",
       "32186               0.00          -0.12           1.19  \n",
       "32437              -0.39          -1.87           0.40  "
      ]
     },
     "execution_count": 12,
     "metadata": {},
     "output_type": "execute_result"
    }
   ],
   "source": [
    "# Retrieve the transactions with negative values for the amount paid by the customer\n",
    "df_transaction_data_cleaned[df_transaction_data_cleaned['CUSTOMER_PAID'] < 0].head()"
   ]
  },
  {
   "cell_type": "markdown",
   "metadata": {
    "colab_type": "text",
    "id": "4APLTOYhrv3I"
   },
   "source": [
    "That's the effect of campaigns! During campaigns, that the stores and their customers participate in, coupons can be used to reduce the amount the customer needed to pay for a product. As these coupons usually have fixed discounts, if the discount awarded is higher that the product price we get negative values when calculating the amount payed by the customer. As this is not what really happened (the customer payed \\\\$0 instead of receiving money from the store), we clamp these negative values to 0 in order for our subsequent analyses to be correct."
   ]
  },
  {
   "cell_type": "code",
   "execution_count": 13,
   "metadata": {
    "ExecuteTime": {
     "end_time": "2019-11-21T12:48:49.459900Z",
     "start_time": "2019-11-21T12:48:48.927314Z"
    },
    "colab": {},
    "colab_type": "code",
    "id": "IU2lG_Jprv3I"
   },
   "outputs": [],
   "source": [
    "# For all of these transactions, clamp the customer payment amount to 0\n",
    "df_transaction_data_cleaned[df_transaction_data_cleaned['CUSTOMER_PAID'] < 0] = 0"
   ]
  },
  {
   "cell_type": "markdown",
   "metadata": {
    "colab_type": "text",
    "id": "m8bCHgzJrv3J"
   },
   "source": [
    "Lets plot the distributions of `CUSTOMER_PAID` and `PRODUCT_PRICE` (we will work with a sub-sample of 10K elements since the whole dataset contains over 1 million records and it fails to fit the distributions we assume they are following)."
   ]
  },
  {
   "cell_type": "code",
   "execution_count": 14,
   "metadata": {
    "ExecuteTime": {
     "end_time": "2019-11-21T12:48:52.062279Z",
     "start_time": "2019-11-21T12:48:52.052306Z"
    },
    "colab": {},
    "colab_type": "code",
    "id": "_EFXiRsZrv3K"
   },
   "outputs": [],
   "source": [
    "def plot_distribution(df, r):\n",
    "    '''\n",
    "    Function to check the distribution of the derived statistics\n",
    "    \n",
    "    df - dataframe with one column with values of the statistic\n",
    "    r - right limit value of x-axis \n",
    "    '''\n",
    "    \n",
    "    f, (ax1, ax2) = plt.subplots(1, 2, figsize=(20, 8))\n",
    "    \n",
    "    # Plot histogram for the feature in linear and log y-scale \n",
    "    sns.distplot(df, bins=10, kde=False, ax=ax1)\n",
    "    ax1.set_xlabel('Value (in $)')\n",
    "    ax1.set_ylabel('Total')\n",
    "    sns.distplot(df, bins=10, kde=False, ax=ax2)\n",
    "    ax2.set_yscale('log')\n",
    "    ax2.set_xlabel('Value (in $)')\n",
    "    ax2.set_ylabel('Total')\n",
    "    \n",
    "    # Reduce axes ranges for better viewing \n",
    "    xt = ax2.get_xticks()\n",
    "    xmin, xmax = 1e-6, max(xt)  \n",
    "    lnspc = np.linspace(xmin, xmax, len(df))\n",
    "    ax1.set_ylim(top=5000); ax1.set_xlim(right=r)\n",
    "    ax2.set_ylim(top=5000); ax2.set_xlim(right=r)\n",
    "    \n",
    "    # Calculate and draw estimate of exponential distribution\n",
    "    m, s = stats.expon.fit(df)\n",
    "    pdf_exponential = stats.expon.pdf(lnspc, scale=s)\n",
    "    sns.lineplot(lnspc, pdf_exponential * len(df), ax=ax1, label='Exponential')\n",
    "    sns.lineplot(lnspc, pdf_exponential * len(df), ax=ax2, label='Exponential')\n",
    "    \n",
    "    # Calculate and draw estimate of power-law distribution\n",
    "    a, m, s = stats.powerlaw.fit(df)\n",
    "    pdf_powerlaw = stats.powerlaw.pdf(lnspc, a, scale=s)\n",
    "    sns.lineplot(lnspc, pdf_powerlaw * len(df), ax=ax1, label='Powerlaw')\n",
    "    sns.lineplot(lnspc, pdf_powerlaw * len(df), ax=ax2, label='Powerlaw')\n",
    "\n",
    "    plt.show()"
   ]
  },
  {
   "cell_type": "code",
   "execution_count": 15,
   "metadata": {
    "ExecuteTime": {
     "end_time": "2019-11-21T12:48:53.776342Z",
     "start_time": "2019-11-21T12:48:53.738403Z"
    },
    "colab": {},
    "colab_type": "code",
    "id": "tSvpOot4rv3L"
   },
   "outputs": [],
   "source": [
    "r = 20\n",
    "df = df_transaction_data_cleaned['CUSTOMER_PAID'].sample(n=10000, random_state=1)\n",
    "df = df[(df > 0) & (df < r)] # Remove the outliers"
   ]
  },
  {
   "cell_type": "code",
   "execution_count": 16,
   "metadata": {
    "ExecuteTime": {
     "end_time": "2019-11-21T12:48:58.867690Z",
     "start_time": "2019-11-21T12:48:54.893319Z"
    },
    "colab": {
     "base_uri": "https://localhost:8080/",
     "height": 526
    },
    "colab_type": "code",
    "id": "UV94JhTVrv3M",
    "outputId": "e8a68f9c-f0f2-4c55-895a-740ea637ff6b"
   },
   "outputs": [
    {
     "data": {
      "image/png": "[encoded data removed]",
      "text/plain": [
       "<Figure size 1440x576 with 2 Axes>"
      ]
     },
     "metadata": {
      "needs_background": "light"
     },
     "output_type": "display_data"
    }
   ],
   "source": [
    "plot_distribution(df, r)"
   ]
  },
  {
   "cell_type": "code",
   "execution_count": 17,
   "metadata": {
    "ExecuteTime": {
     "end_time": "2019-11-21T12:49:00.015620Z",
     "start_time": "2019-11-21T12:48:59.975727Z"
    },
    "colab": {},
    "colab_type": "code",
    "id": "RF3SLmn-rv3O"
   },
   "outputs": [],
   "source": [
    "r = 20\n",
    "df = df_transaction_data_cleaned['PRODUCT_PRICE'].sample(n=10000, random_state=1)\n",
    "df = df[(df > 0) & (df < r)] # Remove the outliers"
   ]
  },
  {
   "cell_type": "code",
   "execution_count": 18,
   "metadata": {
    "ExecuteTime": {
     "end_time": "2019-11-21T12:49:04.663231Z",
     "start_time": "2019-11-21T12:49:01.136623Z"
    },
    "colab": {
     "base_uri": "https://localhost:8080/",
     "height": 526
    },
    "colab_type": "code",
    "id": "PipSPs0mrv3P",
    "outputId": "c0f9cd65-6632-4ddc-ca8c-e0e3947ee95f"
   },
   "outputs": [
    {
     "data": {
      "image/png": "[encoded data removed]",
      "text/plain": [
       "<Figure size 1440x576 with 2 Axes>"
      ]
     },
     "metadata": {
      "needs_background": "light"
     },
     "output_type": "display_data"
    }
   ],
   "source": [
    "plot_distribution(df, r)"
   ]
  },
  {
   "cell_type": "markdown",
   "metadata": {
    "colab_type": "text",
    "id": "JSjRzv82rv3Q"
   },
   "source": [
    "Looks like we have an exponential distribution for both columns."
   ]
  },
  {
   "cell_type": "markdown",
   "metadata": {
    "colab_type": "text",
    "id": "7PAUEYpkrv3R"
   },
   "source": [
    "### Joining Datasets"
   ]
  },
  {
   "cell_type": "markdown",
   "metadata": {
    "colab_type": "text",
    "id": "Sim5HOiIrv3R"
   },
   "source": [
    "We join the two datasets to obtain the transactions for each household. "
   ]
  },
  {
   "cell_type": "code",
   "execution_count": null,
   "metadata": {
    "ExecuteTime": {
     "end_time": "2019-11-21T12:50:18.550424Z",
     "start_time": "2019-11-21T12:50:18.160428Z"
    },
    "colab": {
     "base_uri": "https://localhost:8080/",
     "height": 34
    },
    "colab_type": "code",
    "id": "G5NOUNvarv3R",
    "outputId": "71db1e55-cde1-43bf-c90e-6c891d41a2fe"
   },
   "outputs": [
    {
     "name": "stdout",
     "output_type": "stream",
     "text": [
      "Total number of transactions for the selected households: 1416672\n"
     ]
    }
   ],
   "source": [
    "df_households_transactions = df_transaction_data_cleaned.join(df_hh_demographic, on='household_key')\n",
    "\n",
    "print('Total number of transactions for the selected households:',\n",
    "      len(df_households_transactions))"
   ]
  },
  {
   "cell_type": "markdown",
   "metadata": {
    "colab_type": "text",
    "id": "aVyUNyAmrv3S"
   },
   "source": [
    "## Part 3: Data Analysis"
   ]
  },
  {
   "cell_type": "markdown",
   "metadata": {
    "colab_type": "text",
    "id": "F3QvW8jCrv3T",
    "toc-hr-collapsed": true,
    "toc-nb-collapsed": true
   },
   "source": [
    "### Analysis of the Underlying Distributions\n",
    "\n",
    "The following analysis can help us discover the shopping habits of the households, regardless of their annual income."
   ]
  },
  {
   "cell_type": "markdown",
   "metadata": {
    "colab_type": "text",
    "id": "Fccs4FFarv3T"
   },
   "source": [
    "#### Household Income"
   ]
  },
  {
   "cell_type": "markdown",
   "metadata": {
    "colab_type": "text",
    "id": "sY2xK2n6rv3T"
   },
   "source": [
    "We noted that one of the major factors in determining the household expenses is the household income category. This is represented by the `INCOME_DESC` column. It holds information about the total anual income for each household.\n",
    "\n",
    "The main challenge in answering our question is the fact that this column is non numeric - each income value is represented as a category which represents an interval of income values. Looking on the bright side, there is meaningful ordering of the categories as they are intervals. "
   ]
  },
  {
   "cell_type": "code",
   "execution_count": null,
   "metadata": {
    "ExecuteTime": {
     "end_time": "2019-11-21T12:10:27.526769Z",
     "start_time": "2019-11-21T12:10:27.282396Z"
    },
    "colab": {
     "base_uri": "https://localhost:8080/",
     "height": 518
    },
    "colab_type": "code",
    "id": "wQ5cum8Grv3U",
    "outputId": "abcc1e76-1534-4052-e080-9bf9d21a84b6"
   },
   "outputs": [
    {
     "data": {
      "image/png": "[encoded data removed]",
      "text/plain": [
       "<Figure size 720x576 with 1 Axes>"
      ]
     },
     "metadata": {
      "needs_background": "light"
     },
     "output_type": "display_data"
    }
   ],
   "source": [
    "f, ax = plt.subplots(figsize=(10, 8))\n",
    "\n",
    "income_desc = df_hh_demographic['INCOME_DESC'].value_counts()\n",
    "sns.barplot(x=income_desc, y=income_desc.index, ax=ax, palette='Blues')\n",
    "ax.set_title('Distribution of household income')\n",
    "ax.set_xlabel('Number of households')\n",
    "ax.set_ylabel('Annual income (in $)')\n",
    "\n",
    "plt.show()"
   ]
  },
  {
   "cell_type": "markdown",
   "metadata": {
    "colab_type": "text",
    "id": "yVXtqN_lrv3V"
   },
   "source": [
    "While there is nothing wrong with this plot on first sight, careful analysis reveils a large problem with it: The bins are not equidistant. Therefore, it is biased towards bins of larger range. For example, the *15-24K* bin only spans a *9K* income range, while the *200-249K* bin spans a *49K* range. For a fair plot, we need to divide all the bins by their range. That way, we get an approximate *income distribution density* of the number of households per *1K* income range."
   ]
  },
  {
   "cell_type": "code",
   "execution_count": null,
   "metadata": {
    "colab": {},
    "colab_type": "code",
    "id": "CyGjwlx3PBhA"
   },
   "outputs": [],
   "source": [
    "# Define the bin ranges for income, list of values in the form [right bin range, left bin range]\n",
    "bins = np.array([\n",
    "    [15,0],\n",
    "    [24,15],\n",
    "    [34,25],\n",
    "    [49,35],\n",
    "    [74,50],\n",
    "    [99,75],\n",
    "    [124,100],\n",
    "    [149,125],\n",
    "    [174,150],\n",
    "    [199,175],\n",
    "    [249,200],\n",
    "    [350,250]\n",
    "])\n",
    "\n",
    "# Calculate the bin sizes (lengths), to be used for normalization\n",
    "diff = bins[:,0]-bins[:,1]\n",
    "\n",
    "# Calculate the geometric means of the bins, to be used for fitting a log-normal distribution curve\n",
    "geo_means = np.sqrt(bins[:,0]*bins[:,1])\n",
    "geo_means[0] = np.mean([bins[0,0],bins[0,1]])"
   ]
  },
  {
   "cell_type": "markdown",
   "metadata": {},
   "source": [
    "The `geo_means` variable is relevant, as it approximately represents the average value within every bin (assuming a log-normal distribution). The geometric mean between the lower and upper boud of a bin is more accurate than taking the average between the upper and lower bound. "
   ]
  },
  {
   "cell_type": "code",
   "execution_count": null,
   "metadata": {
    "colab": {
     "base_uri": "https://localhost:8080/",
     "height": 518
    },
    "colab_type": "code",
    "id": "PxzYM1iHwes7",
    "outputId": "ccc6f7e5-d522-49d3-ae60-d5995191b77b"
   },
   "outputs": [
    {
     "data": {
      "image/png": "[encoded data removed]",
      "text/plain": [
       "<Figure size 720x576 with 1 Axes>"
      ]
     },
     "metadata": {
      "needs_background": "light"
     },
     "output_type": "display_data"
    }
   ],
   "source": [
    "f, ax = plt.subplots(figsize=(10, 8))\n",
    "\n",
    "income_desc = df_hh_demographic['INCOME_DESC'].value_counts().sort_index()\n",
    "income_desc_density = (income_desc / diff).values\n",
    "\n",
    "sns.barplot(x=income_desc_density, y=income_desc.index, ax=ax, palette='Blues')\n",
    "ax.set_title('Number of households per 1K income range')\n",
    "ax.set_xlabel('Density of households')\n",
    "ax.set_ylabel('Annual income (in $)')\n",
    "\n",
    "plt.show()"
   ]
  },
  {
   "cell_type": "markdown",
   "metadata": {},
   "source": [
    "Here we can see that the distribution looks like a log-normal distribution, which was to be expected given the Central Limit Theorem for positive values (income can only take values larger than zero, so the distribution has to be log-normal, instead of normal). In the final phase of the project, we are going to fit a log-normal distribution upon this data to extract more information from it. "
   ]
  },
  {
   "cell_type": "code",
   "execution_count": null,
   "metadata": {},
   "outputs": [],
   "source": []
  },
  {
   "cell_type": "code",
   "execution_count": null,
   "metadata": {},
   "outputs": [],
   "source": [
    "#Creating samples for the lognormal distribution\n",
    "accuracy_param = 7 #this parameter is used to create an array which is sampled from the log-normal \n",
    "# see scipy.stats.lognorm documentation\n",
    "samples = []\n",
    "for i in range(len(income_desc_density)):\n",
    "    samples.append([np.round(geo_means[i])]*int(accuracy_param*income_desc_density[i]))\n",
    "samples = [j for sub in samples for j in sub]"
   ]
  },
  {
   "cell_type": "code",
   "execution_count": null,
   "metadata": {},
   "outputs": [],
   "source": [
    "from scipy import stats\n",
    "[sigma, mu, alpha] = stats.lognorm.fit(np.array(samples)/accuracy_param)\n"
   ]
  },
  {
   "cell_type": "code",
   "execution_count": null,
   "metadata": {},
   "outputs": [
    {
     "data": {
      "image/png": "[encoded data removed]",
      "text/plain": [
       "<Figure size 432x288 with 1 Axes>"
      ]
     },
     "metadata": {
      "needs_background": "light"
     },
     "output_type": "display_data"
    }
   ],
   "source": [
    "import scipy.stats as ss\n",
    "\n",
    "def plot_f(x_range, mu, sigma, alpha):\n",
    "    '''\n",
    "    Plots the f distribution function for a given x range, dfn and dfd\n",
    "    If mu and sigma are not provided, standard f is plotted\n",
    "    Passes any keyword arguments to matplotlib plot function\n",
    "    '''\n",
    "    x = x_range\n",
    "    #y = ss.f.pdf(x, dfn, dfd, mu, sigma)\n",
    "    y = 1/((x-mu)*np.sqrt(2*np.pi*sigma**2))*np.exp(-np.log((x-mu)/alpha)**2/2/sigma**2)\n",
    "    plt.plot(x*10, y*np.max(income_desc_density)/np.max(y),label = \"Lognormal fit\", color=\"red\")\n",
    "    plt.plot(geo_means, income_desc_density, color='blue',label='should be a histogram')\n",
    "    plt.xlim([0,300])\n",
    "\n",
    "x = np.linspace(0.001, 100, 500)\n",
    "plot_f(x, mu, sigma, alpha)\n",
    "plt.legend();"
   ]
  },
  {
   "cell_type": "markdown",
   "metadata": {
    "colab_type": "text",
    "id": "IonO7h1Drv3V"
   },
   "source": [
    "#### Average Bill Amount"
   ]
  },
  {
   "cell_type": "markdown",
   "metadata": {
    "colab_type": "text",
    "id": "U6VKuNu2rv3W"
   },
   "source": [
    "To measure the spending habits of the households, we compute the average amount of households' bills. Each household visit to a store is uniquely identified with a `BASKET_ID`. We do this in two steps:\n",
    "\n",
    "1. We sum the derived `CUSTOMER_PAID` column across the transactions for each visit to get the total bill amount for the visit. <br>\n",
    "2. We average across all visits of each household."
   ]
  },
  {
   "cell_type": "code",
   "execution_count": null,
   "metadata": {
    "ExecuteTime": {
     "end_time": "2019-11-21T12:15:08.679737Z",
     "start_time": "2019-11-21T12:15:08.513069Z"
    },
    "colab": {},
    "colab_type": "code",
    "id": "lunzVe3xrv3W"
   },
   "outputs": [],
   "source": [
    "df_households_basket_payment = df_households_transactions \\\n",
    "    .groupby(['household_key', 'BASKET_ID'])['CUSTOMER_PAID'] \\\n",
    "    .sum()\n",
    "\n",
    "df_households_basket_payment_average = df_households_basket_payment.groupby(['household_key']).mean()"
   ]
  },
  {
   "cell_type": "code",
   "execution_count": null,
   "metadata": {
    "ExecuteTime": {
     "end_time": "2019-11-21T12:15:09.598175Z",
     "start_time": "2019-11-21T12:15:09.363801Z"
    },
    "colab": {
     "base_uri": "https://localhost:8080/",
     "height": 518
    },
    "colab_type": "code",
    "id": "AJIoT2gVrv3X",
    "outputId": "af3671cc-12a8-4010-e2dd-2ede7d608e4a"
   },
   "outputs": [
    {
     "data": {
      "image/png": "[encoded data removed]",
      "text/plain": [
       "<Figure size 720x576 with 1 Axes>"
      ]
     },
     "metadata": {
      "needs_background": "light"
     },
     "output_type": "display_data"
    }
   ],
   "source": [
    "f, ax = plt.subplots(figsize=(10, 8))\n",
    "\n",
    "sns.distplot(df_households_basket_payment_average)\n",
    "ax.set_title('Distribution of average bill amount')\n",
    "ax.set_xlabel('Average bill amount (in $)')\n",
    "ax.set_ylabel('Number of households (density)')\n",
    "\n",
    "plt.show()"
   ]
  },
  {
   "cell_type": "markdown",
   "metadata": {
    "colab_type": "text",
    "id": "8fSbUqmerv3Y"
   },
   "source": [
    "Looking at the histogram of this statistic, we identify it as a right-skewed Gaussian distribution, with a few outliers.\n",
    "\n",
    "On average, people spend around \\\\$30 at a local retailer, which is kind off expected. However, there are several outliers and this is further investigated bellow."
   ]
  },
  {
   "cell_type": "markdown",
   "metadata": {
    "colab_type": "text",
    "id": "qPZHow_arv3Z"
   },
   "source": [
    "#### Average Price of the Most Expensive Product"
   ]
  },
  {
   "cell_type": "markdown",
   "metadata": {
    "colab_type": "text",
    "id": "uTeq52LSrv3a"
   },
   "source": [
    "Product prices are also reflective of the expenses that households have.\n",
    "\n",
    "From this perspective, we can calculate a different statistic quantifying the spending habits of each household. This time we use the derived `PRODUCT_PRICE` to calculate the maximum product price in each basket and then average across for each household.\n",
    "\n",
    "We calculate this statistic because first, the choice of most expensive product is a good indicator of the households spending habit during a trip. The average or lowest price of a product in the basket would not be relevant, as the first is very sensitive to outliers and the second will have low variance because of common buying of cheap products.\n",
    "\n",
    "Here, we also aggregate the max product prices across each supermarket visit using the mean. "
   ]
  },
  {
   "cell_type": "code",
   "execution_count": null,
   "metadata": {
    "ExecuteTime": {
     "end_time": "2019-11-21T12:15:12.150912Z",
     "start_time": "2019-11-21T12:15:11.981262Z"
    },
    "colab": {},
    "colab_type": "code",
    "id": "gFjvNg_prv3c"
   },
   "outputs": [],
   "source": [
    "df_households_basket_max_product_price = df_households_transactions \\\n",
    "    .groupby(['household_key', 'BASKET_ID'])['PRODUCT_PRICE'] \\\n",
    "    .max()\n",
    "\n",
    "df_households_basket_max_product_price_average = df_households_basket_max_product_price.groupby('household_key').mean()"
   ]
  },
  {
   "cell_type": "code",
   "execution_count": null,
   "metadata": {
    "ExecuteTime": {
     "end_time": "2019-11-21T12:15:13.051374Z",
     "start_time": "2019-11-21T12:15:12.837963Z"
    },
    "colab": {
     "base_uri": "https://localhost:8080/",
     "height": 518
    },
    "colab_type": "code",
    "id": "xss2-P2Zrv3d",
    "outputId": "a211d067-2246-4762-8742-dc1b2f658319"
   },
   "outputs": [
    {
     "data": {
      "image/png": "[encoded data removed]",
      "text/plain": [
       "<Figure size 720x576 with 1 Axes>"
      ]
     },
     "metadata": {
      "needs_background": "light"
     },
     "output_type": "display_data"
    }
   ],
   "source": [
    "f, ax = plt.subplots(figsize=(10, 8))\n",
    "\n",
    "sns.distplot(df_households_basket_max_product_price_average)\n",
    "ax.set_title('Distribution of average price of the most expensive product')\n",
    "ax.set_xlabel('Average price of the most expensive product (in $)')\n",
    "ax.set_ylabel('Number of households (density)')\n",
    "\n",
    "plt.show()"
   ]
  },
  {
   "cell_type": "markdown",
   "metadata": {
    "colab_type": "text",
    "id": "0azOyog7rv3f"
   },
   "source": [
    "We observe from the histogram that this feature has a much more regular Gaussian distribution with a mean aroung \\\\$7. However, there are also outliers in this statistic. Some products can get as expensive as \\\\$100 of dolars which is depicted in another study bellow."
   ]
  },
  {
   "cell_type": "markdown",
   "metadata": {
    "colab_type": "text",
    "id": "RPMFqsTQrv3f",
    "toc-hr-collapsed": true,
    "toc-nb-collapsed": true
   },
   "source": [
    "### Statistics Comparison"
   ]
  },
  {
   "cell_type": "markdown",
   "metadata": {
    "colab_type": "text",
    "id": "MvH_nOE-rv3f"
   },
   "source": [
    "#### Correlation"
   ]
  },
  {
   "cell_type": "markdown",
   "metadata": {
    "colab_type": "text",
    "id": "XKjrCmKurv3g"
   },
   "source": [
    "We are interested in whether these two statistics are coorelated. Does the max product price determine the actual value on the bill?\n",
    "\n",
    "Using a scatter plot, we would like to confirm (or deny) this."
   ]
  },
  {
   "cell_type": "code",
   "execution_count": null,
   "metadata": {
    "ExecuteTime": {
     "end_time": "2019-11-21T12:35:49.841485Z",
     "start_time": "2019-11-21T12:35:49.156291Z"
    },
    "colab": {
     "base_uri": "https://localhost:8080/",
     "height": 518
    },
    "colab_type": "code",
    "id": "ZpPw_femrv3h",
    "outputId": "9b6c5a9c-a86b-4c00-da39-3acad502d6eb"
   },
   "outputs": [
    {
     "data": {
      "image/png": "[encoded data removed]",
      "text/plain": [
       "<Figure size 720x576 with 1 Axes>"
      ]
     },
     "metadata": {
      "needs_background": "light"
     },
     "output_type": "display_data"
    }
   ],
   "source": [
    "fig, ax = plt.subplots(figsize=(10, 8))\n",
    "\n",
    "sns.regplot(df_households_basket_payment_average, df_households_basket_max_product_price_average, ax=ax)\n",
    "ax.set_title('Coorelation between the two statistics')\n",
    "ax.set_xlabel('Average bill amount (in $)')\n",
    "ax.set_ylabel('Average price of the most expensive product (in $)')\n",
    "\n",
    "plt.show()"
   ]
  },
  {
   "cell_type": "code",
   "execution_count": null,
   "metadata": {
    "ExecuteTime": {
     "end_time": "2019-11-21T12:20:07.216000Z",
     "start_time": "2019-11-21T12:20:07.210978Z"
    },
    "colab": {
     "base_uri": "https://localhost:8080/",
     "height": 34
    },
    "colab_type": "code",
    "id": "1d1rEJWKrv3i",
    "outputId": "97d26e6e-ebe1-45da-9e55-e2e3e9e53bc7"
   },
   "outputs": [
    {
     "data": {
      "text/plain": [
       "0.7574264114900365"
      ]
     },
     "execution_count": 31,
     "metadata": {},
     "output_type": "execute_result"
    }
   ],
   "source": [
    "# Compute the Spearman correlation coefficient between the two statistics\n",
    "df_households_basket_payment_average.corr(df_households_basket_max_product_price_average, method='spearman')"
   ]
  },
  {
   "cell_type": "markdown",
   "metadata": {
    "colab_type": "text",
    "id": "Yf7jrNPirv3j"
   },
   "source": [
    "When using linear scales one can see an incrising monotonic associacion. One insight from the left plot is that, as the average bill amount rises, so does the number of product bought. In some cases, the price of the most expensive product will prevail, on others there will be more products with lower price. That is why the graph spreads more when the average bill amount rises."
   ]
  },
  {
   "cell_type": "markdown",
   "metadata": {
    "colab_type": "text",
    "id": "F3C9ztNfrv3k",
    "toc-hr-collapsed": true,
    "toc-nb-collapsed": true
   },
   "source": [
    "### Analysis of the Joint Distribution "
   ]
  },
  {
   "cell_type": "markdown",
   "metadata": {
    "colab_type": "text",
    "id": "clTG-oqmrv3k"
   },
   "source": [
    "Now that we have insight on how much money, on average, people spend on each visit to the store and how does the price of the most expensive product bought vary, we are interested to see does the household income play a crucial role in this. Our expectation is that it does, and that households with lower income spend less and buy cheeper products as opposed to households with higher income."
   ]
  },
  {
   "cell_type": "markdown",
   "metadata": {
    "colab_type": "text",
    "id": "E_l6zRHnrv3k"
   },
   "source": [
    "#### Household Income vs. Average Bill Amount"
   ]
  },
  {
   "cell_type": "markdown",
   "metadata": {
    "colab_type": "text",
    "id": "lD9TX-ahrv3l"
   },
   "source": [
    "Using a boxplot we can view the distribution of the statistic across each household income category and perform a comparison very efficiently."
   ]
  },
  {
   "cell_type": "code",
   "execution_count": null,
   "metadata": {
    "ExecuteTime": {
     "end_time": "2019-11-21T12:20:23.990752Z",
     "start_time": "2019-11-21T12:20:23.985766Z"
    },
    "colab": {},
    "colab_type": "code",
    "id": "sCs-jbyVrv3l"
   },
   "outputs": [],
   "source": [
    "# Combine the income values and average bill amount values for each household in a new dataframe\n",
    "df = df_hh_demographic[['INCOME_DESC']].join(df_households_basket_payment_average)"
   ]
  },
  {
   "cell_type": "code",
   "execution_count": null,
   "metadata": {
    "ExecuteTime": {
     "end_time": "2019-11-21T12:20:25.083440Z",
     "start_time": "2019-11-21T12:20:24.750332Z"
    },
    "colab": {
     "base_uri": "https://localhost:8080/",
     "height": 518
    },
    "colab_type": "code",
    "id": "ZhvyPRcFrv3m",
    "outputId": "17cb81f6-b5e7-4975-b1a5-4cc4737d961f"
   },
   "outputs": [
    {
     "data": {
      "image/png": "[encoded data removed]",
      "text/plain": [
       "<Figure size 720x576 with 1 Axes>"
      ]
     },
     "metadata": {
      "needs_background": "light"
     },
     "output_type": "display_data"
    }
   ],
   "source": [
    "fig, ax = plt.subplots(figsize=(10, 8))\n",
    "\n",
    "sns.boxplot(x='CUSTOMER_PAID', y='INCOME_DESC', data=df, palette='Blues')\n",
    "ax.set_title('Distribution of average bill amount across different income categories')\n",
    "ax.set_xlabel('Average bill amount (in $)')\n",
    "ax.set_ylabel('Annual income (in $)')\n",
    "\n",
    "plt.show()"
   ]
  },
  {
   "cell_type": "markdown",
   "metadata": {
    "colab_type": "text",
    "id": "cJYT9Uxwrv3n"
   },
   "source": [
    "To our surprise, extreme spending are mostly observed for medium and lower income households."
   ]
  },
  {
   "cell_type": "markdown",
   "metadata": {
    "colab_type": "text",
    "id": "yNaAlR76rv3n"
   },
   "source": [
    "Using a 2D histogram i.e. heatmap we can compare the relationship between income and the statistic in more detail by viewing their joint distribution."
   ]
  },
  {
   "cell_type": "code",
   "execution_count": null,
   "metadata": {
    "ExecuteTime": {
     "end_time": "2019-11-21T12:20:28.685624Z",
     "start_time": "2019-11-21T12:20:28.679641Z"
    },
    "colab": {},
    "colab_type": "code",
    "id": "xlwnEwKBrv3n"
   },
   "outputs": [],
   "source": [
    "# Convert the income column from ordinal to string type (needed for plotting compatibility)\n",
    "mapping = dict(zip(df['INCOME_DESC'], df['INCOME_DESC'].cat.codes))\n",
    "\n",
    "df['INCOME_DESC'] = df['INCOME_DESC'] \\\n",
    "    .astype(str) \\\n",
    "    .map(mapping)"
   ]
  },
  {
   "cell_type": "code",
   "execution_count": null,
   "metadata": {
    "ExecuteTime": {
     "end_time": "2019-11-21T12:20:30.677332Z",
     "start_time": "2019-11-21T12:20:29.429636Z"
    },
    "colab": {},
    "colab_type": "code",
    "id": "v5qsUnZIrv3o",
    "outputId": "92effd43-c932-4ee4-d374-355c4581e4bb"
   },
   "outputs": [
    {
     "data": {
      "image/png": "[encoded data removed]",
      "text/plain": [
       "<Figure size 720x720 with 3 Axes>"
      ]
     },
     "metadata": {
      "needs_background": "light"
     },
     "output_type": "display_data"
    }
   ],
   "source": [
    "# Use Kernel Density Estimation to estimate the joint distribution from the 2D histogram\n",
    "g = sns.jointplot(y='INCOME_DESC', x='CUSTOMER_PAID', data=df, kind='kde', height=10)\n",
    "g.set_axis_labels(\n",
    "    'Average bill amount (in $)',\n",
    "    'Annual income (in $)'\n",
    ")\n",
    "g.ax_joint.set_yticklabels(income_desc_categories);"
   ]
  },
  {
   "cell_type": "markdown",
   "metadata": {
    "colab_type": "text",
    "id": "uv9iSLekrv3q"
   },
   "source": [
    "We can observe that the majority of the households are concentrated at the medium income values of 35-74K and lower average expenses of about \\\\$20 - \\\\$40."
   ]
  },
  {
   "cell_type": "markdown",
   "metadata": {
    "colab_type": "text",
    "id": "Rz-L6H_Rrv3q"
   },
   "source": [
    "#### Household Income vs. Average Price of the Most Expensive Product"
   ]
  },
  {
   "cell_type": "markdown",
   "metadata": {
    "colab_type": "text",
    "id": "LBBfvUXYrv3q"
   },
   "source": [
    "Similarly, to begin the comparison between household income and maximum product prices we first merge the two features of each household."
   ]
  },
  {
   "cell_type": "code",
   "execution_count": null,
   "metadata": {
    "ExecuteTime": {
     "end_time": "2019-11-21T12:20:31.874511Z",
     "start_time": "2019-11-21T12:20:31.869525Z"
    },
    "colab": {},
    "colab_type": "code",
    "id": "L5Ss-n2Lrv3r"
   },
   "outputs": [],
   "source": [
    "# Combine the income values and average max product price values for each household in a new dataframe\n",
    "df = df_hh_demographic[['INCOME_DESC']].join(df_households_basket_max_product_price_average)"
   ]
  },
  {
   "cell_type": "code",
   "execution_count": null,
   "metadata": {
    "ExecuteTime": {
     "end_time": "2019-11-21T12:20:41.223801Z",
     "start_time": "2019-11-21T12:20:40.898639Z"
    },
    "colab": {},
    "colab_type": "code",
    "id": "6AwgW_jqrv3r",
    "outputId": "728fa3bb-0490-48a4-839b-f7a88ad1ab09"
   },
   "outputs": [
    {
     "data": {
      "image/png": "[encoded data removed]",
      "text/plain": [
       "<Figure size 720x576 with 1 Axes>"
      ]
     },
     "metadata": {
      "needs_background": "light"
     },
     "output_type": "display_data"
    }
   ],
   "source": [
    "fig, ax = plt.subplots(figsize=(10, 8))\n",
    "\n",
    "sns.boxplot(x='PRODUCT_PRICE', y='INCOME_DESC', data=df, palette='Blues')\n",
    "ax.set_title('Distribution of average price of the most expensive product across different income categories')\n",
    "ax.set_xlabel('Average price of the most expensive product (in $)')\n",
    "ax.set_ylabel('Annual income (in $)')\n",
    "\n",
    "plt.show()"
   ]
  },
  {
   "cell_type": "markdown",
   "metadata": {
    "colab_type": "text",
    "id": "IrMLrr7Frv3s"
   },
   "source": [
    "The phenomena related to the extreme values is present here as well. Additionally, an interesting difference is the huge range of values for the richest households, perhaps capturing the fact that these households mostly purchase the most expensive products."
   ]
  },
  {
   "cell_type": "code",
   "execution_count": null,
   "metadata": {
    "ExecuteTime": {
     "end_time": "2019-11-21T12:20:44.664901Z",
     "start_time": "2019-11-21T12:20:44.659914Z"
    },
    "colab": {},
    "colab_type": "code",
    "id": "Un5gSt0vrv3t"
   },
   "outputs": [],
   "source": [
    "# Convert the income column from ordinal to string type (needed for plotting compatibility)\n",
    "mapping = dict(zip(df['INCOME_DESC'], df['INCOME_DESC'].cat.codes))\n",
    "\n",
    "df['INCOME_DESC'] = df['INCOME_DESC'].astype(str).map(mapping)"
   ]
  },
  {
   "cell_type": "code",
   "execution_count": null,
   "metadata": {
    "ExecuteTime": {
     "end_time": "2019-11-21T12:20:46.564464Z",
     "start_time": "2019-11-21T12:20:45.396944Z"
    },
    "colab": {},
    "colab_type": "code",
    "id": "SGov2Nylrv3u",
    "outputId": "fc7df8a1-d9ea-4d98-cb1d-06efb888aa78"
   },
   "outputs": [
    {
     "data": {
      "image/png": "[encoded data removed]",
      "text/plain": [
       "<Figure size 720x720 with 3 Axes>"
      ]
     },
     "metadata": {
      "needs_background": "light"
     },
     "output_type": "display_data"
    }
   ],
   "source": [
    "# Use Kernel Density Estimation to estimate the joint distribution from the 2D histogram\n",
    "g = sns.jointplot(y='INCOME_DESC', x='PRODUCT_PRICE', data=df, kind='kde', height=10)\n",
    "g.set_axis_labels(\n",
    "    'Average price of the most expensive product (in $)',\n",
    "    'Annual income (in $)'\n",
    ")\n",
    "g.ax_joint.set_yticklabels(income_desc_categories);"
   ]
  },
  {
   "cell_type": "markdown",
   "metadata": {
    "colab_type": "text",
    "id": "lY39bQB3rv3v"
   },
   "source": [
    "Analyzing the joint distribution, we observe that it is very similar in form to the one for the previous statistic, further proving their equivalence."
   ]
  },
  {
   "cell_type": "markdown",
   "metadata": {
    "colab_type": "text",
    "id": "YzAwLn-6rv3v"
   },
   "source": [
    "### Trends"
   ]
  },
  {
   "cell_type": "markdown",
   "metadata": {
    "colab_type": "text",
    "id": "fmz9_CVzrv3w",
    "toc-hr-collapsed": true,
    "toc-nb-collapsed": true
   },
   "source": [
    "#### Coupon usage"
   ]
  },
  {
   "cell_type": "markdown",
   "metadata": {
    "colab_type": "text",
    "id": "u8t9vtgorv3w"
   },
   "source": [
    "We noticed that campaigns play a major role in how people spend their money. In deriving the true amount of money that households spend on every visit to the store, we took into account the coupon value. But what is the total amount used and does it vary with the income category?"
   ]
  },
  {
   "cell_type": "code",
   "execution_count": null,
   "metadata": {
    "ExecuteTime": {
     "end_time": "2019-11-21T14:23:51.262340Z",
     "start_time": "2019-11-21T14:23:51.014961Z"
    },
    "colab": {
     "base_uri": "https://localhost:8080/",
     "height": 518
    },
    "colab_type": "code",
    "id": "jC--q0EZrv3w",
    "outputId": "dbfdf562-7997-4129-dc01-dc92fe8e3bed"
   },
   "outputs": [
    {
     "data": {
      "image/png": "[encoded data removed]",
      "text/plain": [
       "<Figure size 720x576 with 1 Axes>"
      ]
     },
     "metadata": {
      "needs_background": "light"
     },
     "output_type": "display_data"
    }
   ],
   "source": [
    "# For each household income category calculate the total coupon discount amount used\n",
    "# and normalize it by dividing it with the number of households in that category\n",
    "df = df_households_transactions.groupby(['INCOME_DESC'], observed=True)['COUPON_DISC'] \\\n",
    "    .sum() \\\n",
    "    .div(df_hh_demographic['INCOME_DESC'].value_counts()) \\\n",
    "    .reset_index()\n",
    "\n",
    "df.columns = ['INCOME_DESC', 'COUPON_DISC']\n",
    "\n",
    "fig, ax = plt.subplots(figsize=(10, 8))\n",
    "sns.barplot(y='INCOME_DESC', x='COUPON_DISC', data=df, palette='Reds', ax=ax)\n",
    "ax.set_title('Coupon usage')\n",
    "ax.set_ylabel('Annual income (in $)')\n",
    "ax.set_xlabel('Average total coupon discount amount')\n",
    "plt.show()"
   ]
  },
  {
   "cell_type": "markdown",
   "metadata": {
    "colab_type": "text",
    "id": "PM0byy7urv3x"
   },
   "source": [
    "Coupon value is negative, since it gives a discount to the price. On this bar plot, we see a somewhat unexpected trend. People with medium to upper medium income use more coupons as opposed to the people with lower income. Interesting sight is that people with high income are also heavy users of coupons."
   ]
  },
  {
   "cell_type": "markdown",
   "metadata": {
    "colab_type": "text",
    "id": "r5kjn-norv3y",
    "toc-hr-collapsed": true,
    "toc-nb-collapsed": true
   },
   "source": [
    "#### Daily Expenses"
   ]
  },
  {
   "cell_type": "markdown",
   "metadata": {},
   "source": [
    "Interesting information can be found by looking into the day of the week when purchases have been made. While we don't know the exact date (and thereby day of the week) from when the data was recorded, it is enough to group the transactions by the *day number* module *7*, in order to plot the transactions throughout an average week. "
   ]
  },
  {
   "cell_type": "code",
   "execution_count": null,
   "metadata": {
    "ExecuteTime": {
     "end_time": "2019-11-21T14:02:21.866566Z",
     "start_time": "2019-11-21T14:02:21.738915Z"
    },
    "colab": {},
    "colab_type": "code",
    "id": "I27ojOBHrv3y"
   },
   "outputs": [],
   "source": [
    "df = df_households_transactions.copy()\n",
    "\n",
    "# Map the integer DAY values(1-711) to weekdays (0-6) using modulo 7\n",
    "df['DAY'] = df['DAY'].apply(lambda d: d % 7)\n",
    "\n",
    "# Calculate average customer payments for each weekday\n",
    "df = df.groupby(['DAY'])['CUSTOMER_PAID'] \\\n",
    "    .sum() \\\n",
    "    .reset_index()\n",
    "\n",
    "df = df['CUSTOMER_PAID'] / len(df_hh_demographic)"
   ]
  },
  {
   "cell_type": "code",
   "execution_count": null,
   "metadata": {
    "ExecuteTime": {
     "end_time": "2019-11-21T13:36:20.253607Z",
     "start_time": "2019-11-21T13:36:20.031213Z"
    },
    "colab": {
     "base_uri": "https://localhost:8080/",
     "height": 502
    },
    "colab_type": "code",
    "id": "cpiSmsLRrv3z",
    "outputId": "3941c084-59ca-49d1-82a0-01b3c15ce353"
   },
   "outputs": [
    {
     "data": {
      "image/png": "[encoded data removed]",
      "text/plain": [
       "<Figure size 720x576 with 1 Axes>"
      ]
     },
     "metadata": {
      "needs_background": "light"
     },
     "output_type": "display_data"
    }
   ],
   "source": [
    "fig, ax = plt.subplots(figsize=(10, 8))\n",
    "\n",
    "sns.barplot(x=df.index, y=df.values, ax=ax, palette='Blues')\n",
    "    \n",
    "ax.set_xlabel('Day')\n",
    "ax.set_ylabel('Total bill amount (in $)')\n",
    "    \n",
    "plt.show()"
   ]
  },
  {
   "cell_type": "markdown",
   "metadata": {},
   "source": [
    "While we cannot be certain about which day this weeks starts with, it is to be assumed that that the two days with a larger amount of transactions are either Friday and Saturday or Saturday and Sunday. If the data is from the US, it is likely that most purchases have been made on Sunday, as people tend to have more time for shopping, and the stores are usually open on Sunday. We contacted the company which provides this dataset for more information about such details, and are currently waiting for a response. "
   ]
  },
  {
   "cell_type": "markdown",
   "metadata": {
    "colab_type": "text",
    "id": "ifDmLogTrv33",
    "toc-hr-collapsed": true,
    "toc-nb-collapsed": true
   },
   "source": [
    "#### Mapping Between Expenses and Product Categories"
   ]
  },
  {
   "cell_type": "markdown",
   "metadata": {
    "colab_type": "text",
    "id": "8L21_4ySrv33"
   },
   "source": [
    "Here we are interested to find out how household expenditure depends on the goods and/or services and how does it vary with household income. For this analysis, we will load the `product.csv` dataset. It contains information about a particular product associated with a transaction."
   ]
  },
  {
   "cell_type": "code",
   "execution_count": null,
   "metadata": {
    "colab": {
     "base_uri": "https://localhost:8080/",
     "height": 286
    },
    "colab_type": "code",
    "id": "WClf-G_1rv34",
    "outputId": "e4b78968-0869-43bb-fdf1-58f22caf466b"
   },
   "outputs": [
    {
     "name": "stdout",
     "output_type": "stream",
     "text": [
      "Number of products: 92353\n"
     ]
    },
    {
     "data": {
      "text/html": [
       "<div>\n",
       "<style scoped>\n",
       "    .dataframe tbody tr th:only-of-type {\n",
       "        vertical-align: middle;\n",
       "    }\n",
       "\n",
       "    .dataframe tbody tr th {\n",
       "        vertical-align: top;\n",
       "    }\n",
       "\n",
       "    .dataframe thead th {\n",
       "        text-align: right;\n",
       "    }\n",
       "</style>\n",
       "<table border=\"1\" class=\"dataframe\">\n",
       "  <thead>\n",
       "    <tr style=\"text-align: right;\">\n",
       "      <th></th>\n",
       "      <th>MANUFACTURER</th>\n",
       "      <th>DEPARTMENT</th>\n",
       "      <th>BRAND</th>\n",
       "      <th>COMMODITY_DESC</th>\n",
       "      <th>SUB_COMMODITY_DESC</th>\n",
       "      <th>CURR_SIZE_OF_PRODUCT</th>\n",
       "    </tr>\n",
       "    <tr>\n",
       "      <th>PRODUCT_ID</th>\n",
       "      <th></th>\n",
       "      <th></th>\n",
       "      <th></th>\n",
       "      <th></th>\n",
       "      <th></th>\n",
       "      <th></th>\n",
       "    </tr>\n",
       "  </thead>\n",
       "  <tbody>\n",
       "    <tr>\n",
       "      <th>25671</th>\n",
       "      <td>2</td>\n",
       "      <td>GROCERY</td>\n",
       "      <td>National</td>\n",
       "      <td>FRZN ICE</td>\n",
       "      <td>ICE - CRUSHED/CUBED</td>\n",
       "      <td>22 LB</td>\n",
       "    </tr>\n",
       "    <tr>\n",
       "      <th>26081</th>\n",
       "      <td>2</td>\n",
       "      <td>MISC. TRANS.</td>\n",
       "      <td>National</td>\n",
       "      <td>NO COMMODITY DESCRIPTION</td>\n",
       "      <td>NO SUBCOMMODITY DESCRIPTION</td>\n",
       "      <td></td>\n",
       "    </tr>\n",
       "    <tr>\n",
       "      <th>26093</th>\n",
       "      <td>69</td>\n",
       "      <td>PASTRY</td>\n",
       "      <td>Private</td>\n",
       "      <td>BREAD</td>\n",
       "      <td>BREAD:ITALIAN/FRENCH</td>\n",
       "      <td></td>\n",
       "    </tr>\n",
       "    <tr>\n",
       "      <th>26190</th>\n",
       "      <td>69</td>\n",
       "      <td>GROCERY</td>\n",
       "      <td>Private</td>\n",
       "      <td>FRUIT - SHELF STABLE</td>\n",
       "      <td>APPLE SAUCE</td>\n",
       "      <td>50 OZ</td>\n",
       "    </tr>\n",
       "    <tr>\n",
       "      <th>26355</th>\n",
       "      <td>69</td>\n",
       "      <td>GROCERY</td>\n",
       "      <td>Private</td>\n",
       "      <td>COOKIES/CONES</td>\n",
       "      <td>SPECIALTY COOKIES</td>\n",
       "      <td>14 OZ</td>\n",
       "    </tr>\n",
       "  </tbody>\n",
       "</table>\n",
       "</div>"
      ],
      "text/plain": [
       "            MANUFACTURER    DEPARTMENT     BRAND            COMMODITY_DESC  \\\n",
       "PRODUCT_ID                                                                   \n",
       "25671                  2       GROCERY  National                  FRZN ICE   \n",
       "26081                  2  MISC. TRANS.  National  NO COMMODITY DESCRIPTION   \n",
       "26093                 69        PASTRY   Private                     BREAD   \n",
       "26190                 69       GROCERY   Private      FRUIT - SHELF STABLE   \n",
       "26355                 69       GROCERY   Private             COOKIES/CONES   \n",
       "\n",
       "                     SUB_COMMODITY_DESC CURR_SIZE_OF_PRODUCT  \n",
       "PRODUCT_ID                                                    \n",
       "25671               ICE - CRUSHED/CUBED                22 LB  \n",
       "26081       NO SUBCOMMODITY DESCRIPTION                       \n",
       "26093              BREAD:ITALIAN/FRENCH                       \n",
       "26190                       APPLE SAUCE                50 OZ  \n",
       "26355                 SPECIALTY COOKIES                14 OZ  "
      ]
     },
     "execution_count": 43,
     "metadata": {},
     "output_type": "execute_result"
    }
   ],
   "source": [
    "# Load the data from products.csv\n",
    "df_product = pd.read_csv(DATA_DIR + PRODUCT, index_col='PRODUCT_ID')\n",
    "\n",
    "print('Number of products:', len(df_product))\n",
    "\n",
    "df_product.head()"
   ]
  },
  {
   "cell_type": "code",
   "execution_count": null,
   "metadata": {
    "colab": {
     "base_uri": "https://localhost:8080/",
     "height": 34
    },
    "colab_type": "code",
    "id": "4qFR8cqLrv34",
    "outputId": "fbd78903-18a1-41c3-8a6f-164242b12c80"
   },
   "outputs": [
    {
     "name": "stdout",
     "output_type": "stream",
     "text": [
      "Columns with missing values in products dataset: False\n"
     ]
    }
   ],
   "source": [
    "print('Columns with missing values in products dataset:',\n",
    "      np.any(df_product.isna().sum()))"
   ]
  },
  {
   "cell_type": "markdown",
   "metadata": {
    "colab_type": "text",
    "id": "AEcPv3f6rv35"
   },
   "source": [
    "Although, there are no missing values, the `CURR_SIZE_OF_PRODUCT` column has empty string values. As this is not crutial for our analysis, we are not going to further address this issue. "
   ]
  },
  {
   "cell_type": "markdown",
   "metadata": {
    "colab_type": "text",
    "id": "pf2bKi2irv35"
   },
   "source": [
    "We join the household transactions dataset with the products dataset using the `PRODUCT_ID` column."
   ]
  },
  {
   "cell_type": "code",
   "execution_count": null,
   "metadata": {
    "colab": {
     "base_uri": "https://localhost:8080/",
     "height": 204
    },
    "colab_type": "code",
    "id": "pVWzMjhlrv36",
    "outputId": "2ad58a59-c078-4381-9f31-8861cc623f5c"
   },
   "outputs": [
    {
     "data": {
      "text/html": [
       "<div>\n",
       "<style scoped>\n",
       "    .dataframe tbody tr th:only-of-type {\n",
       "        vertical-align: middle;\n",
       "    }\n",
       "\n",
       "    .dataframe tbody tr th {\n",
       "        vertical-align: top;\n",
       "    }\n",
       "\n",
       "    .dataframe thead th {\n",
       "        text-align: right;\n",
       "    }\n",
       "</style>\n",
       "<table border=\"1\" class=\"dataframe\">\n",
       "  <thead>\n",
       "    <tr style=\"text-align: right;\">\n",
       "      <th></th>\n",
       "      <th>PRODUCT_ID</th>\n",
       "      <th>QUANTITY</th>\n",
       "      <th>CUSTOMER_PAID</th>\n",
       "      <th>INCOME_DESC</th>\n",
       "      <th>COMMODITY_DESC</th>\n",
       "      <th>SUB_COMMODITY_DESC</th>\n",
       "    </tr>\n",
       "  </thead>\n",
       "  <tbody>\n",
       "    <tr>\n",
       "      <th>11</th>\n",
       "      <td>842930</td>\n",
       "      <td>1</td>\n",
       "      <td>2.19</td>\n",
       "      <td>100-124K</td>\n",
       "      <td>CONVENIENT BRKFST/WHLSM SNACKS</td>\n",
       "      <td>GRANOLA BARS</td>\n",
       "    </tr>\n",
       "    <tr>\n",
       "      <th>12</th>\n",
       "      <td>897044</td>\n",
       "      <td>1</td>\n",
       "      <td>2.99</td>\n",
       "      <td>100-124K</td>\n",
       "      <td>CRACKERS/MISC BKD FD</td>\n",
       "      <td>SNACK CRACKERS</td>\n",
       "    </tr>\n",
       "    <tr>\n",
       "      <th>13</th>\n",
       "      <td>920955</td>\n",
       "      <td>1</td>\n",
       "      <td>3.09</td>\n",
       "      <td>100-124K</td>\n",
       "      <td>BEEF</td>\n",
       "      <td>GRND/PATTY - ROUND</td>\n",
       "    </tr>\n",
       "    <tr>\n",
       "      <th>14</th>\n",
       "      <td>937406</td>\n",
       "      <td>1</td>\n",
       "      <td>2.50</td>\n",
       "      <td>100-124K</td>\n",
       "      <td>BREAKFAST SAUSAGE/SANDWICHES</td>\n",
       "      <td>LINKS - RAW</td>\n",
       "    </tr>\n",
       "    <tr>\n",
       "      <th>15</th>\n",
       "      <td>981760</td>\n",
       "      <td>1</td>\n",
       "      <td>0.60</td>\n",
       "      <td>100-124K</td>\n",
       "      <td>EGGS</td>\n",
       "      <td>EGGS - X-LARGE</td>\n",
       "    </tr>\n",
       "  </tbody>\n",
       "</table>\n",
       "</div>"
      ],
      "text/plain": [
       "    PRODUCT_ID  QUANTITY  CUSTOMER_PAID INCOME_DESC  \\\n",
       "11      842930         1           2.19    100-124K   \n",
       "12      897044         1           2.99    100-124K   \n",
       "13      920955         1           3.09    100-124K   \n",
       "14      937406         1           2.50    100-124K   \n",
       "15      981760         1           0.60    100-124K   \n",
       "\n",
       "                    COMMODITY_DESC  SUB_COMMODITY_DESC  \n",
       "11  CONVENIENT BRKFST/WHLSM SNACKS        GRANOLA BARS  \n",
       "12            CRACKERS/MISC BKD FD      SNACK CRACKERS  \n",
       "13                            BEEF  GRND/PATTY - ROUND  \n",
       "14    BREAKFAST SAUSAGE/SANDWICHES         LINKS - RAW  \n",
       "15                            EGGS      EGGS - X-LARGE  "
      ]
     },
     "execution_count": 45,
     "metadata": {},
     "output_type": "execute_result"
    }
   ],
   "source": [
    "df_transactions_products = \\\n",
    "    df_households_transactions[['PRODUCT_ID', 'QUANTITY', 'CUSTOMER_PAID', 'INCOME_DESC']] \\\n",
    "    .join(df_product[['COMMODITY_DESC', 'SUB_COMMODITY_DESC']], on='PRODUCT_ID')\n",
    "\n",
    "df_transactions_products.head()"
   ]
  },
  {
   "cell_type": "markdown",
   "metadata": {
    "colab_type": "text",
    "id": "ZNPMfG4qrv36"
   },
   "source": [
    "The following dataset is just an aggregate over `INCOME_DESC` and `COMMODITY_DESC`. It is usefull for our analysis that follow."
   ]
  },
  {
   "cell_type": "code",
   "execution_count": null,
   "metadata": {
    "colab": {
     "base_uri": "https://localhost:8080/",
     "height": 235
    },
    "colab_type": "code",
    "id": "fccHPGpNrv37",
    "outputId": "93a2cbf9-1c7c-4851-a8a6-37f5ec7f14b1"
   },
   "outputs": [
    {
     "data": {
      "text/html": [
       "<div>\n",
       "<style scoped>\n",
       "    .dataframe tbody tr th:only-of-type {\n",
       "        vertical-align: middle;\n",
       "    }\n",
       "\n",
       "    .dataframe tbody tr th {\n",
       "        vertical-align: top;\n",
       "    }\n",
       "\n",
       "    .dataframe thead th {\n",
       "        text-align: right;\n",
       "    }\n",
       "</style>\n",
       "<table border=\"1\" class=\"dataframe\">\n",
       "  <thead>\n",
       "    <tr style=\"text-align: right;\">\n",
       "      <th></th>\n",
       "      <th></th>\n",
       "      <th>CUSTOMER_PAID</th>\n",
       "    </tr>\n",
       "    <tr>\n",
       "      <th>INCOME_DESC</th>\n",
       "      <th>SUB_COMMODITY_DESC</th>\n",
       "      <th></th>\n",
       "    </tr>\n",
       "  </thead>\n",
       "  <tbody>\n",
       "    <tr>\n",
       "      <th rowspan=\"5\" valign=\"top\">Under 15K</th>\n",
       "      <th>*BOYS/GIRLS MISC TOYS</th>\n",
       "      <td>9.99</td>\n",
       "    </tr>\n",
       "    <tr>\n",
       "      <th>*SCRAPBOOK</th>\n",
       "      <td>3.49</td>\n",
       "    </tr>\n",
       "    <tr>\n",
       "      <th>*SPORT NOVELTIES</th>\n",
       "      <td>2.99</td>\n",
       "    </tr>\n",
       "    <tr>\n",
       "      <th>*SPRING/SUMMER MISC</th>\n",
       "      <td>2.00</td>\n",
       "    </tr>\n",
       "    <tr>\n",
       "      <th>ABRASIVES</th>\n",
       "      <td>36.96</td>\n",
       "    </tr>\n",
       "  </tbody>\n",
       "</table>\n",
       "</div>"
      ],
      "text/plain": [
       "                                   CUSTOMER_PAID\n",
       "INCOME_DESC SUB_COMMODITY_DESC                  \n",
       "Under 15K   *BOYS/GIRLS MISC TOYS           9.99\n",
       "            *SCRAPBOOK                      3.49\n",
       "            *SPORT NOVELTIES                2.99\n",
       "            *SPRING/SUMMER MISC             2.00\n",
       "            ABRASIVES                      36.96"
      ]
     },
     "execution_count": 46,
     "metadata": {},
     "output_type": "execute_result"
    }
   ],
   "source": [
    "df = df_transactions_products \\\n",
    "    .groupby(['INCOME_DESC', 'SUB_COMMODITY_DESC'], observed=True)['CUSTOMER_PAID'] \\\n",
    "    .sum() \\\n",
    "    .dropna() \\\n",
    "    .to_frame()\n",
    "\n",
    "df.head()"
   ]
  },
  {
   "cell_type": "markdown",
   "metadata": {
    "colab_type": "text",
    "id": "-d5oq74Rrv37",
    "toc-hr-collapsed": true,
    "toc-nb-collapsed": true
   },
   "source": [
    "#### Most Purchased Product"
   ]
  },
  {
   "cell_type": "markdown",
   "metadata": {
    "colab_type": "text",
    "id": "T7-TFse4rv38"
   },
   "source": [
    "We are interested to see on which product does the households spend most of their money on. This is also dependent on the income category."
   ]
  },
  {
   "cell_type": "code",
   "execution_count": null,
   "metadata": {
    "colab": {
     "base_uri": "https://localhost:8080/",
     "height": 255
    },
    "colab_type": "code",
    "id": "UKgUsrbzrv38",
    "outputId": "a9215758-b15c-4a8d-d4fe-e629d3524405"
   },
   "outputs": [
    {
     "data": {
      "text/plain": [
       "INCOME_DESC\n",
       "Under 15K    (CUSTOMER_PAID, GASOLINE-REG UNLEADED)\n",
       "15-24K       (CUSTOMER_PAID, GASOLINE-REG UNLEADED)\n",
       "25-34K       (CUSTOMER_PAID, GASOLINE-REG UNLEADED)\n",
       "35-49K       (CUSTOMER_PAID, GASOLINE-REG UNLEADED)\n",
       "50-74K       (CUSTOMER_PAID, GASOLINE-REG UNLEADED)\n",
       "75-99K       (CUSTOMER_PAID, GASOLINE-REG UNLEADED)\n",
       "100-124K     (CUSTOMER_PAID, GASOLINE-REG UNLEADED)\n",
       "125-149K     (CUSTOMER_PAID, GASOLINE-REG UNLEADED)\n",
       "150-174K     (CUSTOMER_PAID, GASOLINE-REG UNLEADED)\n",
       "175-199K     (CUSTOMER_PAID, GASOLINE-REG UNLEADED)\n",
       "200-249K     (CUSTOMER_PAID, GASOLINE-REG UNLEADED)\n",
       "250K+        (CUSTOMER_PAID, GASOLINE-REG UNLEADED)\n",
       "dtype: object"
      ]
     },
     "execution_count": 47,
     "metadata": {},
     "output_type": "execute_result"
    }
   ],
   "source": [
    "# Calculate most purchased product as argmax of total customer payments for each income category\n",
    "df.unstack().idxmax(axis=1)"
   ]
  },
  {
   "cell_type": "markdown",
   "metadata": {
    "colab_type": "text",
    "id": "spzZgIYGrv39"
   },
   "source": [
    "It looks like they spend most of their anual income on gasoline, which is expected taking into account the demographics data of the households. But lets see the distribution."
   ]
  },
  {
   "cell_type": "code",
   "execution_count": null,
   "metadata": {
    "colab": {
     "base_uri": "https://localhost:8080/",
     "height": 68
    },
    "colab_type": "code",
    "id": "M_I0tbA1rv39",
    "outputId": "52fb744a-77cc-4718-dfff-c9881a33d85b"
   },
   "outputs": [
    {
     "data": {
      "text/plain": [
       "array([ 143.42822917,  123.37703488,  293.16083333,  892.79519481,\n",
       "       1392.28081081,  842.9404918 ,  670.58394737,  924.67705882,\n",
       "        842.97866667,  738.80818182,   50.73272727,  845.314     ])"
      ]
     },
     "execution_count": 48,
     "metadata": {},
     "output_type": "execute_result"
    }
   ],
   "source": [
    "# Calculate the total money spent od unleaded gasoline for each income category\n",
    "# and normalize with the number of households in each category\n",
    "stats = df.unstack()['CUSTOMER_PAID']['GASOLINE-REG UNLEADED'] \\\n",
    "    .div(df_hh_demographic['INCOME_DESC'].value_counts().values) \\\n",
    "    .values\n",
    "\n",
    "stats"
   ]
  },
  {
   "cell_type": "code",
   "execution_count": null,
   "metadata": {
    "colab": {
     "base_uri": "https://localhost:8080/",
     "height": 525
    },
    "colab_type": "code",
    "id": "TLY8q63Brv3-",
    "outputId": "ee8ede97-ddc1-4974-9e8f-a84332509e77"
   },
   "outputs": [
    {
     "data": {
      "image/png": "[encoded data removed]",
      "text/plain": [
       "<Figure size 720x576 with 1 Axes>"
      ]
     },
     "metadata": {
      "needs_background": "light"
     },
     "output_type": "display_data"
    }
   ],
   "source": [
    "# Construct data into the form needed for polar coordinate plotting\n",
    "# Discrete angle values represent income categories, radius represents normalized gasoline purchases\n",
    "angles = np.linspace(0, 2 * np.pi, len(income_desc_categories), endpoint=False)\n",
    "stats = np.concatenate((stats, [stats[0]]))\n",
    "angles = np.concatenate((angles, [angles[0]]))\n",
    "\n",
    "fig, ax = plt.subplots(figsize=(10, 8), subplot_kw=dict(polar=True))\n",
    "\n",
    "ax.plot(angles, stats, 'o-', linewidth=2)\n",
    "ax.fill(angles, stats, alpha=0.25)\n",
    "ax.set_thetagrids(angles * 180/np.pi, income_desc_categories)\n",
    "ax.set_title('Most purchased product category per income')\n",
    "ax.grid(True)\n",
    "\n",
    "plt.show()"
   ]
  },
  {
   "cell_type": "markdown",
   "metadata": {
    "colab_type": "text",
    "id": "Uv0rTMq4rv3_"
   },
   "source": [
    "The distribution is highly concentrated around the middle to upper middle income categories. The reason is that households with lower income can't afford owning a vehicle, however the reason for the upper income is somewhat unclear. It could be that they use other means of transportation required by their job.\n",
    "\n",
    "Setting gasoline aside, we are also interest in how the expenses are distributed in the other product categories."
   ]
  },
  {
   "cell_type": "code",
   "execution_count": null,
   "metadata": {
    "colab": {
     "base_uri": "https://localhost:8080/",
     "height": 235
    },
    "colab_type": "code",
    "id": "SGIqR2Iurv3_",
    "outputId": "42a85db5-7396-4e8b-83bb-23c0e2a7041a"
   },
   "outputs": [
    {
     "data": {
      "text/html": [
       "<div>\n",
       "<style scoped>\n",
       "    .dataframe tbody tr th:only-of-type {\n",
       "        vertical-align: middle;\n",
       "    }\n",
       "\n",
       "    .dataframe tbody tr th {\n",
       "        vertical-align: top;\n",
       "    }\n",
       "\n",
       "    .dataframe thead th {\n",
       "        text-align: right;\n",
       "    }\n",
       "</style>\n",
       "<table border=\"1\" class=\"dataframe\">\n",
       "  <thead>\n",
       "    <tr style=\"text-align: right;\">\n",
       "      <th></th>\n",
       "      <th></th>\n",
       "      <th>CUSTOMER_PAID</th>\n",
       "    </tr>\n",
       "    <tr>\n",
       "      <th>INCOME_DESC</th>\n",
       "      <th>SUB_COMMODITY_DESC</th>\n",
       "      <th></th>\n",
       "    </tr>\n",
       "  </thead>\n",
       "  <tbody>\n",
       "    <tr>\n",
       "      <th rowspan=\"5\" valign=\"top\">Under 15K</th>\n",
       "      <th>*BOYS/GIRLS MISC TOYS</th>\n",
       "      <td>9.99</td>\n",
       "    </tr>\n",
       "    <tr>\n",
       "      <th>*SCRAPBOOK</th>\n",
       "      <td>3.49</td>\n",
       "    </tr>\n",
       "    <tr>\n",
       "      <th>*SPORT NOVELTIES</th>\n",
       "      <td>2.99</td>\n",
       "    </tr>\n",
       "    <tr>\n",
       "      <th>*SPRING/SUMMER MISC</th>\n",
       "      <td>2.00</td>\n",
       "    </tr>\n",
       "    <tr>\n",
       "      <th>ABRASIVES</th>\n",
       "      <td>36.96</td>\n",
       "    </tr>\n",
       "  </tbody>\n",
       "</table>\n",
       "</div>"
      ],
      "text/plain": [
       "                                   CUSTOMER_PAID\n",
       "INCOME_DESC SUB_COMMODITY_DESC                  \n",
       "Under 15K   *BOYS/GIRLS MISC TOYS           9.99\n",
       "            *SCRAPBOOK                      3.49\n",
       "            *SPORT NOVELTIES                2.99\n",
       "            *SPRING/SUMMER MISC             2.00\n",
       "            ABRASIVES                      36.96"
      ]
     },
     "execution_count": 50,
     "metadata": {},
     "output_type": "execute_result"
    }
   ],
   "source": [
    "# Temporarily remove all purchase data about this gasoline category\n",
    "dff = df[df.index.get_level_values('SUB_COMMODITY_DESC') != 'GASOLINE-REG UNLEADED']\n",
    "\n",
    "dff.head()"
   ]
  },
  {
   "cell_type": "markdown",
   "metadata": {
    "colab_type": "text",
    "id": "oaXJ6Ok1rv4A"
   },
   "source": [
    "For this, we will use a sankey plot because it is an excelent way to visualise flow of information between two subsets. From it, we will have a clear idea about how the expenses from income groups map to product categories."
   ]
  },
  {
   "cell_type": "markdown",
   "metadata": {
    "colab_type": "text",
    "id": "95AuoeIBrv4A"
   },
   "source": [
    "We will use top 200 products ordered by `QUANTITY` plot the flow diagram between the income and the product category. We can easily visualise how the quantity of the purchased products is distributed and later search for patterns in the expenditure."
   ]
  },
  {
   "cell_type": "code",
   "execution_count": null,
   "metadata": {
    "colab": {
     "base_uri": "https://localhost:8080/",
     "height": 419
    },
    "colab_type": "code",
    "id": "NjCnx7GDrv4B",
    "outputId": "c5921656-7b49-4405-9966-e838da6659d8"
   },
   "outputs": [
    {
     "data": {
      "text/html": [
       "<div>\n",
       "<style scoped>\n",
       "    .dataframe tbody tr th:only-of-type {\n",
       "        vertical-align: middle;\n",
       "    }\n",
       "\n",
       "    .dataframe tbody tr th {\n",
       "        vertical-align: top;\n",
       "    }\n",
       "\n",
       "    .dataframe thead th {\n",
       "        text-align: right;\n",
       "    }\n",
       "</style>\n",
       "<table border=\"1\" class=\"dataframe\">\n",
       "  <thead>\n",
       "    <tr style=\"text-align: right;\">\n",
       "      <th></th>\n",
       "      <th>INCOME_DESC</th>\n",
       "      <th>SUB_COMMODITY_DESC</th>\n",
       "      <th>CUSTOMER_PAID</th>\n",
       "    </tr>\n",
       "  </thead>\n",
       "  <tbody>\n",
       "    <tr>\n",
       "      <th>1466</th>\n",
       "      <td>Under 15K</td>\n",
       "      <td>SOFT DRINKS 12/18&amp;15PK CAN CAR</td>\n",
       "      <td>8161.77</td>\n",
       "    </tr>\n",
       "    <tr>\n",
       "      <th>562</th>\n",
       "      <td>Under 15K</td>\n",
       "      <td>FLUID MILK WHITE ONLY</td>\n",
       "      <td>5937.73</td>\n",
       "    </tr>\n",
       "    <tr>\n",
       "      <th>327</th>\n",
       "      <td>Under 15K</td>\n",
       "      <td>CIGARETTES</td>\n",
       "      <td>4630.39</td>\n",
       "    </tr>\n",
       "    <tr>\n",
       "      <th>319</th>\n",
       "      <td>Under 15K</td>\n",
       "      <td>CHOICE BEEF</td>\n",
       "      <td>4218.34</td>\n",
       "    </tr>\n",
       "    <tr>\n",
       "      <th>142</th>\n",
       "      <td>Under 15K</td>\n",
       "      <td>BEERALEMALT LIQUORS</td>\n",
       "      <td>3793.83</td>\n",
       "    </tr>\n",
       "    <tr>\n",
       "      <th>...</th>\n",
       "      <td>...</td>\n",
       "      <td>...</td>\n",
       "      <td>...</td>\n",
       "    </tr>\n",
       "    <tr>\n",
       "      <th>18109</th>\n",
       "      <td>250K+</td>\n",
       "      <td>ALL FAMILY CEREAL</td>\n",
       "      <td>975.26</td>\n",
       "    </tr>\n",
       "    <tr>\n",
       "      <th>18598</th>\n",
       "      <td>250K+</td>\n",
       "      <td>FRZN BAGGED VEGETABLES - PLAIN</td>\n",
       "      <td>960.68</td>\n",
       "    </tr>\n",
       "    <tr>\n",
       "      <th>18737</th>\n",
       "      <td>250K+</td>\n",
       "      <td>ISOTONIC DRINKS MULTI-SERVE</td>\n",
       "      <td>926.58</td>\n",
       "    </tr>\n",
       "    <tr>\n",
       "      <th>19385</th>\n",
       "      <td>250K+</td>\n",
       "      <td>TOILET TISSUE</td>\n",
       "      <td>865.56</td>\n",
       "    </tr>\n",
       "    <tr>\n",
       "      <th>18532</th>\n",
       "      <td>250K+</td>\n",
       "      <td>FIGHTING VARIETAL WINES</td>\n",
       "      <td>850.82</td>\n",
       "    </tr>\n",
       "  </tbody>\n",
       "</table>\n",
       "<p>180 rows × 3 columns</p>\n",
       "</div>"
      ],
      "text/plain": [
       "      INCOME_DESC              SUB_COMMODITY_DESC  CUSTOMER_PAID\n",
       "1466    Under 15K  SOFT DRINKS 12/18&15PK CAN CAR        8161.77\n",
       "562     Under 15K           FLUID MILK WHITE ONLY        5937.73\n",
       "327     Under 15K                      CIGARETTES        4630.39\n",
       "319     Under 15K                     CHOICE BEEF        4218.34\n",
       "142     Under 15K             BEERALEMALT LIQUORS        3793.83\n",
       "...           ...                             ...            ...\n",
       "18109       250K+               ALL FAMILY CEREAL         975.26\n",
       "18598       250K+  FRZN BAGGED VEGETABLES - PLAIN         960.68\n",
       "18737       250K+     ISOTONIC DRINKS MULTI-SERVE         926.58\n",
       "19385       250K+                   TOILET TISSUE         865.56\n",
       "18532       250K+         FIGHTING VARIETAL WINES         850.82\n",
       "\n",
       "[180 rows x 3 columns]"
      ]
     },
     "execution_count": 51,
     "metadata": {},
     "output_type": "execute_result"
    }
   ],
   "source": [
    "# For each income category find the top 15 purchased product categories based on customer spending\n",
    "dff = dff \\\n",
    "    .reset_index() \\\n",
    "    .groupby(['INCOME_DESC'], observed=True)['SUB_COMMODITY_DESC', 'CUSTOMER_PAID'] \\\n",
    "    .apply(lambda df: df.sort_values(by='CUSTOMER_PAID', ascending=False).head(15)) \\\n",
    "    .reset_index(level=0)\n",
    "\n",
    "dff"
   ]
  },
  {
   "cell_type": "code",
   "execution_count": null,
   "metadata": {
    "colab": {},
    "colab_type": "code",
    "id": "uikUDZPSrv4C"
   },
   "outputs": [],
   "source": [
    "# Aggregate customer payment data first on income categories and then with product categories\n",
    "# Construct data into form required for the Sankey plot\n",
    "data = []\n",
    "\n",
    "palette = sns.color_palette('cubehelix', len(dff) + dff['INCOME_DESC'].nunique())\n",
    "colours = palette.as_hex()\n",
    "\n",
    "level1 = dff[['INCOME_DESC', 'CUSTOMER_PAID']] \\\n",
    "    .groupby('INCOME_DESC', observed=True) \\\n",
    "    .agg('sum')\n",
    "\n",
    "c_count = 0\n",
    "\n",
    "for i, r in level1.reset_index().iterrows():\n",
    "    data.append({\n",
    "        'source': 'Expenditure',\n",
    "        'target': r['INCOME_DESC'],\n",
    "        'value': r['CUSTOMER_PAID'],\n",
    "        'color': colours[c_count]\n",
    "    })\n",
    "    \n",
    "    item_dff = dff[dff['INCOME_DESC'] == r['INCOME_DESC']] \\\n",
    "        [['INCOME_DESC', 'SUB_COMMODITY_DESC', 'CUSTOMER_PAID']] \\\n",
    "        .groupby(['INCOME_DESC', 'SUB_COMMODITY_DESC'], observed=True) \\\n",
    "        .agg('sum') \\\n",
    "        .reset_index()\n",
    "    \n",
    "    for item_i, item_r in item_dff.iterrows():\n",
    "        \n",
    "        c_count += 1\n",
    "\n",
    "        data.append({\n",
    "            'source': item_r['INCOME_DESC'],\n",
    "            'target': item_r['SUB_COMMODITY_DESC'],\n",
    "            'value': item_r['CUSTOMER_PAID'],\n",
    "            'color': colours[c_count]\n",
    "        })"
   ]
  },
  {
   "cell_type": "code",
   "execution_count": null,
   "metadata": {
    "colab": {},
    "colab_type": "code",
    "id": "8iGuWzJprv4D"
   },
   "outputs": [],
   "source": [
    "# Load the sankey plot instead!\n",
    "#\n",
    "# w = SankeyWidget(layout=Layout(width='1600', height='3000'),\n",
    "#                  links=data,\n",
    "#                  margins=dict(top=0, bottom=0, left=100, right=150))\n",
    "#\n",
    "# w.save_png('sankey.png')\n",
    "#\n",
    "# w"
   ]
  },
  {
   "cell_type": "markdown",
   "metadata": {
    "colab_type": "text",
    "id": "sMbQ_mzyrv4F"
   },
   "source": [
    "<img src=\"sankey.png\" />"
   ]
  },
  {
   "cell_type": "markdown",
   "metadata": {
    "colab_type": "text",
    "id": "F-e8aX04rv4G"
   },
   "source": [
    "In order to analyse this sankey diagram further, we call on a principle from microeconomics, called **Engel curves**."
   ]
  },
  {
   "cell_type": "markdown",
   "metadata": {
    "colab_type": "text",
    "id": "7tr1DUljrv4G",
    "toc-hr-collapsed": true,
    "toc-nb-collapsed": true
   },
   "source": [
    "#### Engel curves"
   ]
  },
  {
   "cell_type": "markdown",
   "metadata": {
    "colab_type": "text",
    "id": "ZxdklJsWrv4H"
   },
   "source": [
    "One particular way of determining how household expenditure, on a particular good or service, varies with household income is visualising Engel curves. Engel curves on the x-axis have the income category and on the y-axis the quantity of the measured product. We can infer some type of goods using these curves."
   ]
  },
  {
   "cell_type": "code",
   "execution_count": null,
   "metadata": {
    "colab": {
     "base_uri": "https://localhost:8080/",
     "height": 255
    },
    "colab_type": "code",
    "id": "TbwgTbNgrv4H",
    "outputId": "352432b9-fa8b-4f1f-8ec0-119a091a28a7"
   },
   "outputs": [],
   "source": [
    "# Calculate total quantity of each product category purchased, for each income category \n",
    "df = df_transactions_products \\\n",
    "    .groupby(['INCOME_DESC', 'COMMODITY_DESC'], observed=True)['QUANTITY'] \\\n",
    "    .sum() \\\n",
    "    .dropna() \\\n",
    "    .reset_index(level=1)"
   ]
  },
  {
   "cell_type": "markdown",
   "metadata": {},
   "source": [
    "For a start, here are the 10 most purchased items:"
   ]
  },
  {
   "cell_type": "code",
   "execution_count": null,
   "metadata": {},
   "outputs": [],
   "source": [
    "df.groupby('COMMODITY_DESC')['COMMODITY_DESC','QUANTITY'].sum().sort_values('QUANTITY',ascending=False).head(10)"
   ]
  },
  {
   "cell_type": "code",
   "execution_count": null,
   "metadata": {
    "colab": {
     "base_uri": "https://localhost:8080/",
     "height": 806
    },
    "colab_type": "code",
    "id": "gWoI_Jidrv4I",
    "outputId": "c36c6be5-a7bf-4353-8ac0-a598e1fa3f50"
   },
   "outputs": [],
   "source": [
    "fig, axes = plt.subplots(2, 2, figsize=(20, 10))\n",
    "\n",
    "fig.tight_layout(h_pad=8, w_pad=4)\n",
    "\n",
    "x = np.arange(len(income_desc_categories))\n",
    "\n",
    "def plot_scatter(commodity_desc, label, ax):\n",
    "    '''\n",
    "    Function to plot a Engel curve for a product category\n",
    "    \n",
    "    commodity_desc - Product category from the dataset\n",
    "    label - Cleaner name for the product category used when plotting\n",
    "    ax - Matplotlib axes object, to set subplot location\n",
    "    '''\n",
    "    \n",
    "    # Calculate the distribution of the average purchased quantity of the product category\n",
    "    y = df.query(f'COMMODITY_DESC == \"{commodity_desc}\"')['QUANTITY'] \\\n",
    "        .div(df_hh_demographic['INCOME_DESC'].value_counts().values)\n",
    "    \n",
    "    # Remove the first and last income category because\n",
    "    # they contain all the outliers\n",
    "    new_x = x[1:-1]\n",
    "    new_y = y[1:-1]\n",
    "    \n",
    "    sns.lineplot(x=new_x, y=new_y, palette='Blues', ax=ax, label=label)\n",
    "    ax.set_xticks(new_x)\n",
    "    ax.set_xticklabels(income_desc_categories[1:-1], rotation='vertical')\n",
    "    ax.set_xlabel('Annual income (in $)')\n",
    "    ax.set_ylabel('Quantity')\n",
    "\n",
    "plot_scatter('MARGARINES', 'Margarine', axes[0, 0])\n",
    "plot_scatter('FROZEN', 'Frozen products', axes[0, 1])\n",
    "plot_scatter('PREPARED FOOD', 'Prepared food', axes[1, 0])\n",
    "plot_scatter('PNT BTR/JELLY/JAMS', 'Peanut butter and jelly', axes[1, 1])\n",
    "\n",
    "plt.legend()\n",
    "plt.show()"
   ]
  },
  {
   "cell_type": "markdown",
   "metadata": {
    "colab_type": "text",
    "id": "-L4uxmZGrv4J"
   },
   "source": [
    "Here we showcase an example of inferior goods. Margaring is an inferior good since its demand drops when people's incomes rise. This occurs when a good has more costly substitutes (butter) that see an increase in demand as incomes and the economy improve. There are other examples in our dataset (ex. frozen food, prepared food, peanut butter and jelly).\n",
    "\n",
    "When looking at the above plots, one might be surprised that for all four products, households with low incomes, and households with extremely high income tend to purchase fewer of them. For households with low income, this is no surprise. But what about high-income households? It is likely that individuals of high incomes often dine out, as this saves time. That way, they don't have to purchase large quanitites of any products in supermarkets. "
   ]
  },
  {
   "cell_type": "markdown",
   "metadata": {
    "colab_type": "text",
    "id": "wpJwsSonrv4K",
    "toc-hr-collapsed": true,
    "toc-nb-collapsed": true
   },
   "source": [
    "### Demographic Analysis of Household Groups"
   ]
  },
  {
   "cell_type": "markdown",
   "metadata": {
    "colab_type": "text",
    "id": "zqA12IAErv4K"
   },
   "source": [
    "In order to understand how family values influence the balance between household's expenses and income, we will analyze the demographic properties across 4 groups of households."
   ]
  },
  {
   "cell_type": "code",
   "execution_count": null,
   "metadata": {
    "colab": {},
    "colab_type": "code",
    "id": "s0DZqSX8rv4K"
   },
   "outputs": [],
   "source": [
    "# Median values for income and expenses\n",
    "# We will use the average bill amount statistic to represent expenses\n",
    "AVG_INCOME = '50-74K'\n",
    "AVG_EXPENSES = 32.2431"
   ]
  },
  {
   "cell_type": "code",
   "execution_count": null,
   "metadata": {
    "ExecuteTime": {
     "end_time": "2019-11-17T13:48:57.460831Z",
     "start_time": "2019-11-17T13:48:57.446867Z"
    },
    "colab": {},
    "colab_type": "code",
    "id": "QBDwTHcNrv4L"
   },
   "outputs": [],
   "source": [
    "# Split the household demographic dataset into 4 subsets based on income and expenses\n",
    "df = df_hh_demographic.join(df_households_basket_payment_average.to_frame().rename(columns={'CUSTOMER_PAID': 'EXPENSES'}))\n",
    "\n",
    "df_low_income_low_expenses = df[(df['INCOME_DESC'] <= AVG_INCOME) & (df['EXPENSES'] <= AVG_EXPENSES)]\n",
    "df_low_income_high_expenses = df[(df['INCOME_DESC'] <= AVG_INCOME) & (df['EXPENSES'] > AVG_EXPENSES)]\n",
    "df_high_income_low_expenses = df[(df['INCOME_DESC'] > AVG_INCOME) & (df['EXPENSES'] <= AVG_EXPENSES)]\n",
    "df_high_income_high_expenses = df[(df['INCOME_DESC'] > AVG_INCOME) & (df['EXPENSES'] > AVG_EXPENSES)]"
   ]
  },
  {
   "cell_type": "code",
   "execution_count": null,
   "metadata": {
    "colab": {},
    "colab_type": "code",
    "id": "VFi9Tll0rv4L",
    "outputId": "7aee61db-0c5f-415b-a338-cb50ce4aa58c"
   },
   "outputs": [],
   "source": [
    "print('Percent of households with low income and low expenses:', round(len(df_low_income_low_expenses) / len(df_hh_demographic), 4))\n",
    "print('Percent of households with low income and high expenses:', round(len(df_low_income_high_expenses) / len(df_hh_demographic), 4))\n",
    "print('Percent of households with high income and low expenses:', round(len(df_high_income_low_expenses) / len(df_hh_demographic), 4))\n",
    "print('Percent of households with high income and high expenses:', round(len(df_high_income_high_expenses) / len(df_hh_demographic), 4))"
   ]
  },
  {
   "cell_type": "markdown",
   "metadata": {
    "colab_type": "text",
    "id": "oNvaiLAQrv4M"
   },
   "source": [
    "These groups were generated using the average income and average expenses. We split the households into: below (or above) average income and below (or above) average expenses."
   ]
  },
  {
   "cell_type": "code",
   "execution_count": null,
   "metadata": {
    "ExecuteTime": {
     "end_time": "2019-11-17T13:49:00.849742Z",
     "start_time": "2019-11-17T13:49:00.842778Z"
    },
    "colab": {},
    "colab_type": "code",
    "id": "MOlbp1Vvrv4M"
   },
   "outputs": [],
   "source": [
    "def plot_demographic(column_name, demographic_categories, demographic_feature_name):\n",
    "    '''\n",
    "    Function to plot the distribution of a demographic feature across the 4 household groups\n",
    "    \n",
    "    column_name - Name of the demographic feature in the dataset\n",
    "    demographic_categories - Unique, ordered values of the demographic feature\n",
    "    demographic_feature_name - Cleaner name for the demographic feature used when plotting\n",
    "    '''\n",
    "    \n",
    "    # Calculate normalized household numbers across each income/expenses and demographic category\n",
    "    df = pd.concat([\n",
    "        df_low_income_low_expenses[column_name].value_counts().rename('Low/ Low') / len(df_low_income_low_expenses),\n",
    "        df_low_income_high_expenses[column_name].value_counts().rename('Low/ High') / len(df_low_income_high_expenses),\n",
    "        df_high_income_low_expenses[column_name].value_counts().rename('High/ Low') / len(df_high_income_low_expenses),\n",
    "        df_high_income_high_expenses[column_name].value_counts().rename('High/ High') / len(df_high_income_high_expenses)\n",
    "    ], axis=1, sort=False)\n",
    "    df.index = demographic_categories\n",
    "    df = df.unstack().reset_index()\n",
    "    df.columns = ['Income vs. Expenses', demographic_feature_name, 'Percentage of households']\n",
    "    \n",
    "    fig, ax = plt.subplots(figsize=(10, 8))\n",
    "    \n",
    "    sns.barplot(x=demographic_feature_name, y='Percentage of households', hue='Income vs. Expenses', data=df)\n",
    "    ax.set_title(f'Demographic analysis of household groups - {demographic_feature_name}')\n",
    "    \n",
    "    plt.show()"
   ]
  },
  {
   "cell_type": "markdown",
   "metadata": {
    "colab_type": "text",
    "id": "9c9UvoB5rv4N"
   },
   "source": [
    "#### Age"
   ]
  },
  {
   "cell_type": "code",
   "execution_count": null,
   "metadata": {
    "ExecuteTime": {
     "end_time": "2019-11-17T13:49:01.956090Z",
     "start_time": "2019-11-17T13:49:01.744621Z"
    },
    "colab": {},
    "colab_type": "code",
    "id": "e-WtvXYErv4N",
    "outputId": "5c471432-e420-4245-f932-546d25ec55ca"
   },
   "outputs": [],
   "source": [
    "column_name = 'AGE_DESC'\n",
    "demographic_categories = ['19-24', '25-34', '35-44', '45-54', '55-64', '65+']\n",
    "demographic_feature_name = 'Age'\n",
    "\n",
    "plot_demographic(column_name, demographic_categories, demographic_feature_name)"
   ]
  },
  {
   "cell_type": "markdown",
   "metadata": {
    "colab_type": "text",
    "id": "AgTAZ1ygrv4O"
   },
   "source": [
    "From the age distribution of the household groups, we can make a few interesting observations. Among the households with the youngest members there is not a lot of variety in the income-expenses balance. Among the households with members of younger working ages high expenses seem to dominate. As we move to the households with older members lower expenses are more prevalent."
   ]
  },
  {
   "cell_type": "markdown",
   "metadata": {
    "colab_type": "text",
    "id": "SCkgCu_irv4P"
   },
   "source": [
    "#### Marital Status"
   ]
  },
  {
   "cell_type": "code",
   "execution_count": null,
   "metadata": {
    "ExecuteTime": {
     "end_time": "2019-11-17T13:56:52.186538Z",
     "start_time": "2019-11-17T13:56:52.009011Z"
    },
    "colab": {},
    "colab_type": "code",
    "id": "EPD0Hrudrv4P",
    "outputId": "22dd78a8-a944-44db-d79e-2c8d6da9bc0e"
   },
   "outputs": [],
   "source": [
    "column_name = 'MARITAL_STATUS_CODE'\n",
    "demographic_categories = ['A', 'B', 'U']\n",
    "demographic_feature_name = 'Marital Status'\n",
    "\n",
    "plot_demographic(column_name, demographic_categories, demographic_feature_name)"
   ]
  },
  {
   "cell_type": "markdown",
   "metadata": {
    "colab_type": "text",
    "id": "MxO1U-Gxrv4Q"
   },
   "source": [
    "For clarification, according to the dataset documentation the marital status codes `A`, `B`, and `U` stand for `Married`, `Single` and `Unknown` respectively. Interestingly, this plot efficiently captures classical differences between married and single life, as we observe that **households with married members have more often lower income and must balance with lower expenses**, while it is completely opposite for **single member households, as they more frequently have higher income and are able to indulge in higher expenses**.  "
   ]
  },
  {
   "cell_type": "markdown",
   "metadata": {
    "colab_type": "text",
    "id": "X0oVumWCrv4Q"
   },
   "source": [
    "#### Homeowner Type"
   ]
  },
  {
   "cell_type": "code",
   "execution_count": null,
   "metadata": {
    "ExecuteTime": {
     "end_time": "2019-11-16T18:29:24.525599Z",
     "start_time": "2019-11-16T18:29:24.332118Z"
    },
    "colab": {},
    "colab_type": "code",
    "id": "6wuEieCprv4Q",
    "outputId": "5470cbe0-9e82-4b51-da1f-cdcef9b7f069"
   },
   "outputs": [],
   "source": [
    "column_name = 'HOMEOWNER_DESC'\n",
    "demographic_categories = ['Homeowner', 'Probable Owner', 'Renter', 'Probable Renter', 'Unknown']\n",
    "demographic_feature_name = 'Homeowner Type'\n",
    "\n",
    "plot_demographic(column_name, demographic_categories, demographic_feature_name)"
   ]
  },
  {
   "cell_type": "markdown",
   "metadata": {
    "colab_type": "text",
    "id": "Ixdds-mZrv4R"
   },
   "source": [
    "Analyzing the distribution of the type of homeownership we again obtain expected results, as it is understandable that it is most probable for households who are able to afford their own place of residence to have higher income and expenses, while renters usually have better sense of utilizing their limited income. "
   ]
  },
  {
   "cell_type": "markdown",
   "metadata": {
    "colab_type": "text",
    "id": "cyNuKn9Urv4S"
   },
   "source": [
    "#### Household Composition"
   ]
  },
  {
   "cell_type": "code",
   "execution_count": null,
   "metadata": {
    "ExecuteTime": {
     "end_time": "2019-11-16T18:29:34.986361Z",
     "start_time": "2019-11-16T18:29:34.769898Z"
    },
    "colab": {},
    "colab_type": "code",
    "id": "YzXKZSkPrv4S",
    "outputId": "413b0930-b52a-4751-b7a6-96f275260fb7"
   },
   "outputs": [],
   "source": [
    "column_name = 'HH_COMP_DESC'\n",
    "demographic_categories = ['2 Adults Kids', '1 Adult Kids', '2 Adults No Kids', 'Single Female', 'Single Male', 'Unknown']\n",
    "demographic_feature_name = 'Household Composition'\n",
    "\n",
    "plot_demographic(column_name, demographic_categories, demographic_feature_name)"
   ]
  },
  {
   "cell_type": "markdown",
   "metadata": {
    "colab_type": "text",
    "id": "Fa6lv1YNrv4T"
   },
   "source": [
    "Among the different household compositions recorded in the data, we do not observe a lot of variety and this feature is not a good discriminator. However, we do observe two interesting discrepancies which can also be expected: couples with no children have the highest chance to be in the group with the highest income and expenses, while single parents tend to have a \"harder time\"."
   ]
  },
  {
   "cell_type": "markdown",
   "metadata": {
    "colab_type": "text",
    "id": "zHxXbY98rv4T"
   },
   "source": [
    "#### Household Size"
   ]
  },
  {
   "cell_type": "code",
   "execution_count": null,
   "metadata": {
    "ExecuteTime": {
     "end_time": "2019-11-16T18:29:40.018722Z",
     "start_time": "2019-11-16T18:29:39.833186Z"
    },
    "colab": {},
    "colab_type": "code",
    "id": "PkhEkRCFrv4T",
    "outputId": "4d63a02d-5c2d-42ee-d68e-cb9f24ac1027"
   },
   "outputs": [],
   "source": [
    "column_name = 'HOUSEHOLD_SIZE_DESC'\n",
    "demographic_categories = ['1', '2', '3', '4', '5+']\n",
    "demographic_feature_name = 'Household Size'\n",
    "\n",
    "plot_demographic(column_name, demographic_categories, demographic_feature_name)"
   ]
  },
  {
   "cell_type": "markdown",
   "metadata": {
    "colab_type": "text",
    "id": "qMZ6sKL3rv4U"
   },
   "source": [
    "The household size feature also displays very little significance for group distinction across different values. However, we can observe a trend that as the household size increases the probability of having lower income and expenses decreases, as only households with higher income can afford to have more children, but with that their expenses also increase."
   ]
  },
  {
   "cell_type": "markdown",
   "metadata": {
    "colab_type": "text",
    "id": "8Aeqdhunrv4U"
   },
   "source": [
    "#### Number of Children"
   ]
  },
  {
   "cell_type": "code",
   "execution_count": null,
   "metadata": {
    "ExecuteTime": {
     "end_time": "2019-11-16T18:29:45.462113Z",
     "start_time": "2019-11-16T18:29:45.272590Z"
    },
    "colab": {},
    "colab_type": "code",
    "id": "Jlhapd9hrv4U",
    "outputId": "20e11d41-5756-48ee-828c-71483e69e6af"
   },
   "outputs": [],
   "source": [
    "column_name = 'KID_CATEGORY_DESC'\n",
    "demographic_categories = ['None/Unknown', '1', '2', '3+']\n",
    "demographic_feature_name = 'Number of Children'\n",
    "\n",
    "plot_demographic(column_name, demographic_categories, demographic_feature_name)"
   ]
  },
  {
   "cell_type": "markdown",
   "metadata": {
    "colab_type": "text",
    "id": "YKthCefXrv4V"
   },
   "source": [
    "The demographic records for the number of children can be inferred from previous features such as household size and household composition and as such in the plot we observe a similar trend as in the previous analysis of household size."
   ]
  },
  {
   "cell_type": "markdown",
   "metadata": {
    "colab_type": "text",
    "id": "8DvlW6Q9rv4V"
   },
   "source": [
    "## Part 4: Applied ML"
   ]
  },
  {
   "cell_type": "markdown",
   "metadata": {
    "colab_type": "text",
    "id": "WDsQGmu6rv4W"
   },
   "source": [
    "We are interested in whether there is existence of clusters in `hh_demographic` dataset. Since all the columns are categorical, we first transform the dataset using one-hot-encoding per column. Then, we apply PCA to project the dataset into 2 dimensional space, and finally apply KMeans clustering."
   ]
  },
  {
   "cell_type": "code",
   "execution_count": null,
   "metadata": {
    "colab": {},
    "colab_type": "code",
    "id": "uTgjhRZMrv4W",
    "outputId": "76a29b30-49f9-4dbd-fc70-aa47c71b8942"
   },
   "outputs": [],
   "source": [
    "from sklearn.cluster import KMeans\n",
    "from sklearn.decomposition import PCA\n",
    "\n",
    "# Do not include the households with 'unknown' values for some demographic features\n",
    "c = (df_hh_demographic['MARITAL_STATUS_CODE'] != 'U') & \\\n",
    "    (df_hh_demographic['HH_COMP_DESC'] != 'Unknown') & \\\n",
    "    (df_hh_demographic['HOMEOWNER_DESC'] != 'Unknown') & \\\n",
    "    (df_hh_demographic['KID_CATEGORY_DESC'] != 'None/Unknown')\n",
    "\n",
    "# Set number of clusters\n",
    "k = 3\n",
    "\n",
    "# One-hot encode categorical demographic features\n",
    "X = pd.get_dummies(df_hh_demographic)\n",
    "\n",
    "# Use PCA to project the demographic data into 2 dimensions\n",
    "pca = PCA(n_components=2).fit(X)\n",
    "X_proj = pca.transform(X)\n",
    "\n",
    "# Cluster the 2D data using K-means\n",
    "kmeans = KMeans(n_clusters=k).fit(X_proj)\n",
    "labels = kmeans.labels_.reshape(-1, 1) + 1\n",
    "\n",
    "df = pd.DataFrame(np.concatenate((X_proj, labels), axis=1), columns=['Principal Component 1', 'Principal Component 2', 'Cluster'])\n",
    "df['Cluster'] = df['Cluster'].astype(int)\n",
    "\n",
    "f, ax = plt.subplots(figsize=(14, 12))\n",
    "sns.scatterplot(x='Principal Component 1', y='Principal Component 2',  data=df, hue='Cluster', palette=sns.color_palette('muted', n_colors=k))\n",
    "plt.show()"
   ]
  },
  {
   "cell_type": "markdown",
   "metadata": {
    "colab_type": "text",
    "id": "ODmeTjUarv4X"
   },
   "source": [
    "Although, PCA is hard to interpret, however, in the graph above we can see that there are 2 or 3 distinguishable clusters. This might suggest of cluster existence in higher dimensions and we will use this information for further insights in the final version of the project. It is also evident that there are roughly 16 smaller cluster in the above plot. This is due to the discretization of the data. Even after performing PCA, the discrete values become part of the two main components, and therefore also discretize the data into groups. Therefore, we can safely ignore those 16 smaller groups, as they are no \"deeper\" meaning."
   ]
  },
  {
   "cell_type": "code",
   "execution_count": null,
   "metadata": {},
   "outputs": [],
   "source": [
    "df = df_hh_demographic.copy()\n",
    "df['Cluster'] = labels\n",
    "\n",
    "print(df[df['Cluster'] == 1]['HOUSEHOLD_SIZE_DESC'].value_counts())\n",
    "print()\n",
    "print(df[df['Cluster'] == 2]['HOUSEHOLD_SIZE_DESC'].value_counts())\n",
    "print()\n",
    "print(df[df['Cluster'] == 3]['HOUSEHOLD_SIZE_DESC'].value_counts())"
   ]
  },
  {
   "cell_type": "markdown",
   "metadata": {},
   "source": [
    "From the data above, we can see that after projecting the data in lower dimension, the clusters in higher dimensions are preserved. For example, taking the household size into account, the first cluster is consisted mainly of households with 2 adults and kinds, the second cluster is consisted of 2 adults with no kids, and the third cluster of singles."
   ]
  },
  {
   "cell_type": "markdown",
   "metadata": {
    "colab_type": "text",
    "id": "hGS6FhL6rv4X"
   },
   "source": [
    "## Part 5: Recap\n",
    "\n",
    "In this milestone we managed to investigate the data, check for missing values and inconsistencies, do feature expansion, and identify the distribution of the most expressive columns. Furthermore, we analysed the household income categories, how much money households spend on average and by how much is that ammount defined by the products price. Additionaly, we saw the coupon usages among income categories, and looked for trends in daily expenses. Likewise, we investigated how the expenditure is distributed amongst goods and whether households prefer some products over others. Finaly, we did extensive demographic analysis and searched for clusters in the data."
   ]
  },
  {
   "cell_type": "markdown",
   "metadata": {
    "colab": {},
    "colab_type": "code",
    "id": "oEui41TUrv4X"
   },
   "source": [
    "## Part 6: Future Steps\n",
    "\n",
    "#### Alternative to Average Bill Amount\n",
    "\n",
    "As opposed to using the average bill amount, experiment with either number of items or average item price because:\n",
    "\n",
    "1. The average number of items purchased is heavily related to how many family members there are (large family $\\implies$ more stuff to buy)\n",
    "2. The average item price is more related to how wealthily a person is (more money $\\implies$ more fancy organic products).\n",
    "\n",
    "#### Alternative to Average Price of the Most Expensive Product\n",
    "\n",
    "The more items you buy, the more likely you are to buy something expensive. Further investigate the average item price.\n",
    "\n",
    "#### In Depth Analysis of Daily Expenditure\n",
    "\n",
    "We saw that households do not shop every day equally. We would like to see why is that the case.\n",
    "\n",
    "#### Outliers\n",
    "\n",
    "There are plots with significant outliers. We will look at those in order to find out what they are and if they influence the dataset in any statistically significant way. Maybe also compare how the average bill amount changes with the demographic data.\n",
    "\n",
    "#### Use the Clusters\n",
    "\n",
    "Use the clusters data obtained with PCA to further analyse the expenditure."
   ]
  }
 ],
 "metadata": {
  "colab": {
   "collapsed_sections": [
    "9c9UvoB5rv4N",
    "SCkgCu_irv4P",
    "X0oVumWCrv4Q",
    "cyNuKn9Urv4S",
    "8Aeqdhunrv4U"
   ],
   "name": "RQ7_mladen_andrej_samuel.ipynb",
   "provenance": [],
   "toc_visible": true
  },
  "kernelspec": {
   "display_name": "Python 3",
   "language": "python",
   "name": "python3"
  },
  "language_info": {
   "codemirror_mode": {
    "name": "ipython",
    "version": 3
   },
   "file_extension": ".py",
   "mimetype": "text/x-python",
   "name": "python",
   "nbconvert_exporter": "python",
   "pygments_lexer": "ipython3",
   "version": "3.6.5"
  },
  "toc": {
   "base_numbering": 1,
   "nav_menu": {},
   "number_sections": false,
   "sideBar": true,
   "skip_h1_title": false,
   "title_cell": "Table of Contents",
   "title_sidebar": "Contents",
   "toc_cell": false,
   "toc_position": {},
   "toc_section_display": true,
   "toc_window_display": true
  },
  "toc-showtags": false,
  "varInspector": {
   "cols": {
    "lenName": 16,
    "lenType": 16,
    "lenVar": 40
   },
   "kernels_config": {
    "python": {
     "delete_cmd_postfix": "",
     "delete_cmd_prefix": "del ",
     "library": "var_list.py",
     "varRefreshCmd": "print(var_dic_list())"
    },
    "r": {
     "delete_cmd_postfix": ") ",
     "delete_cmd_prefix": "rm(",
     "library": "var_list.r",
     "varRefreshCmd": "cat(var_dic_list()) "
    }
   },
   "types_to_exclude": [
    "module",
    "function",
    "builtin_function_or_method",
    "instance",
    "_Feature"
   ],
   "window_display": false
  }
 },
 "nbformat": 4,
 "nbformat_minor": 4
}
